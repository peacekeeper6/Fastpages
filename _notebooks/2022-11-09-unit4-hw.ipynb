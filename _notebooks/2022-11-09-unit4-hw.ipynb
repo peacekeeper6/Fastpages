{
 "cells": [
  {
   "cell_type": "markdown",
   "metadata": {},
   "source": [
    "# Unit 4 Iteration\n",
    "> Iterating\n",
    "\n",
    "- toc: true\n",
    "- badges: true\n",
    "- comments: true\n",
    "- categories: [java]\n",
    "- image: images/Java-Logo.png"
   ]
  },
  {
   "cell_type": "markdown",
   "metadata": {},
   "source": []
  },
  {
   "cell_type": "markdown",
   "metadata": {},
   "source": [
    "# Comparing\n",
    "> Comparing numbers, strings, objects\n",
    "- Use the \"==\" operator to compare values"
   ]
  },
  {
   "cell_type": "code",
   "execution_count": 2,
   "metadata": {
    "vscode": {
     "languageId": "java"
    }
   },
   "outputs": [
    {
     "name": "stdout",
     "output_type": "stream",
     "text": [
      "false\n",
      "true\n"
     ]
    }
   ],
   "source": [
    "int a = 1;\n",
    "int b = 2;\n",
    "\n",
    "String c = \"hi\";\n",
    "String d = \"hi\"; //have to use object for strings\n",
    "\n",
    "System.out.println(a == b);\n",
    "System.out.println(c.equals(d));"
   ]
  },
  {
   "cell_type": "markdown",
   "metadata": {},
   "source": [
    "# For loop/enhanced for loop\n",
    "- Used to iterate through items in an iterable list"
   ]
  },
  {
   "cell_type": "code",
   "execution_count": 3,
   "metadata": {
    "vscode": {
     "languageId": "java"
    }
   },
   "outputs": [
    {
     "name": "stdout",
     "output_type": "stream",
     "text": [
      "1\n",
      "2\n",
      "3\n",
      "4\n",
      "5\n"
     ]
    }
   ],
   "source": [
    "int[] array = {1, 2, 3, 4, 5};\n",
    "for (int i : array){\n",
    "    System.out.println(i); //print every item in list\n",
    "}"
   ]
  },
  {
   "cell_type": "markdown",
   "metadata": {},
   "source": [
    "# While loop vs. Do While loop\n",
    "- While loop checks if condition is true then runs code\n",
    "- Do while loops run first then check condition to see if they should run again"
   ]
  },
  {
   "cell_type": "code",
   "execution_count": 5,
   "metadata": {
    "vscode": {
     "languageId": "java"
    }
   },
   "outputs": [
    {
     "name": "stdout",
     "output_type": "stream",
     "text": [
      "do-while loop\n"
     ]
    }
   ],
   "source": [
    "int a = 1;\n",
    "\n",
    "while (a > 1) {\n",
    "    System.out.println(\"while loop\");\n",
    "}\n",
    "\n",
    "do {\n",
    "    System.out.println(\"do-while loop\");\n",
    "} while (a > 1)"
   ]
  },
  {
   "cell_type": "markdown",
   "metadata": {},
   "source": [
    "# Nested Loops\n",
    "- Loop inside of each other for whatever purpose"
   ]
  },
  {
   "cell_type": "code",
   "execution_count": 18,
   "metadata": {
    "vscode": {
     "languageId": "java"
    }
   },
   "outputs": [
    {
     "name": "stdout",
     "output_type": "stream",
     "text": [
      "0\t0\t0\t\n",
      "0\t1\t2\t\n",
      "0\t2\t4\t\n"
     ]
    }
   ],
   "source": [
    "int[][] matrix = new int[3][3];\n",
    "\n",
    "        // add numbers to matrix\n",
    "        for (int row = 0; row < matrix.length; row++) {\n",
    "            for (int col = 0; col < matrix[row].length; col++) {\n",
    "                matrix[row][col] = row * col;\n",
    "            }\n",
    "        }\n",
    "\n",
    "        // print numbers to matrix\n",
    "        for (int row = 0; row < matrix.length; row++) {\n",
    "            for (int col = 0; col < matrix[row].length; col++) {\n",
    "                matrix[row][col] = row * col;\n",
    "                System.out.print(matrix[row][col] + \"\\t\");\n",
    "            }\n",
    "            System.out.println();\n",
    "        }"
   ]
  },
  {
   "cell_type": "markdown",
   "metadata": {},
   "source": [
    "# Unit 4 Homework"
   ]
  },
  {
   "cell_type": "markdown",
   "metadata": {},
   "source": [
    "Write a program where a random number is generated. Then the user tries to guess the number. If they guess too high display something to let them know, and same for if they guess a number that is too low. The loop must iterate until the number is guessed correctly.\n"
   ]
  },
  {
   "cell_type": "code",
   "execution_count": null,
   "metadata": {
    "vscode": {
     "languageId": "java"
    }
   },
   "outputs": [],
   "source": [
    "import java.lang.Math;\n",
    "import java.util.Scanner;\n",
    "\n",
    "public class NumberGuess {\n",
    "    private int answer;\n",
    "    private int guess;\n",
    "    Scanner in = new Scanner(System.in);\n",
    "    public NumberGuess() {\n",
    "        this.answer = (int) Math.floor(Math.random()*10 + 1);\n",
    "        System.out.println(answer);\n",
    "    }\n",
    "    public void play() {\n",
    "        while (answer != guess) {\n",
    "            this.getGuess();\n",
    "        }\n",
    "        in.close();\n",
    "    }\n",
    "    public void getGuess() {\n",
    "        System.out.print(\"Guess a number 1-10: \");\n",
    "        this.guess = in.nextInt();\n",
    "        System.out.println(this.guess);\n",
    "        if (this.guess > this.answer) {\n",
    "            System.out.println(\"too high\");\n",
    "        } else if (this.guess < this.answer) {\n",
    "            System.out.println(\"too low\");\n",
    "        } else {\n",
    "            System.out.println(\"congrats\");\n",
    "        }\n",
    "    }\n",
    "    public static void main(String[] args) {\n",
    "        NumberGuess num = new NumberGuess();\n",
    "        num.play();\n",
    "    }\n",
    "}"
   ]
  },
  {
   "cell_type": "markdown",
   "metadata": {},
   "source": [
    "![](my_icons/unit4hw.PNG)"
   ]
  }
 ],
 "metadata": {
  "kernelspec": {
   "display_name": "Java",
   "language": "java",
   "name": "java"
  },
  "language_info": {
   "codemirror_mode": "java",
   "file_extension": ".jshell",
   "mimetype": "text/x-java-source",
   "name": "Java",
   "pygments_lexer": "java",
   "version": "11.0.16+8-post-Ubuntu-0ubuntu120.04"
  },
  "orig_nbformat": 4
 },
 "nbformat": 4,
 "nbformat_minor": 2
}
