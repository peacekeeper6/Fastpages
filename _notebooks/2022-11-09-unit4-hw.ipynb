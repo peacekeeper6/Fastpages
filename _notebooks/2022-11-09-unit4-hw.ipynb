{
 "cells": [
  {
   "cell_type": "markdown",
   "metadata": {},
   "source": [
    "# Unit 4 Homework\n",
    "> Iteration\n",
    "\n",
    "- toc: true\n",
    "- badges: true\n",
    "- comments: true\n",
    "- categories: [java]\n",
    "- image: images/Java-Logo.png"
   ]
  },
  {
   "cell_type": "markdown",
   "metadata": {},
   "source": [
    "Write a program where a random number is generated. Then the user tries to guess the number. If they guess too high display something to let them know, and same for if they guess a number that is too low. The loop must iterate until the number is guessed correctly.\n"
   ]
  },
  {
   "cell_type": "code",
   "execution_count": 2,
   "metadata": {
    "vscode": {
     "languageId": "java"
    }
   },
   "outputs": [],
   "source": [
    "import java.lang.Math;\n",
    "import java.util.Scanner;\n",
    "\n",
    "public class NumberGuess {\n",
    "    private int answer;\n",
    "    private int guess;\n",
    "    Scanner in = new Scanner(System.in);\n",
    "    public NumberGuess() {\n",
    "        this.answer = (int) Math.floor(Math.random()*10 + 1);\n",
    "        System.out.println(answer);\n",
    "    }\n",
    "    public void play() {\n",
    "        while (answer != guess) {\n",
    "            this.getGuess();\n",
    "        }\n",
    "        in.close();\n",
    "    }\n",
    "    public void getGuess() {\n",
    "        System.out.print(\"Guess a number 1-10: \");\n",
    "        this.guess = in.nextInt();\n",
    "        System.out.println(this.guess);\n",
    "        if (this.guess > this.answer) {\n",
    "            System.out.println(\"too high\");\n",
    "        } else if (this.guess < this.answer) {\n",
    "            System.out.println(\"too low\");\n",
    "        } else {\n",
    "            System.out.println(\"congrats\");\n",
    "        }\n",
    "    }\n",
    "    public static void main(String[] args) {\n",
    "        NumberGuess num = new NumberGuess();\n",
    "        num.play();\n",
    "    }\n",
    "}"
   ]
  },
  {
   "cell_type": "markdown",
   "metadata": {},
   "source": [
    "# Unit 4 Homework\n",
    "> Boolean Expressions and If Statements\n",
    "\n",
    "- toc: true\n",
    "- badges: true\n",
    "- comments: true\n",
    "- categories: [java]\n",
    "- image: images/Java-Logo.png"
   ]
  },
  {
   "cell_type": "markdown",
   "metadata": {},
   "source": [
    "Write a program where a random number is generated. Then the user tries to guess the number. If they guess too high display something to let them know, and same for if they guess a number that is too low. The loop must iterate until the number is guessed correctly.\n"
   ]
  },
  {
   "cell_type": "code",
   "execution_count": null,
   "metadata": {
    "vscode": {
     "languageId": "java"
    }
   },
   "outputs": [],
   "source": [
    "import java.lang.Math;\n",
    "import java.util.Scanner;\n",
    "\n",
    "public class NumberGuess {\n",
    "    private int answer;\n",
    "    private int guess;\n",
    "    Scanner in = new Scanner(System.in);\n",
    "    public NumberGuess() {\n",
    "        this.answer = (int) Math.floor(Math.random()*10 + 1);\n",
    "        System.out.println(answer);\n",
    "    }\n",
    "    public void play() {\n",
    "        while (answer != guess) {\n",
    "            this.getGuess();\n",
    "        }\n",
    "        in.close();\n",
    "    }\n",
    "    public void getGuess() {\n",
    "        System.out.print(\"Guess a number 1-10: \");\n",
    "        this.guess = in.nextInt();\n",
    "        System.out.println(this.guess);\n",
    "        if (this.guess > this.answer) {\n",
    "            System.out.println(\"too high\");\n",
    "        } else if (this.guess < this.answer) {\n",
    "            System.out.println(\"too low\");\n",
    "        } else {\n",
    "            System.out.println(\"congrats\");\n",
    "        }\n",
    "    }\n",
    "    public static void main(String[] args) {\n",
    "        NumberGuess num = new NumberGuess();\n",
    "        num.play();\n",
    "    }\n",
    "}"
   ]
  },
  {
   "cell_type": "markdown",
   "metadata": {},
   "source": [
    "![](my_icons/unit4hw.PNG)"
   ]
  }
 ],
 "metadata": {
  "kernelspec": {
   "display_name": "Java",
   "language": "java",
   "name": "java"
  },
  "language_info": {
   "codemirror_mode": "java",
   "file_extension": ".jshell",
   "mimetype": "text/x-java-source",
   "name": "Java",
   "pygments_lexer": "java",
   "version": "11.0.16+8-post-Ubuntu-0ubuntu120.04"
  },
  "orig_nbformat": 4
 },
 "nbformat": 4,
 "nbformat_minor": 2
}
