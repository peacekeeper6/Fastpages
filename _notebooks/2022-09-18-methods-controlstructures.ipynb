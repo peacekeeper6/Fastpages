{
 "cells": [
  {
   "cell_type": "markdown",
   "metadata": {},
   "source": [
    "# Methods and Control Structures \n",
    "> Free Response question #1\n",
    "\n",
    "- title: Methods and Control Structures Notebook\n",
    "- toc: true\n",
    "- categories: [jupyter]\n",
    "- permalink: /unit/2\n",
    "- image: images.primitivess.jpg"
   ]
  },
  {
   "cell_type": "markdown",
   "metadata": {},
   "source": [
    "1. This question involves simulation of the play and scoring of a single-player video game. In the game, a player\n",
    "attempts to complete three levels. A level in the game is represented by the Level class.\n",
    "public class Level\n",
    "{\n",
    "    /** Returns true if the player reached the goal on this level and returns false otherwise */\n",
    "    public boolean goalReached()\n",
    "    { /* implementation not shown */ }\n",
    "\n",
    "    /** Returns the number of points (a positive integer) recorded for this level */\n",
    "    public int getPoints()\n",
    "    { /* implementation not shown */ }\n",
    "\n",
    "    // There may be instance variables, constructors, and methods that are not shown.\n",
    "}"
   ]
  },
  {
   "cell_type": "markdown",
   "metadata": {},
   "source": [
    "Play of the game is represented by the Game class. You will write two methods of the Game class.\n",
    "\n",
    "public class Game\n",
    "{\n",
    "    private Level levelOne;\n",
    "    private Level levelTwo;\n",
    "    private Level levelThree;\n",
    "\n",
    "/** Postcondition: All instance variables have been initialized. */\n",
    "public Game()\n",
    "{ /* implementation not shown */ }\n",
    "\n",
    "/** Returns true if this game is a bonus game and returns false otherwise */\n",
    "public boolean isBonus()\n",
    "{ /* implementation not shown */ }\n",
    "\n",
    "/** Simulates the play of this Game (consisting of three levels) and updates all relevant\n",
    "* game data\n",
    "*/\n",
    "public void play()\n",
    "{ /* implementation not shown */ }\n",
    "\n",
    "/** Returns the score earned in the most recently played game, as described in part (a) */\n",
    "public int getScore()\n",
    "{ /* to be implemented in part (a) */ }\n",
    "\n",
    "/** Simulates the play of num games and returns the highest score earned, as\n",
    "* described in part (b)\n",
    "* Precondition: num > 0\n",
    "*/\n",
    "public int playManyTimes(int num)\n",
    "{ /* to be implemented in part (b) */ }\n",
    "\n",
    "// There may be instance variables, constructors, and methods that are not shown.\n",
    "}"
   ]
  },
  {
   "cell_type": "markdown",
   "metadata": {},
   "source": [
    "(a) Write the getScore method, which returns the score for the most recently played game. Each game\n",
    "consists of three levels. The score for the game is computed using the following helper methods.\n",
    "- The isBonus method of the Game class returns true if this is a bonus game\n",
    "and returns false otherwise.\n",
    "- The goalReached method of the Level class returns true if the goal has\n",
    "been reached on a particular level and returns false otherwise.\n",
    "- The getPoints method of the Level class returns the number of points recorded\n",
    "on a particular level. Whether or not recorded points are earned (included in the game\n",
    "score) depends on the rules of the game, which follow.\n",
    "The score for the game is computed according to the following rules.\n",
    "- Level one points are earned only if the level one goal is reached. Level two points are\n",
    "earned only if both the level one and level two goals are reached. Level three points are\n",
    "earned only if the goals of all three levels are reached.\n",
    "- The score for the game is the sum of the points earned for levels one, two, and three.\n",
    "- If the game is a bonus game, the score for the game is tripled."
   ]
  },
  {
   "cell_type": "code",
   "execution_count": null,
   "metadata": {},
   "outputs": [],
   "source": [
    "public int getScore() {\n",
    "    int points = 0;\n",
    "    if (levelOne.goalReached()) {\n",
    "        points += 200;\n",
    "        if (levelTwo.goalReached()) {\n",
    "            points += 100;\n",
    "            if (levelThree.goalReached()) {\n",
    "                points += 500;\n",
    "            }\n",
    "        }\n",
    "        else {\n",
    "            if (levelThree.goalReached()) {\n",
    "                points += 500;\n",
    "            }\n",
    "        }\n",
    "    }\n",
    "    if (game.isBonus()) {\n",
    "        points * 3;\n",
    "    }\n",
    "    System.out.println(points);\n",
    "}\n",
    "getScore(null);"
   ]
  },
  {
   "cell_type": "markdown",
   "metadata": {},
   "source": [
    "(b) Write the playManyTimes method, which simulates the play of num games and returns the\n",
    "highest game score earned. For example, if the four plays of the game that are simulated as a result of the\n",
    "method call playManyTimes(4) earn scores of 75, 50, 90, and 20, then the method\n",
    "should return 90.\n",
    "\n",
    "Play of the game is simulated by calling the helper method play. Note that if play is called only\n",
    "one time followed by multiple consecutive calls to getScore, each call to getScore will return\n",
    "the score earned in the single simulated play of the game.\n",
    "\n",
    "Complete the playManyTimes method. Assume that getScore works as intended, regardless\n",
    "of what you wrote in part (a). You must call play and getScore appropriately in order to receive\n",
    "full credit.\n",
    "\n",
    "/** Simulates the play of num games and returns the highest score earned, as\n",
    "* described in part (b)\n",
    "* Precondition: num > 0\n",
    "*/\n",
    "public int playManyTimes(int num)"
   ]
  },
  {
   "cell_type": "code",
   "execution_count": null,
   "metadata": {},
   "outputs": [],
   "source": [
    "public int playManyTimes(int num) {\n",
    "    int highestScore = 0;\n",
    "    for (int i = 0; i < num; i++) {\n",
    "        play();\n",
    "        if (getScore() > highestScore) {\n",
    "            highestScore = getScore();\n",
    "        }\n",
    "    }\n",
    "    System.out.println(highestScore);\n",
    "}\n",
    "playMainTimes(null);"
   ]
  }
 ],
 "metadata": {
  "kernelspec": {
   "display_name": "Java",
   "language": "java",
   "name": "java"
  },
  "language_info": {
   "name": "java"
  },
  "orig_nbformat": 4
 },
 "nbformat": 4,
 "nbformat_minor": 2
}
