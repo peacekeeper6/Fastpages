{
 "cells": [
  {
   "attachments": {},
   "cell_type": "markdown",
   "metadata": {},
   "source": [
    "# Data Types\n",
    "> Types of Data\n",
    "\n",
    "- toc: true\n",
    "- badges: true\n",
    "- comments: true\n",
    "- categories: [jupyter]\n",
    "- image: images/tools.png"
   ]
  },
  {
   "attachments": {},
   "cell_type": "markdown",
   "metadata": {},
   "source": [
    "Write a sample binary addition 1 + 1 = 10"
   ]
  },
  {
   "cell_type": "code",
   "execution_count": 4,
   "metadata": {
    "vscode": {
     "languageId": "java"
    }
   },
   "outputs": [
    {
     "ename": "UnresolvedReferenceException",
     "evalue": "Attempt to use definition snippet with unresolved references in Snippet:ClassKey(binaryAddition)#12-public class binaryAddition {\n    int int1 = 1;\n    int int2 = 1;\n    int int3 = int1 + int2;\n    String int3Binary;\n    public void binaryAddition(String args[]) {\n        // this.int1 = int1;\n        // this.int2 = int2;\n        // this.int3 = int3;\n        // this.int3Binary = int3Binary;\n        System.out.println(int3);\n        int3Binary = Integer.toBinaryString(int3);\n        System.out.println(int3Binary);\n    }\n    public static void main(String args[]){\n        binaryAddition var = new binaryAddition();\n        var.binaryAddition();\n        // System.out.println(int3);\n        // int3Binary = Integer.toBinaryString(int3);\n        // System.out.println(int3Binary);\n    }\n}",
     "output_type": "error",
     "traceback": []
    }
   ],
   "source": [
    "public class binaryAddition {\n",
    "    int int1 = 1;\n",
    "    int int2 = 1;\n",
    "    int int3 = int1 + int2;\n",
    "    String int3Binary;\n",
    "    public void binaryAddition(int1, int2) {\n",
    "        this.int1 = int1;\n",
    "        this.int2 = int2;\n",
    "        this.int3 = int3;\n",
    "        this.int3Binary = int3Binary;\n",
    "        // System.out.println(int3);\n",
    "        // int3Binary = Integer.toBinaryString(int3);\n",
    "        // System.out.println(int3Binary);\n",
    "    }\n",
    "    public static void main(String args[]){\n",
    "        binaryAddition var = new binaryAddition(1, 1);\n",
    "        var.binaryAddition();\n",
    "        // System.out.println(int3);\n",
    "        // int3Binary = Integer.toBinaryString(int3);\n",
    "        // System.out.println(int3Binary);\n",
    "    }\n",
    "}\n",
    "binaryAddition.main(null);"
   ]
  },
  {
   "cell_type": "code",
   "execution_count": 6,
   "metadata": {
    "vscode": {
     "languageId": "java"
    }
   },
   "outputs": [
    {
     "name": "stdout",
     "output_type": "stream",
     "text": [
      "Main method before changeAtomicInteger(n): n = 5 hash code = 782313362\n",
      "In changeAtomicInteger method\n",
      "\tBefore change: n = 5 hash code = 782313362\n",
      "\tAfter change: n = 15 hash code = 782313362\n",
      "Main method after changeAtomicInteger(n): n = 15 hash code = 782313362\n"
     ]
    }
   ],
   "source": [
    "import java.util.concurrent.atomic.AtomicInteger;\n",
    "\n",
    "public class PassByReference {\n",
    "    \n",
    "    public static void changeAtomicInteger(AtomicInteger n) {\n",
    "        System.out.println(\"In changeAtomicInteger method\");\n",
    "        System.out.println(\"\\tBefore change: n = \" + \n",
    "                            n + // prints 5\n",
    "                            \" hash code = \" + \n",
    "                            n.hashCode()); \n",
    "        n.set(n.get() + 10);  // at this point, we are clearly working with reference data type\n",
    "        System.out.println(\"\\tAfter change: n = \" + \n",
    "                            n + // prints 15\n",
    "                            \" hash code = \" + \n",
    "                            n.hashCode()); \n",
    "}\n",
    "\n",
    "    public static void main(String[] args) {\n",
    "        AtomicInteger n = new AtomicInteger(5); // unlike conventional wrapper class, this requires new\n",
    "        System.out.println(\"Main method before changeAtomicInteger(n): n = \" + \n",
    "                            n + // prints 5\n",
    "                            \" hash code = \" + \n",
    "                            n.hashCode()); \n",
    "        changeAtomicInteger(n);\n",
    "        System.out.println(\"Main method after changeAtomicInteger(n): n = \" + \n",
    "                            n +  // now prints 15\n",
    "                            \" hash code = \" + \n",
    "                            n.hashCode()); \n",
    "    }\n",
    "}\n",
    "PassByReference.main(null);"
   ]
  },
  {
   "cell_type": "code",
   "execution_count": 5,
   "metadata": {
    "vscode": {
     "languageId": "java"
    }
   },
   "outputs": [
    {
     "name": "stdout",
     "output_type": "stream",
     "text": [
      "Main method before changeInteger(n): n = 5 hash code = 5\n",
      "In changeInteger method\n",
      "\tBefore change: n = 5 hash code = 5\n",
      "\tAfter change: n = 15 hash code = 15\n",
      "Main method after changeInteger(n): n = 5 hash code = 5\n"
     ]
    }
   ],
   "source": [
    "public class IntegerByValueOrReference {\n",
    "    \n",
    "    public static void changeInteger(Integer n) {\n",
    "        System.out.println(\"In changeInteger method\");\n",
    "        System.out.println(\"\\tBefore change: n = \" + \n",
    "                            n + // prints 5\n",
    "                            \" hash code = \" + \n",
    "                            n.hashCode()); \n",
    "\n",
    "        n += 10;  // behind the scenes, this is:  n = new Integer(n+10)\n",
    "        \n",
    "        System.out.println(\"\\tAfter change: n = \" + \n",
    "                            n + // prints 15\n",
    "                            \" hash code = \" + \n",
    "                            n.hashCode()); \n",
    "    }\n",
    "\n",
    "    public static void main(String[] args) {\n",
    "        Integer n = 5;\n",
    "        System.out.println(\"Main method before changeInteger(n): n = \" + \n",
    "                            n + // prints 5\n",
    "                            \" hash code = \" + \n",
    "                            n.hashCode()); \n",
    "\n",
    "        changeInteger(n);\n",
    "        \n",
    "        System.out.println(\"Main method after changeInteger(n): n = \" + \n",
    "                            n +  // now prints 15\n",
    "                            \" hash code = \" + \n",
    "                            n.hashCode());     \n",
    "    }\n",
    "}\n",
    "IntegerByValueOrReference.main(null);"
   ]
  },
  {
   "cell_type": "code",
   "execution_count": 33,
   "metadata": {
    "vscode": {
     "languageId": "java"
    }
   },
   "outputs": [
    {
     "name": "stdout",
     "output_type": "stream",
     "text": [
      "2\n",
      "10\n"
     ]
    }
   ],
   "source": [
    "int int1 = 1;\n",
    "int int2 = 1;\n",
    "int int3 = int1 + int2;\n",
    "System.out.println(int3);\n",
    "\n",
    "String int3Binary;\n",
    "int3Binary = Integer.toBinaryString(int3);\n",
    "System.out.println(int3Binary);\n",
    "\n",
    "// String answer;\n",
    "// answer = Integer.parseInt(int3Binary, 2);\n",
    "// System.out.println(Integer.parseInt(int3Binary);"
   ]
  }
 ],
 "metadata": {
  "kernelspec": {
   "display_name": "Java",
   "language": "java",
   "name": "java"
  },
  "language_info": {
   "codemirror_mode": "java",
   "file_extension": ".jshell",
   "mimetype": "text/x-java-source",
   "name": "Java",
   "pygments_lexer": "java",
   "version": "11.0.16+8-post-Ubuntu-0ubuntu120.04"
  },
  "orig_nbformat": 4
 },
 "nbformat": 4,
 "nbformat_minor": 2
}
