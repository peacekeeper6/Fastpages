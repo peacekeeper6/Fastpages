{
 "cells": [
  {
   "attachments": {},
   "cell_type": "markdown",
   "metadata": {},
   "source": [
    "# Test\n",
    "> Test\n",
    "\n",
    "- toc: true\n",
    "- badges: true\n",
    "- comments: true\n",
    "- categories: [quiz]\n",
    "- image: my_icons/Java-Logo.PNG"
   ]
  },
  {
   "attachments": {},
   "cell_type": "markdown",
   "metadata": {},
   "source": [
    "# Part 1"
   ]
  },
  {
   "cell_type": "code",
   "execution_count": 12,
   "metadata": {},
   "outputs": [
    {
     "name": "stdout",
     "output_type": "stream",
     "text": [
      "book1 ID: 902, Book name: Book 1\n",
      "book2 ID: 253, Book name: Book 2\n",
      "Number of books in library: 2\n"
     ]
    }
   ],
   "source": [
    "import java.util.Random;\n",
    "\n",
    "public class Book {\n",
    "    public String bookTitle;\n",
    "    public static int bookCount;\n",
    "    public int bookID;\n",
    "\n",
    "    public Book(String bookTitle) {\n",
    "        this.bookTitle = bookTitle;\n",
    "    }\n",
    "    // public String title(bookTitle) {\n",
    "    //     this.bookTitle = bookTitle;\n",
    "    // }\n",
    "    public int generateUniqueId() {\n",
    "        Random rand = new Random();\n",
    "        int bookID = rand.nextInt(1000);\n",
    "        bookCount++;\n",
    "        return bookID;\n",
    "    }\n",
    "    public int getBookCount() {\n",
    "        // bookCount = 2;\n",
    "        return bookCount;\n",
    "    }\n",
    "    public long shelfLife() {\n",
    "        long startTime = System.nanoTime();\n",
    "        long endTime = System.nanoTime();\n",
    "        long time = endTime - startTime;\n",
    "        return time;\n",
    "    }\n",
    "    public String toString() {\n",
    "        // System.out.println(\"This library contains the books \" + book1 + \", \" + book2);\n",
    "        return(bookTitle);\n",
    "    }\n",
    "    public static void tester(String args[]) {\n",
    "        Book book1 = new Book(\"Book 1\");\n",
    "        Book book2 = new Book(\"Book 2\");\n",
    "        System.out.println(\"book1 ID: \" + book1.generateUniqueId() + \", Book name: \" + book1.toString());\n",
    "        System.out.println(\"book2 ID: \" + book2.generateUniqueId() + \", Book name: \" + book2.toString());\n",
    "        System.out.println(\"Number of books in library: \" + bookCount);\n",
    "    }\n",
    "}\n",
    "Book.tester(null);"
   ]
  },
  {
   "attachments": {},
   "cell_type": "markdown",
   "metadata": {},
   "source": [
    "# Part 2"
   ]
  },
  {
   "cell_type": "code",
   "execution_count": 26,
   "metadata": {},
   "outputs": [
    {
     "name": "stdout",
     "output_type": "stream",
     "text": [
      "novel 1\n",
      "Shelf life: 400\n",
      "novel 2\n",
      "Shelf life: 200\n"
     ]
    }
   ],
   "source": [
    "public class Novel extends Book{\n",
    "    public String author;\n",
    "    \n",
    "    public Novel(String bookTitle){\n",
    "        super(bookTitle);\n",
    "    }\n",
    "\n",
    "    public void setAuthor(String author) {\n",
    "        this.author = author;\n",
    "    }\n",
    "\n",
    "    public void author(String author){\n",
    "        this.author = author;\n",
    "    }\n",
    "\n",
    "    public String getAuthor(){\n",
    "        return author;\n",
    "    }\n",
    "    \n",
    "    public static void main(String[] args){\n",
    "        Novel novel1 = new Novel(\"novel 1\");\n",
    "        Novel novel2 = new Novel(\"novel 2\");\n",
    "        System.out.println(novel1.toString());\n",
    "        System.out.println(\"Shelf life: \" + novel1.shelfLife());\n",
    "        System.out.println(novel2.toString());\n",
    "        System.out.println(\"Shelf life: \" + novel2.shelfLife());\n",
    "    }\n",
    "}\n",
    "Novel.main(null);"
   ]
  },
  {
   "cell_type": "code",
   "execution_count": 27,
   "metadata": {},
   "outputs": [
    {
     "name": "stdout",
     "output_type": "stream",
     "text": [
      "textbook 1\n",
      "Shelf life: 100\n",
      "textbook 2\n",
      "Shelf life: 100\n"
     ]
    }
   ],
   "source": [
    "public class Textbook extends Book{\n",
    "    public String publisher;\n",
    "    \n",
    "    public Textbook(String bookTitle){\n",
    "        super(bookTitle);\n",
    "    }\n",
    "\n",
    "    public void publisher(String publisher){\n",
    "        this.publisher = publisher;\n",
    "    }\n",
    "\n",
    "    public String getPublisher(){\n",
    "        return publisher;\n",
    "    }\n",
    "\n",
    "    public static void main(String[] args){\n",
    "        Textbook textbook1 = new Textbook(\"textbook 1\");\n",
    "        Textbook textbook2 = new Textbook(\"textbook 2\");\n",
    "        System.out.println(textbook1.toString());\n",
    "        System.out.println(\"Shelf life: \" + textbook1.shelfLife());\n",
    "        System.out.println(textbook2.toString());\n",
    "        System.out.println(\"Shelf life: \" + textbook2.shelfLife());\n",
    "    }\n",
    "}\n",
    "Textbook.main(null);"
   ]
  },
  {
   "cell_type": "code",
   "execution_count": 3,
   "metadata": {},
   "outputs": [],
   "source": [
    "public class Novel extends Book {\n",
    "    public String author;\n",
    "\n",
    "    public void setAuthor(String author) {\n",
    "        this.author = author;\n",
    "    }\n",
    "\n",
    "    public String getAuthor() {\n",
    "        return author;\n",
    "    }\n",
    "\n",
    "    public int shelfLife() {\n",
    "        long startTime = System.nanoTime();\n",
    "        long endTime = System.nanoTime();\n",
    "        long time = endTime - startTime;\n",
    "        return time;\n",
    "    }\n",
    "    public static void main(String args[]) {\n",
    "        Novel a = new Novel();\n",
    "        a.shelfLife();\n",
    "    }\n",
    "}\n",
    "Novel.main(null);"
   ]
  }
 ],
 "metadata": {
  "kernelspec": {
   "display_name": "Java",
   "language": "java",
   "name": "java"
  },
  "language_info": {
   "codemirror_mode": "java",
   "file_extension": ".jshell",
   "mimetype": "text/x-java-source",
   "name": "java",
   "pygments_lexer": "java",
   "version": "11.0.16+8-post-Ubuntu-0ubuntu120.04"
  },
  "orig_nbformat": 4
 },
 "nbformat": 4,
 "nbformat_minor": 2
}
