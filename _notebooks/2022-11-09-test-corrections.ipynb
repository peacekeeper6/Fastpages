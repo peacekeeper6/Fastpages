{
 "cells": [
  {
   "cell_type": "markdown",
   "metadata": {},
   "source": [
    "# Test Corrections\n",
    "> Test Corrections\n",
    "\n",
    "- title: Test Corrections\n",
    "- toc: true\n",
    "- categories: [jupyter]\n",
    "- image: images/tools.png"
   ]
  },
  {
   "cell_type": "markdown",
   "metadata": {},
   "source": [
    "Homework"
   ]
  },
  {
   "cell_type": "markdown",
   "metadata": {},
   "source": [
    "[Unit 1](https://peacekeeper6.github.io/fastpages/java/2022/11/09/unit1-hw.html)"
   ]
  },
  {
   "cell_type": "markdown",
   "metadata": {},
   "source": [
    "[Unit 2](https://peacekeeper6.github.io/fastpages/java/2022/11/09/unit2-hw.html)"
   ]
  },
  {
   "cell_type": "markdown",
   "metadata": {},
   "source": [
    "[Unit 3](https://peacekeeper6.github.io/fastpages/java/2022/11/09/unit3-hw.html)"
   ]
  },
  {
   "cell_type": "markdown",
   "metadata": {},
   "source": [
    "[Unit 4](https://peacekeeper6.github.io/fastpages/java/2022/11/09/unit4-hw.html)"
   ]
  },
  {
   "cell_type": "markdown",
   "metadata": {},
   "source": [
    "[Unit 5](https://peacekeeper6.github.io/fastpages/java/2022/11/09/unit5-hw.html)"
   ]
  },
  {
   "cell_type": "markdown",
   "metadata": {},
   "source": [
    "[Unit 6](https://peacekeeper6.github.io/fastpages/java/2022/11/09/unit6-hw.html)"
   ]
  },
  {
   "cell_type": "markdown",
   "metadata": {},
   "source": [
    "[Unit 7 - our presentation](https://yashshah138.github.io/Fastpages/week-10/2022/10/26/ArrayList-Presentation.html)"
   ]
  },
  {
   "cell_type": "markdown",
   "metadata": {},
   "source": [
    "Test Corrections"
   ]
  },
  {
   "cell_type": "markdown",
   "metadata": {},
   "source": [
    "![](my_icons/mcqq.PNG)"
   ]
  },
  {
   "cell_type": "markdown",
   "metadata": {},
   "source": [
    "![](my_icons/q5.PNG)\n",
    "I got this one wrong because I was getting confused about where it was indexing; College Board uses 1, while regular Java uses 0"
   ]
  },
  {
   "cell_type": "markdown",
   "metadata": {},
   "source": [
    "![](my_icons/qq9.PNG)\n",
    "I got this one wrong because I forgot that the \"+=\" operator already implied that it was doing sum = sum + [variable name]"
   ]
  },
  {
   "cell_type": "markdown",
   "metadata": {},
   "source": [
    "![](my_icons/q16.PNG)\n",
    "My answer to this is wrong because the second array [a2] is supposed to come after the first one [a1]."
   ]
  },
  {
   "cell_type": "markdown",
   "metadata": {},
   "source": [
    "![](my_icons/q17.PNG)\n",
    "I got this one wrong because I didn't realize that the size of this array is unable to be changed. The loop would cycle through the array and make the next index apply to the previous one starting from int k = 3. There would be two 7s at the end because the array length has been met."
   ]
  },
  {
   "cell_type": "markdown",
   "metadata": {},
   "source": [
    "![](my_icons/q24.PNG)\n",
    "I got this one wrong because I was having hard understanding the logic behind this question. I now realize that the value of oldArray is defining the indices of the 2D array."
   ]
  },
  {
   "cell_type": "markdown",
   "metadata": {},
   "source": [
    "![](my_icons/q31.PNG)\n",
    "I'm not sure what I was thinking when answering this question."
   ]
  },
  {
   "cell_type": "markdown",
   "metadata": {},
   "source": [
    "![](my_icons/q35.PNG)\n",
    "I got this one wrong because I wasn't sure how the number would ever reach a value of 0. Now I recognize that the variable \"num\" is assigned 0 on the fourth iteration."
   ]
  },
  {
   "cell_type": "markdown",
   "metadata": {},
   "source": [
    "![](my_icons/q39.PNG)\n",
    "I got this wrong because I didn't realize that the function was being called again. If I knew this, then the answer would have been 16 instead of exiting the function with the mathematical operation 27 / 3."
   ]
  }
 ],
 "metadata": {
  "kernelspec": {
   "display_name": "Java",
   "language": "java",
   "name": "java"
  },
  "language_info": {
   "name": "java",
   "version": "3.8.10"
  },
  "orig_nbformat": 4,
  "vscode": {
   "interpreter": {
    "hash": "916dbcbb3f70747c44a77c7bcd40155683ae19c65e1c03b4aa3499c5328201f1"
   }
  }
 },
 "nbformat": 4,
 "nbformat_minor": 2
}
