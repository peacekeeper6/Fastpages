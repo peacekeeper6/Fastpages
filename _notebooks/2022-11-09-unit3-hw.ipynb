{
 "cells": [
  {
   "cell_type": "markdown",
   "metadata": {},
   "source": [
    "# Unit 3 Boolean Expressions and If Statements\n",
    "> Control Structures\n",
    "\n",
    "- toc: true\n",
    "- badges: true\n",
    "- comments: true\n",
    "- categories: [java]\n",
    "- image: images/Java-Logo.png"
   ]
  },
  {
   "cell_type": "markdown",
   "metadata": {},
   "source": [
    "# Compound Boolean Expression\n",
    "- Grouping boolean expressions to ensure that a condition is met in multiple occasions"
   ]
  },
  {
   "cell_type": "code",
   "execution_count": 6,
   "metadata": {
    "vscode": {
     "languageId": "java"
    }
   },
   "outputs": [
    {
     "name": "stdout",
     "output_type": "stream",
     "text": [
      "one statement is true, one statement is false\n"
     ]
    }
   ],
   "source": [
    "boolean a = true;\n",
    "boolean b = false;\n",
    "\n",
    "if (a == true || b == true) {\n",
    "    if (a == true && b == true) {\n",
    "        System.out.println(\"both statements are true\");\n",
    "    }\n",
    "    else {\n",
    "        System.out.println(\"one statement is true, one statement is false\");\n",
    "    }\n",
    "}\n",
    "else {\n",
    "    System.out.println(\"both statements are false\");\n",
    "}"
   ]
  },
  {
   "cell_type": "markdown",
   "metadata": {},
   "source": [
    "# Truth Tables\n",
    "- Used to see values of boolean expressions <- good visualization"
   ]
  },
  {
   "cell_type": "code",
   "execution_count": 8,
   "metadata": {
    "vscode": {
     "languageId": "java"
    }
   },
   "outputs": [
    {
     "name": "stdout",
     "output_type": "stream",
     "text": [
      "0 0 0 \n",
      "0 0 1 \n",
      "0 1 0 \n",
      "0 1 1 \n",
      "1 0 0 \n",
      "1 0 1 \n",
      "1 1 0 \n",
      "1 1 1 \n"
     ]
    }
   ],
   "source": [
    "public class TruthTable {\n",
    "    private static void printTruthTable(int n) {\n",
    "        int rows = (int) Math.pow(2,n);\n",
    "\n",
    "        for (int i=0; i<rows; i++) {\n",
    "            for (int j=n-1; j>=0; j--) {\n",
    "                System.out.print((i/(int) Math.pow(2, j))%2 + \" \");\n",
    "            }\n",
    "            System.out.println();\n",
    "        }\n",
    "    }\n",
    "    public static void main(String[] args) {\n",
    "        printTruthTable(3); \n",
    "    }\n",
    "}\n",
    "TruthTable.main(null);"
   ]
  },
  {
   "cell_type": "markdown",
   "metadata": {},
   "source": [
    "# De'Morgans Law\n",
    "- Used to simplify boolean expressions\n",
    "- You distribute symbols"
   ]
  },
  {
   "cell_type": "code",
   "execution_count": 11,
   "metadata": {
    "vscode": {
     "languageId": "java"
    }
   },
   "outputs": [
    {
     "name": "stdout",
     "output_type": "stream",
     "text": [
      "true true true\n"
     ]
    }
   ],
   "source": [
    "boolean a = true;\n",
    "boolean b = false;\n",
    "\n",
    "boolean result = !(a && b) || (!(a || b));\n",
    "boolean result2 = !a || !b && !(!a && !b); //De'Morgans once\n",
    "boolean result3 = !a || !b && a || b; //De'Morgans twice\n",
    "\n",
    "System.out.println(result + \" \" + result2 + \" \" + result3);\n"
   ]
  },
  {
   "cell_type": "markdown",
   "metadata": {},
   "source": [
    "# Unit 3 Homework"
   ]
  },
  {
   "cell_type": "markdown",
   "metadata": {},
   "source": [
    "2009 FRQ 3b"
   ]
  },
  {
   "cell_type": "code",
   "execution_count": null,
   "metadata": {
    "vscode": {
     "languageId": "java"
    }
   },
   "outputs": [],
   "source": [
    "public int getChargeStartTime (int chargeTime) {\n",
    "    int startHour = 0;\n",
    "    int lowPrice = 500_000;\n",
    "    for (int x = 0; x < 23; x++) {\n",
    "        if (lowPrice > getChargingCost(x, chargeTime)) {\n",
    "            lowPrice = getChargingCost(x, chargeTime);\n",
    "            startHour = x;\n",
    "        }\n",
    "    }\n",
    "    return startHour;\n",
    "}"
   ]
  },
  {
   "cell_type": "markdown",
   "metadata": {},
   "source": [
    "2017 FRQ 1b"
   ]
  },
  {
   "cell_type": "code",
   "execution_count": null,
   "metadata": {
    "vscode": {
     "languageId": "java"
    }
   },
   "outputs": [],
   "source": [
    "public boolean isStrictlyIncreasing () {\n",
    "    boolean increasing = true;\n",
    "    for (int i = 1; i < digitListSize(); i++) {\n",
    "        if (digitList.get(i-1) >= digitList.get(i)) {\n",
    "            increasing = false;\n",
    "        }\n",
    "    }\n",
    "    return increasing;\n",
    "}"
   ]
  },
  {
   "cell_type": "markdown",
   "metadata": {},
   "source": [
    "2019 FRQ 3b"
   ]
  },
  {
   "cell_type": "code",
   "execution_count": null,
   "metadata": {
    "vscode": {
     "languageId": "java"
    }
   },
   "outputs": [],
   "source": [
    "public boolean isBalanced(ArrayList<String> delimiters) {\n",
    "    int numOpen = 0, numClosed = 0;\n",
    "    for(String d : delimiters) {\n",
    "        if(d.equals(openDel))\n",
    "            numOpen++;\n",
    "        if(d.equals(closeDel))\n",
    "            numClosed++;\n",
    "        if(numClosed > numOpen)\n",
    "            return false;\n",
    "    }\n",
    "    return numOpen == numClosed;\n",
    "}"
   ]
  }
 ],
 "metadata": {
  "kernelspec": {
   "display_name": "Java",
   "language": "java",
   "name": "java"
  },
  "language_info": {
   "codemirror_mode": "java",
   "file_extension": ".jshell",
   "mimetype": "text/x-java-source",
   "name": "Java",
   "pygments_lexer": "java",
   "version": "11.0.16+8-post-Ubuntu-0ubuntu120.04"
  },
  "orig_nbformat": 4,
  "vscode": {
   "interpreter": {
    "hash": "916dbcbb3f70747c44a77c7bcd40155683ae19c65e1c03b4aa3499c5328201f1"
   }
  }
 },
 "nbformat": 4,
 "nbformat_minor": 2
}
