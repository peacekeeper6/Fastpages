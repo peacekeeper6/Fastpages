{
 "cells": [
  {
   "cell_type": "markdown",
   "metadata": {},
   "source": [
    "# Unit 3 Homework\n",
    "> Boolean Expressions and If Statements\n",
    "\n",
    "- toc: true\n",
    "- badges: true\n",
    "- comments: true\n",
    "- categories: [java]\n",
    "- image: images/Java-Logo.png"
   ]
  },
  {
   "cell_type": "markdown",
   "metadata": {},
   "source": [
    "2009 FRQ 3b"
   ]
  },
  {
   "cell_type": "code",
   "execution_count": null,
   "metadata": {},
   "outputs": [],
   "source": [
    "public int getChargeStartTime (int chargeTime) {\n",
    "    int startHour = 0;\n",
    "    int lowPrice = 500_000;\n",
    "    for (int x = 0; x < 23; x++) {\n",
    "        if (lowPrice > getChargingCost(x, chargeTime)) {\n",
    "            lowPrice = getChargingCost(x, chargeTime);\n",
    "            startHour = x;\n",
    "        }\n",
    "    }\n",
    "    return startHour;\n",
    "}"
   ]
  },
  {
   "cell_type": "markdown",
   "metadata": {},
   "source": [
    "2017 FRQ 1b"
   ]
  },
  {
   "cell_type": "code",
   "execution_count": null,
   "metadata": {},
   "outputs": [],
   "source": [
    "public boolean isStrictlyIncreasing () {\n",
    "    boolean increasing = true;\n",
    "    for (int i = 1; i < digitListSize(); i++) {\n",
    "        if (digitList.get(i-1) >= digitList.get(i)) {\n",
    "            increasing = false;\n",
    "        }\n",
    "    }\n",
    "    return increasing;\n",
    "}"
   ]
  },
  {
   "cell_type": "markdown",
   "metadata": {},
   "source": [
    "2019 FRQ 3b"
   ]
  },
  {
   "cell_type": "code",
   "execution_count": null,
   "metadata": {},
   "outputs": [],
   "source": [
    "public boolean isBalanced(ArrayList<String> delimiters) {\n",
    "    int numOpen = 0, numClosed = 0;\n",
    "    for(String d : delimiters) {\n",
    "        if(d.equals(openDel))\n",
    "            numOpen++;\n",
    "        if(d.equals(closeDel))\n",
    "            numClosed++;\n",
    "        if(numClosed > numOpen)\n",
    "            return false;\n",
    "    }\n",
    "    return numOpen == numClosed;\n",
    "}"
   ]
  }
 ],
 "metadata": {
  "kernelspec": {
   "display_name": "Java",
   "language": "java",
   "name": "java"
  },
  "language_info": {
   "name": "java",
   "version": "3.8.10"
  },
  "orig_nbformat": 4,
  "vscode": {
   "interpreter": {
    "hash": "916dbcbb3f70747c44a77c7bcd40155683ae19c65e1c03b4aa3499c5328201f1"
   }
  }
 },
 "nbformat": 4,
 "nbformat_minor": 2
}
