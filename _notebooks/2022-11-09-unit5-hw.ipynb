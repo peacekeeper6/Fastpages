{
 "cells": [
  {
   "cell_type": "markdown",
   "metadata": {},
   "source": [
    "# Unit 5 Writing Classes\n",
    "> Classes Writing\n",
    "\n",
    "- toc: true\n",
    "- badges: true\n",
    "- comments: true\n",
    "- categories: [java]\n",
    "- image: images/Java-Logo.png"
   ]
  },
  {
   "cell_type": "markdown",
   "metadata": {},
   "source": [
    "# Creating a class"
   ]
  },
  {
   "cell_type": "code",
   "execution_count": 1,
   "metadata": {},
   "outputs": [],
   "source": [
    "class NewClass { //use class keyword\n",
    "    public static void main (String[] args) {\n",
    "        NewClass obj = new NewClass(); //main method, called when class is ran\n",
    "    }\n",
    "}\n",
    "NewClass.main(null);"
   ]
  },
  {
   "cell_type": "markdown",
   "metadata": {},
   "source": [
    "# Constructor\n",
    "- Called when a new object is created"
   ]
  },
  {
   "cell_type": "code",
   "execution_count": 4,
   "metadata": {},
   "outputs": [],
   "source": [
    "class NewClass {\n",
    "    int a;\n",
    "    int b;\n",
    "\n",
    "    public NewClass (int a1, int b1) {\n",
    "        this.a = a1; //this keyword gives access to properties of the class. In this case it's int a and int b\n",
    "        this.b = b1;\n",
    "    }\n",
    "    public static void main (String[] args) {\n",
    "        NewClass obj = new NewClass(1, 2);\n",
    "    }\n",
    "}\n",
    "NewClass.main(null);"
   ]
  },
  {
   "cell_type": "markdown",
   "metadata": {},
   "source": [
    "# Accessor/Getter\n",
    "- Getters used to get properties of an object outside of the class"
   ]
  },
  {
   "cell_type": "code",
   "execution_count": 7,
   "metadata": {},
   "outputs": [
    {
     "name": "stdout",
     "output_type": "stream",
     "text": [
      "1\n"
     ]
    }
   ],
   "source": [
    "class NewClass {\n",
    "    int a;\n",
    "    int b;\n",
    "\n",
    "    public NewClass (int a1, int b1) {\n",
    "        this.a = a1; //this keyword gives access to properties of the class. In this case it's int a and int b\n",
    "        this.b = b1;\n",
    "    }\n",
    "    public int geta1() {\n",
    "        return this.a; //getting\n",
    "    }\n",
    "    public static void main (String[] args) {\n",
    "        NewClass obj = new NewClass(1, 2);\n",
    "        System.out.println(obj.geta1()); //accessing\n",
    "    }\n",
    "}\n",
    "NewClass.main(null);"
   ]
  },
  {
   "cell_type": "markdown",
   "metadata": {},
   "source": [
    "# Mutator/setter\n",
    "- Mutators allow for properties of an object to be changed outside of the class\n",
    "- Their return type is void because they don't have to return anything; they're just setting values"
   ]
  },
  {
   "cell_type": "code",
   "execution_count": 8,
   "metadata": {},
   "outputs": [
    {
     "name": "stdout",
     "output_type": "stream",
     "text": [
      "15\n"
     ]
    }
   ],
   "source": [
    "class NewClass {\n",
    "    int a;\n",
    "    int b;\n",
    "\n",
    "    public NewClass (int a1, int b1) {\n",
    "        this.a = a1; //this keyword gives access to properties of the class. In this case it's int a and int b\n",
    "        this.b = b1;\n",
    "    }\n",
    "    public int geta1() {\n",
    "        return this.a; //getting\n",
    "    }\n",
    "    public void seta (int aValue) {\n",
    "        this.a = aValue; //setting\n",
    "    }\n",
    "    public static void main (String[] args) {\n",
    "        NewClass obj = new NewClass(1, 2);\n",
    "        obj.seta(15); //mutating\n",
    "        System.out.println(obj.geta1()); //accessing\n",
    "    }\n",
    "}\n",
    "NewClass.main(null);"
   ]
  },
  {
   "cell_type": "markdown",
   "metadata": {},
   "source": [
    "# Access Modifiers\n",
    "- Allow properties and methods to be accessed outside the class\n",
    "- public means that it's accessible outside while private means it's not"
   ]
  },
  {
   "cell_type": "code",
   "execution_count": null,
   "metadata": {},
   "outputs": [],
   "source": [
    "class NewClass {\n",
    "    int a;\n",
    "    int b;\n",
    "\n",
    "    public NewClass (int a1, int b1) {\n",
    "        this.a = a1; //this keyword gives access to properties of the class. In this case it's int a and int b\n",
    "        this.b = b1;\n",
    "    }\n",
    "    public int geta1() {\n",
    "        return this.a; //getting\n",
    "    }\n",
    "    public void seta (int aValue) {\n",
    "        this.a = aValue; //setting\n",
    "    }\n",
    "    public static void main (String[] args) {\n",
    "        NewClass obj = new NewClass(1, 2);\n",
    "        obj.seta(15); //mutating\n",
    "        System.out.println(obj.geta1()); //accessing\n",
    "    }\n",
    "}\n",
    "// these all work because the methods are public so they can be accessed\n",
    "NewClass.main(null);"
   ]
  },
  {
   "cell_type": "markdown",
   "metadata": {},
   "source": [
    "# Static methods/properties\n",
    "- Part of the class and don't require an object\n",
    "- Only one instance that is the same for all objects"
   ]
  },
  {
   "cell_type": "code",
   "execution_count": 9,
   "metadata": {},
   "outputs": [
    {
     "name": "stdout",
     "output_type": "stream",
     "text": [
      "This is a String\n"
     ]
    }
   ],
   "source": [
    "class NewClass {\n",
    "    static String stringMethod (String a) { //static method \n",
    "        return a + \"String\";\n",
    "    }\n",
    "\n",
    "    public static void main(String[] args) {\n",
    "        System.out.println(NewClass.stringMethod(\"This is a \")); //no object is needed here\n",
    "    }\n",
    "}\n",
    "NewClass.main(null);"
   ]
  },
  {
   "cell_type": "markdown",
   "metadata": {},
   "source": [
    "# Unit 5 Homework"
   ]
  },
  {
   "cell_type": "markdown",
   "metadata": {},
   "source": [
    "2021 FRQ 1a"
   ]
  },
  {
   "cell_type": "code",
   "execution_count": null,
   "metadata": {},
   "outputs": [],
   "source": [
    "public int scoreGuess (String guess){\n",
    "    int count = 0;\n",
    "    for (int i = 0; i <= secret.length() - guess.length(); i++) {\n",
    "        if (secret.substring(i, i + guess.length()). equals(guess)) {\n",
    "            count++;\n",
    "        }\n",
    "    }\n",
    "    return count * Math.pow(guess.length(), 2);\n",
    "}"
   ]
  },
  {
   "cell_type": "markdown",
   "metadata": {},
   "source": [
    "2021 FRQ 3a"
   ]
  },
  {
   "cell_type": "code",
   "execution_count": null,
   "metadata": {},
   "outputs": [],
   "source": [
    "public void addMembers (String[] names, int gradYear) {\n",
    "    for (string n : names) {\n",
    "        MemberInfo newM = new MemberInfo (n, gradYear, true);\n",
    "        memberList.add(newM);\n",
    "    }\n",
    "}"
   ]
  },
  {
   "cell_type": "code",
   "execution_count": null,
   "metadata": {},
   "outputs": [],
   "source": []
  }
 ],
 "metadata": {
  "kernelspec": {
   "display_name": "Java",
   "language": "java",
   "name": "java"
  },
  "language_info": {
   "codemirror_mode": "java",
   "file_extension": ".jshell",
   "mimetype": "text/x-java-source",
   "name": "java",
   "pygments_lexer": "java",
   "version": "11.0.16+8-post-Ubuntu-0ubuntu120.04"
  },
  "orig_nbformat": 4
 },
 "nbformat": 4,
 "nbformat_minor": 2
}
