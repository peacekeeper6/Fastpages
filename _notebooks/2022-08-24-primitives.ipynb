{
 "cells": [
  {
   "cell_type": "markdown",
   "metadata": {},
   "source": [
    "# Primitives Notebook\n",
    "> To demonstrate my Primitives learning\n",
    "\n",
    "- toc: true\n",
    "- badges: true\n",
    "- comments: true\n",
    "- categories: [primitives]\n",
    "- image: images/primitivess.jpg"
   ]
  },
  {
   "cell_type": "markdown",
   "metadata": {},
   "source": [
    "# Wrapper Classes \n",
    "- Java likes everything to have classes\n",
    "- Wrapper classes are a way to use primitive data types like int, char, byte, etc\n",
    "- Wrapper classes also have methods while primitives do not \n",
    "    - Methods are built-in and do certain actions like convert string to int\n",
    "- Luckily primitives are not OOP, unlike everything else in Java\n"
   ]
  },
  {
   "cell_type": "code",
   "execution_count": 1,
   "metadata": {},
   "outputs": [
    {
     "name": "stdout",
     "output_type": "stream",
     "text": [
      "Enter an integer: 5\n",
      "Enter a double: 335.0\n",
      "Enter a boolean: Not an boolean (true or false), java.util.InputMismatchException\n",
      "Enter a String: \n"
     ]
    }
   ],
   "source": [
    "// java style to import library\n",
    "import java.util.Scanner;\n",
    "\n",
    "// class must alway have 1st letter as uppercase, CamelCase is Java Class convention\n",
    "public class ScanPrimitives {\n",
    "    public static void main(String[] args) {    \n",
    "        Scanner input;\n",
    "\n",
    "        // primitive int\n",
    "        input = new Scanner(System.in);\n",
    "        System.out.print(\"Enter an integer: \");\n",
    "        try {\n",
    "            int sampleInputInt = input.nextInt();\n",
    "            System.out.println(sampleInputInt);\n",
    "        } catch (Exception e) {  // if not an integer\n",
    "            System.out.println(\"Not an integer (form like 159), \" + e);\n",
    "        }\n",
    "        input.close();\n",
    "\n",
    "        // primitive double\n",
    "        input = new Scanner(System.in);\n",
    "        System.out.print(\"Enter a double: \");\n",
    "        try {\n",
    "            double sampleInputDouble = input.nextDouble();\n",
    "            System.out.println(sampleInputDouble);\n",
    "        } catch (Exception e) {  // if not a number\n",
    "            System.out.println(\"Not an double (form like 9.99), \" + e);\n",
    "        }\n",
    "        input.close();\n",
    "\n",
    "        // primitive boolean\n",
    "        input =  new Scanner(System.in);\n",
    "        System.out.print(\"Enter a boolean: \");\n",
    "        try {\n",
    "            boolean sampleInputBoolean = input.nextBoolean();\n",
    "            System.out.println(sampleInputBoolean);\n",
    "        } catch (Exception e) {  // if not true or false\n",
    "            System.out.println(\"Not an boolean (true or false), \" + e);\n",
    "        }\n",
    "        input.close();\n",
    "\n",
    "        // wrapper class String\n",
    "        input =  new Scanner(System.in);\n",
    "        System.out.print(\"Enter a String: \");\n",
    "        try {\n",
    "            String sampleInputString = input.nextLine();\n",
    "            System.out.println(sampleInputString);\n",
    "        } catch (Exception e) { // this may never happen\n",
    "            System.out.println(\"Not an String, \" + e);\n",
    "        }\n",
    "        input.close();\n",
    "    }\n",
    "}\n",
    "ScanPrimitives.main(null);"
   ]
  },
  {
   "cell_type": "markdown",
   "metadata": {},
   "source": [
    "# Code.org"
   ]
  },
  {
   "cell_type": "code",
   "execution_count": 52,
   "metadata": {},
   "outputs": [
    {
     "name": "stdout",
     "output_type": "stream",
     "text": [
      "Result: 7.5\n"
     ]
    }
   ],
   "source": [
    "int a = 3;\n",
    "int b = 10;\n",
    "double c = 2.5;\n",
    "c = 2 * a - 15 / b + c;\n",
    "\n",
    "System.out.println(\"Result: \" + c)"
   ]
  },
  {
   "cell_type": "markdown",
   "metadata": {},
   "source": [
    "# Casting\n",
    "> Used in Java to change data types of variables\n",
    " - Doubles are rounded to the nearest integer (int) (x + 0.5) or (int) (x - 0.5) for negative numbers"
   ]
  },
  {
   "cell_type": "code",
   "execution_count": 67,
   "metadata": {},
   "outputs": [
    {
     "name": "stdout",
     "output_type": "stream",
     "text": [
      "1 - produced because int/int\n",
      "1.5 - produced because double/int\n",
      "1.5 - produced because int/double\n",
      "1.5 - produced because double/int\n",
      "69.8 - This result is possible because the number turns into a double, meaning that there is no truncation\n"
     ]
    }
   ],
   "source": [
    "public class Casting {\n",
    "    public static void main(String[] args) {\n",
    "    System.out.println (6/4 + \" - produced because int/int\");\n",
    "    System.out.println(6.0/4 + \" - produced because double/int\") ;\n",
    "    System.out.println(6/4.0 + \" - produced because int/double\");\n",
    "    System.out.println((double) 6/4 + \" - produced because double/int\");\n",
    "    }\n",
    "    public static void ex1(String[] args) {\n",
    "        double a = 13.124;\n",
    "        // int b = a; <- This result would not be produced because double to int conversion results in loss/truncation of numbers\n",
    "        // System.out.println(b);\n",
    "    }\n",
    "    public static void ex2(String[] args) {\n",
    "        // int a = 6.75; \n",
    "        // int b = 124;\n",
    "        // System.out.println(a + b); <- Thus, this result is not possible using the compiler. However, doing this manually would result in 131 because rounding is needed for ints. \n",
    "    }\n",
    "    public static void ex3(String[] args) {\n",
    "        int a = 82;\n",
    "        double b = 12.2;\n",
    "        System.out.println(a - b + \" - This result is possible because the number turns into a double, meaning that there is no truncation\"); \n",
    "    }\n",
    "}\n",
    "Casting.main(null);\n",
    "Casting.ex1(null);\n",
    "Casting.ex2(null);\n",
    "Casting.ex3(null);"
   ]
  },
  {
   "cell_type": "markdown",
   "metadata": {},
   "source": [
    "# Hack\n",
    "> Points per game, PPG, calculator"
   ]
  },
  {
   "cell_type": "markdown",
   "metadata": {},
   "source": [
    "- int is used for points, regular season games, and playoff games, which is necessary because these can only be whole numbers\n",
    "- double is used to calculate PPG, which can have decimals in it. Math function is used to limit number of decimals to standard usage\n",
    "- boolean is necessary to ensure player is using google for questions following\n",
    "- string is necessary for player name\n",
    "- For results, double is used to create a number with decimal, which is the standard for calculating PPG in NBA. Thus, things like integer would be unncessary because they are not the standard\n",
    "- Compound assignment operator used in calculating total games played, regular season + playoffs, in order to get total points/games for PPG calculation"
   ]
  },
  {
   "cell_type": "code",
   "execution_count": 49,
   "metadata": {},
   "outputs": [
    {
     "name": "stdout",
     "output_type": "stream",
     "text": [
      "Enter a Player\n",
      "Nice choice, unless you chose Steph Curry\n",
      "True or false: you have Google open right now\n",
      "Google will be important...\n",
      "How many total points did your player score (counting playoffs)?\n",
      "Not bad\n",
      "How many games did your player play in the regular season?\n",
      "That's a lot\n",
      "If your player made the playoffs, how many games did they play there?\n",
      "Total generating...\n",
      "Paul George averaged 24.0 points a game\n"
     ]
    }
   ],
   "source": [
    "import java.util.Scanner;\n",
    "\n",
    "public class ScanPPG {\n",
    "    public static void main(String[] args) {\n",
    "    Scanner input;\n",
    "\n",
    "    input = new Scanner(System.in);\n",
    "    System.out.print(\"Enter a Player\" + System.lineSeparator()); // personal note: do not use ln when making input\n",
    "    String name = input.nextLine();\n",
    "    try {\n",
    "        System.out.println(\"Nice choice, unless you chose Steph Curry\");\n",
    "    } catch (Exception e) {\n",
    "        System.out.println(\"Not a name\");\n",
    "    }\n",
    "    input.close();\n",
    "\n",
    "    input = new Scanner(System.in);\n",
    "    System.out.print(\"True or false: you have Google open right now\" + System.lineSeparator());\n",
    "    boolean resp = input.nextBoolean();\n",
    "    try {\n",
    "        System.out.println(\"Google will be important...\");\n",
    "    } catch (Exception e) {\n",
    "        System.out.println(\"Not true/false\");\n",
    "    }\n",
    "    input.close();\n",
    "\n",
    "    input = new Scanner(System.in);\n",
    "    System.out.print(\"How many total points did your player score (counting playoffs)?\" + System.lineSeparator());\n",
    "    int points = input.nextInt(); \n",
    "    try {\n",
    "        System.out.println(\"Not bad\");\n",
    "    } catch (Exception e) {\n",
    "        System.out.println(\"Not a number\");\n",
    "    }\n",
    "    input.close();\n",
    "\n",
    "    input = new Scanner(System.in);\n",
    "    System.out.print(\"How many games did your player play in the regular season?\" + System.lineSeparator());\n",
    "    int games = input.nextInt();\n",
    "    try {\n",
    "        System.out.println(\"That's a lot\");\n",
    "    } catch (Exception e) {\n",
    "        System.out.println(\"Not a number\");\n",
    "    }\n",
    "    input.close();\n",
    "\n",
    "    input = new Scanner(System.in);\n",
    "    System.out.print(\"If your player made the playoffs, how many games did they play there?\" + System.lineSeparator());\n",
    "    int playoffgames = input.nextInt();\n",
    "    try {\n",
    "        System.out.println(\"Total generating...\");\n",
    "    } catch (Exception e) {\n",
    "        System.out.println(\"Not a number\");\n",
    "    }\n",
    "    games += playoffgames; //result is playoff games being added to regular season games\n",
    "    input.close();\n",
    "\n",
    "    double PPG = points/games;\n",
    "    double rounded = Math.round(PPG * 10.0) / 10.0;\n",
    "\n",
    "    System.out.println(name + \" averaged \" + rounded + \" points a game\");\n",
    "    }\n",
    "}\n",
    "ScanPPG.main(null);"
   ]
  }
 ],
 "metadata": {
  "kernelspec": {
   "display_name": "Java",
   "language": "java",
   "name": "java"
  },
  "language_info": {
   "codemirror_mode": "java",
   "file_extension": ".jshell",
   "mimetype": "text/x-java-source",
   "name": "java",
   "pygments_lexer": "java",
   "version": "11.0.16+8-post-Ubuntu-0ubuntu120.04"
  },
  "orig_nbformat": 4,
  "vscode": {
   "interpreter": {
    "hash": "916dbcbb3f70747c44a77c7bcd40155683ae19c65e1c03b4aa3499c5328201f1"
   }
  }
 },
 "nbformat": 4,
 "nbformat_minor": 2
}
