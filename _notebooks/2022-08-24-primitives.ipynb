{
 "cells": [
  {
   "cell_type": "markdown",
   "metadata": {},
   "source": [
    "# Primitives Notebook\n",
    "> To demonstrate my Primitives learning\n",
    "\n",
    "- toc: true\n",
    "- badges: true\n",
    "- comments: true\n",
    "- categories: [primitives]\n",
    "- image: images/primitivess.jpg"
   ]
  },
  {
   "cell_type": "markdown",
   "metadata": {},
   "source": [
    "# Wrapper Classes \n",
    "- Java likes everything to have classes\n",
    "- Wrapper classes are a way to use primitive data types like int, char, byte, etc\n",
    "- Wrapper classes also have methods while primitives do not \n",
    "    - Methods are built-in and do certain actions like convert string to int\n",
    "- Luckily primitives are not OOP, unlike everything else in Java\n"
   ]
  },
  {
   "cell_type": "code",
   "execution_count": 1,
   "metadata": {
    "vscode": {
     "languageId": "java"
    }
   },
   "outputs": [
    {
     "name": "stdout",
     "output_type": "stream",
     "text": [
      "Enter an integer: 5\n",
      "Enter a double: 335.0\n",
      "Enter a boolean: Not an boolean (true or false), java.util.InputMismatchException\n",
      "Enter a String: \n"
     ]
    }
   ],
   "source": [
    "// java style to import library\n",
    "import java.util.Scanner;\n",
    "\n",
    "// class must alway have 1st letter as uppercase, CamelCase is Java Class convention\n",
    "public class ScanPrimitives {\n",
    "    public static void main(String[] args) {    \n",
    "        Scanner input;\n",
    "\n",
    "        // primitive int\n",
    "        input = new Scanner(System.in);\n",
    "        System.out.print(\"Enter an integer: \");\n",
    "        try {\n",
    "            int sampleInputInt = input.nextInt();\n",
    "            System.out.println(sampleInputInt);\n",
    "        } catch (Exception e) {  // if not an integer\n",
    "            System.out.println(\"Not an integer (form like 159), \" + e);\n",
    "        }\n",
    "        input.close();\n",
    "\n",
    "        // primitive double\n",
    "        input = new Scanner(System.in);\n",
    "        System.out.print(\"Enter a double: \");\n",
    "        try {\n",
    "            double sampleInputDouble = input.nextDouble();\n",
    "            System.out.println(sampleInputDouble);\n",
    "        } catch (Exception e) {  // if not a number\n",
    "            System.out.println(\"Not an double (form like 9.99), \" + e);\n",
    "        }\n",
    "        input.close();\n",
    "\n",
    "        // primitive boolean\n",
    "        input =  new Scanner(System.in);\n",
    "        System.out.print(\"Enter a boolean: \");\n",
    "        try {\n",
    "            boolean sampleInputBoolean = input.nextBoolean();\n",
    "            System.out.println(sampleInputBoolean);\n",
    "        } catch (Exception e) {  // if not true or false\n",
    "            System.out.println(\"Not an boolean (true or false), \" + e);\n",
    "        }\n",
    "        input.close();\n",
    "\n",
    "        // wrapper class String\n",
    "        input =  new Scanner(System.in);\n",
    "        System.out.print(\"Enter a String: \");\n",
    "        try {\n",
    "            String sampleInputString = input.nextLine();\n",
    "            System.out.println(sampleInputString);\n",
    "        } catch (Exception e) { // this may never happen\n",
    "            System.out.println(\"Not an String, \" + e);\n",
    "        }\n",
    "        input.close();\n",
    "    }\n",
    "}\n",
    "ScanPrimitives.main(null);"
   ]
  },
  {
   "cell_type": "code",
   "execution_count": 31,
   "metadata": {
    "vscode": {
     "languageId": "java"
    }
   },
   "outputs": [
    {
     "ename": "CompilationException",
     "evalue": "",
     "output_type": "error",
     "traceback": [
      "\u001b[1m\u001b[30m|   \u001b[1m\u001b[30m\u001b[0m\u001b[1m\u001b[30m\u001b[41m\u001b[0m\u001b[1m\u001b[30m# Hack\u001b[0m",
      "\u001b[1m\u001b[31millegal character: '#'\u001b[0m",
      "",
      "\u001b[1m\u001b[30m|   \u001b[1m\u001b[30m\u001b[0m\u001b[1m\u001b[30m\u001b[41m\u001b[0m\u001b[1m\u001b[30m> Points per game, PPG, calculator\u001b[0m",
      "\u001b[1m\u001b[31millegal start of expression\u001b[0m",
      ""
     ]
    }
   ],
   "source": [
    "# Hack\n",
    "> Points per game, PPG, calculator"
   ]
  },
  {
   "cell_type": "code",
   "execution_count": 44,
   "metadata": {
    "vscode": {
     "languageId": "java"
    }
   },
   "outputs": [
    {
     "name": "stdout",
     "output_type": "stream",
     "text": [
      "Enter a Player: \n",
      "Nice choice, unless you chose Steph Curry\n",
      "Get ready to break out the Google...\n",
      "How many total points did your player score?\n",
      "Not bad\n",
      "How many games did your player play?\n",
      "That's a lot\n",
      "Paul George averaged 24.3 points a game\n"
     ]
    }
   ],
   "source": [
    "import java.util.Scanner;\n",
    "\n",
    "public class ScanPPG {\n",
    "    public static void main(String[] args) {\n",
    "    Scanner input;\n",
    "\n",
    "    input = new Scanner(System.in);\n",
    "    System.out.print(\"Enter a Player: \" + System.lineSeparator()); // personal note: do not use ln when making input\n",
    "    String name = input.nextLine();\n",
    "    try {\n",
    "        System.out.println(\"Nice choice, unless you chose Steph Curry\");\n",
    "    } catch (Exception e) {\n",
    "        System.out.println(\"Not a name\");\n",
    "    }\n",
    "    input.close();\n",
    "\n",
    "    System.out.println(\"Get ready to break out the Google...\");\n",
    "\n",
    "    input = new Scanner(System.in);\n",
    "    System.out.print(\"How many total points did your player score?\" + System.lineSeparator());\n",
    "    double points = input.nextInt();\n",
    "    try {\n",
    "        System.out.println(\"Not bad\");\n",
    "    } catch (Exception e) {\n",
    "        System.out.println(\"Not a number\");\n",
    "    }\n",
    "    input.close();\n",
    "\n",
    "    input = new Scanner(System.in);\n",
    "    System.out.print(\"How many games did your player play?\" + System.lineSeparator());\n",
    "    double games = input.nextInt();\n",
    "    try {\n",
    "        System.out.println(\"That's a lot\");\n",
    "    } catch (Exception e) {\n",
    "        System.out.println(\"Not a number\");\n",
    "    }\n",
    "    input.close();\n",
    "\n",
    "    double PPG = points/games;\n",
    "    double rounded = Math.round(PPG * 10.0) / 10.0;\n",
    "\n",
    "    System.out.println(name + \" averaged \" + rounded + \" points a game\");\n",
    "    }\n",
    "}\n",
    "ScanPPG.main(null);"
   ]
  }
 ],
 "metadata": {
  "kernelspec": {
   "display_name": "Java",
   "language": "java",
   "name": "java"
  },
  "language_info": {
   "codemirror_mode": "java",
   "file_extension": ".jshell",
   "mimetype": "text/x-java-source",
   "name": "Java",
   "pygments_lexer": "java",
   "version": "11.0.16+8-post-Ubuntu-0ubuntu120.04"
  },
  "orig_nbformat": 4,
  "vscode": {
   "interpreter": {
    "hash": "916dbcbb3f70747c44a77c7bcd40155683ae19c65e1c03b4aa3499c5328201f1"
   }
  }
 },
 "nbformat": 4,
 "nbformat_minor": 2
}
