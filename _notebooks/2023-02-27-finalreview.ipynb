{
 "cells": [
  {
   "attachments": {},
   "cell_type": "markdown",
   "metadata": {},
   "source": [
    "# Jun Lim Tri 2 Final Review Guide\n",
    "> Guide/Review Ticket for my work this trimester\n",
    "\n",
    "- toc: true\n",
    "- badges: true\n",
    "- comments: true\n",
    "- categories: [jupyter]\n",
    "- image: images/tools.png"
   ]
  },
  {
   "attachments": {},
   "cell_type": "markdown",
   "metadata": {},
   "source": [
    "# Frontend work\n",
    "- FRQs [#1](https://guapbeast.github.io/team10/frq1) & [#4](https://guapbeast.github.io/team10/frq4)\n",
    "- [Plan](https://guapbeast.github.io/team10/plan)\n",
    "- [Itinerary page](https://guapbeast.github.io/team10/itinerary) and [Itinerary creation page](https://guapbeast.github.io/team10/new)"
   ]
  },
  {
   "attachments": {},
   "cell_type": "markdown",
   "metadata": {},
   "source": [
    "# Backend work\n",
    "- [Itinerary Object, API, JPA](https://github.com/peacekeeper6/RAYJ/tree/master/src/main/java/com/nighthawk/spring_portfolio/mvc/tripplanner)"
   ]
  }
 ],
 "metadata": {
  "kernelspec": {
   "display_name": "Python 3",
   "language": "python",
   "name": "python3"
  },
  "language_info": {
   "name": "python",
   "version": "3.8.10"
  },
  "orig_nbformat": 4,
  "vscode": {
   "interpreter": {
    "hash": "916dbcbb3f70747c44a77c7bcd40155683ae19c65e1c03b4aa3499c5328201f1"
   }
  }
 },
 "nbformat": 4,
 "nbformat_minor": 2
}
