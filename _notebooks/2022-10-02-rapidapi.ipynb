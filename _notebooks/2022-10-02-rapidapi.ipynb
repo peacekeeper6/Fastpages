{
 "cells": [
  {
   "cell_type": "markdown",
   "metadata": {},
   "source": [
    "# RapidAPI Notebook\n",
    "> RapidAPI\n",
    "\n",
    "- title: RapidAPI Notebook\n",
    "- toc: true\n",
    "- categories: [jupyter]\n",
    "- image: images/tools.png"
   ]
  },
  {
   "cell_type": "code",
   "execution_count": null,
   "metadata": {},
   "outputs": [],
   "source": [
    "import java.net.URI;\n",
    "import java.net.http.HttpClient;\n",
    "import java.net.http.HttpRequest;\n",
    "import java.net.http.HttpResponse;\n",
    "\n",
    "//RapidAPI header  https://rapidapi.com/spamakashrajtech/api/corona-virus-world-and-india-data\n",
    "HttpRequest request = HttpRequest.newBuilder()\n",
    "    .uri(URI.create(\"https://corona-virus-world-and-india-data.p.rapidapi.com/api\"))\n",
    "    .header(\"x-rapidapi-key\", \"dec069b877msh0d9d0827664078cp1a18fajsn2afac35ae063\")\n",
    "    .header(\"x-rapidapi-host\", \"corona-virus-world-and-india-data.p.rapidapi.com\")\n",
    "    .method(\"GET\", HttpRequest.BodyPublishers.noBody())\n",
    "    .build();\n",
    "\n",
    "//RapidAPI request and response\n",
    "HttpResponse<String> response = HttpClient.newHttpClient().send(request, HttpResponse.BodyHandlers.ofString());\n",
    "\n",
    "//RapidAPI Body\n",
    "System.out.println(response.body());"
   ]
  },
  {
   "cell_type": "code",
   "execution_count": 5,
   "metadata": {},
   "outputs": [
    {
     "name": "stdout",
     "output_type": "stream",
     "text": [
      "{\"code\":\"ERROR_CODE_NOT_FOUND\",\"message\":\"This workspace no longer exists.\"}\n"
     ]
    }
   ],
   "source": [
    "import java.net.URI;\n",
    "import java.net.http.HttpClient;\n",
    "import java.net.http.HttpRequest;\n",
    "import java.net.http.HttpResponse;\n",
    "\n",
    "HttpRequest request = HttpRequest.newBuilder()\n",
    "\t\t.uri(URI.create(\"https://spotify-top-charts-2022.p.rapidapi.com/spotify_top_charts_22\"))\n",
    "\t\t.header(\"X-RapidAPI-Key\", \"9e4650470emshc2461cc01c07b29p18b9b5jsnfa759ab87fca\")\n",
    "\t\t.header(\"X-RapidAPI-Host\", \"spotify-top-charts-2022.p.rapidapi.com\")\n",
    "\t\t.method(\"GET\", HttpRequest.BodyPublishers.noBody())\n",
    "\t\t.build();\n",
    "HttpResponse<String> response = HttpClient.newHttpClient().send(request, HttpResponse.BodyHandlers.ofString());\n",
    "System.out.println(response.body());"
   ]
  },
  {
   "cell_type": "code",
   "execution_count": 4,
   "metadata": {},
   "outputs": [
    {
     "name": "stdout",
     "output_type": "stream",
     "text": [
      "[{\"artist\":\"Harry Styles\",\"title\":\"As It Was\",\"image\":\"https://charts-static.billboard.com/img/2022/04/harry-styles-bma-as-it-was-po3-180x180.jpg\",\"award\":false,\"awardsList\":[],\"rank\":1,\"weeksAtNo1\":8,\"lastWeek\":2,\"change\":\"up\",\"peakPosition\":1,\"weeksOnChart\":13},{\"artist\":\"Jack Harlow\",\"title\":\"First Class\",\"image\":\"https://charts-static.billboard.com/img/2018/01/jack-harlow-i43-180x180.jpg\",\"award\":false,\"awardsList\":[],\"rank\":2,\"lastWeek\":3,\"change\":\"up\",\"peakPosition\":1,\"weeksOnChart\":12},{\"artist\":\"Lizzo\",\"title\":\"About Damn Time\",\"image\":\"https://charts-static.billboard.com/img/2022/04/lizzo-o9x-about-damn-time-f6q-180x180.jpg\",\"award\":true,\"awardsList\":[{\"awardName\":\"Gains In Performance\",\"svg\":\"<svg xmlns=\\\"http://www.w3.org/2000/svg\\\" style=\\\"width:100%;height:auto\\\" viewBox=\\\"0 0 128 171.211\\\"><g data-name=\\\"Group 12\\\"><path data-name=\\\"Path 3036\\\" d=\\\"M0 87.211v-24l64-32 64 32v24l-64-32z\\\" fill=\\\"#fcee21\\\"></path><path data-name=\\\"Path 3037\\\" d=\\\"M0 127.211v-24l64-32 64 32v24l-64-32z\\\" fill=\\\"#fcee21\\\"></path><path data-name=\\\"Path 3038\\\" d=\\\"M0 167.211v-24l64-32 64 32v24l-64-32z\\\" fill=\\\"#fcee21\\\"></path><path data-name=\\\"Path 3039\\\" d=\\\"M24.526 59.211H44v112h40v-112h19.474L64 0zm51.474-8v112H52v-112H39.474L64 14.422l24.526 36.789z\\\" fill=\\\"#1a48c4\\\"></path></g></svg>\"}],\"rank\":3,\"lastWeek\":5,\"change\":\"up\",\"peakPosition\":3,\"weeksOnChart\":11},{\"artist\":\"Future Featuring Drake & Tems\",\"title\":\"Wait For U\",\"image\":\"https://charts-static.billboard.com/img/1988/03/future-f8b-180x180.jpg\",\"award\":false,\"awardsList\":[],\"rank\":4,\"lastWeek\":4,\"change\":\"same\",\"peakPosition\":1,\"weeksOnChart\":9},{\"artist\":\"Drake Featuring 21 Savage\",\"title\":\"Jimmy Cooks\",\"image\":\"https://charts-static.billboard.com/img/2009/04/drake-04g-180x180.jpg\",\"award\":false,\"awardsList\":[],\"rank\":5,\"lastWeek\":1,\"change\":\"down\",\"peakPosition\":1,\"weeksOnChart\":2},{\"artist\":\"Kate Bush\",\"title\":\"Running Up That Hill (A Deal With God)\",\"image\":\"https://charts-static.billboard.com/img/2021/03/kate-bush-qv2-running-up-that-hill-1cx-180x180.jpg\",\"award\":false,\"awardsList\":[],\"rank\":6,\"lastWeek\":9,\"change\":\"up\",\"peakPosition\":4,\"weeksOnChart\":25},{\"artist\":\"Beyonce\",\"title\":\"Break My Soul\",\"image\":\"https://charts-static.billboard.com/img/2022/07/beyonce-0na-break-my-soul-kqf-180x180.jpg\",\"award\":true,\"awardsList\":[{\"awardName\":\"Biggest gain in airplay\",\"svg\":\"<svg xmlns=\\\"http://www.w3.org/2000/svg\\\" style=\\\"width:100%;height:auto\\\" viewBox=\\\"0 0 136 165.558\\\"><g data-name=\\\"Group 9\\\"><path data-name=\\\"Path 3019\\\" d=\\\"M116 65.558l-16 24h8v24h16v-24h8z\\\" fill=\\\"#fcee21\\\"></path><path data-name=\\\"Path 3020\\\" d=\\\"M20 65.558l-16 24h8v24h16v-24h8z\\\" fill=\\\"#fcee21\\\"></path><path data-name=\\\"Path 3021\\\" d=\\\"M88 26.47a20 20 0 10-25.1 19.316l-.2.731c-.892 3.258-2.153 7.914-3.66 13.5-3.011 11.166-7 26.056-10.991 40.948-7.971 29.779-15.913 59.561-15.913 59.561l-1.342 5.031h74.424L73.038 45.801A20.018 20.018 0 0088 26.47zm-32 0a12 12 0 1112.065 12c-.086 0-.173-.007-.256-.006A12.008 12.008 0 0156 26.47zm11.951 31.231l9.635 35.857H58.314c3.707-13.832 7.155-26.675 9.637-35.857zm-18.2 67.857a66812.91 66812.91 0 016.42-24h23.564l6.449 24zm-8.545 32c1.8-6.744 4.008-15.021 6.407-24h40.72l6.449 24z\\\" fill=\\\"#1a48c4\\\"></path><path data-name=\\\"Path 3022\\\" d=\\\"M101.169 40.484a36.1 36.1 0 000-28.028l-7.368 3.116a28.1 28.1 0 010 21.8z\\\" fill=\\\"#1a48c4\\\"></path><path data-name=\\\"Path 3023\\\" d=\\\"M42.2 37.368a28.1 28.1 0 010-21.8l-7.368-3.116a36.1 36.1 0 000 28.028z\\\" fill=\\\"#1a48c4\\\"></path><path data-name=\\\"Path 3024\\\" d=\\\"M108.544 9.344a44.158 44.158 0 010 34.251l7.368 3.116a52.156 52.156 0 000-40.483z\\\" fill=\\\"#1a48c4\\\"></path><path data-name=\\\"Path 3025\\\" d=\\\"M20.088 6.228a52.156 52.156 0 000 40.483l7.368-3.116a44.158 44.158 0 010-34.251z\\\" fill=\\\"#1a48c4\\\"></path><path data-name=\\\"Path 3026\\\" d=\\\"M130.655 0l-7.368 3.116a60.216 60.216 0 010 46.707l7.368 3.116a68.214 68.214 0 000-52.939z\\\" fill=\\\"#1a48c4\\\"></path><path data-name=\\\"Path 3027\\\" d=\\\"M5.345 0a68.214 68.214 0 000 52.939l7.368-3.116a60.216 60.216 0 010-46.707z\\\" fill=\\\"#1a48c4\\\"></path></g></svg>\"},{\"awardName\":\"Gains In Performance\",\"svg\":\"<svg xmlns=\\\"http://www.w3.org/2000/svg\\\" style=\\\"width:100%;height:auto\\\" viewBox=\\\"0 0 128 171.211\\\"><g data-name=\\\"Group 12\\\"><path data-name=\\\"Path 3036\\\" d=\\\"M0 87.211v-24l64-32 64 32v24l-64-32z\\\" fill=\\\"#fcee21\\\"></path><path data-name=\\\"Path 3037\\\" d=\\\"M0 127.211v-24l64-32 64 32v24l-64-32z\\\" fill=\\\"#fcee21\\\"></path><path data-name=\\\"Path 3038\\\" d=\\\"M0 167.211v-24l64-32 64 32v24l-64-32z\\\" fill=\\\"#fcee21\\\"></path><path data-name=\\\"Path 3039\\\" d=\\\"M24.526 59.211H44v112h40v-112h19.474L64 0zm51.474-8v112H52v-112H39.474L64 14.422l24.526 36.789z\\\" fill=\\\"#1a48c4\\\"></path></g></svg>\"}],\"rank\":7,\"lastWeek\":15,\"change\":\"up\",\"peakPosition\":7,\"weeksOnChart\":2},{\"artist\":\"Bad Bunny & Chencho Corleone\",\"title\":\"Me Porto Bonito\",\"image\":\"https://charts-static.billboard.com/img/2022/05/bad-bunny-c3m-me-porto-bonito-kug-180x180.jpg\",\"award\":true,\"awardsList\":[{\"awardName\":\"Gains In Performance\",\"svg\":\"<svg xmlns=\\\"http://www.w3.org/2000/svg\\\" style=\\\"width:100%;height:auto\\\" viewBox=\\\"0 0 128 171.211\\\"><g data-name=\\\"Group 12\\\"><path data-name=\\\"Path 3036\\\" d=\\\"M0 87.211v-24l64-32 64 32v24l-64-32z\\\" fill=\\\"#fcee21\\\"></path><path data-name=\\\"Path 3037\\\" d=\\\"M0 127.211v-24l64-32 64 32v24l-64-32z\\\" fill=\\\"#fcee21\\\"></path><path data-name=\\\"Path 3038\\\" d=\\\"M0 167.211v-24l64-32 64 32v24l-64-32z\\\" fill=\\\"#fcee21\\\"></path><path data-name=\\\"Path 3039\\\" d=\\\"M24.526 59.211H44v112h40v-112h19.474L64 0zm51.474-8v112H52v-112H39.474L64 14.422l24.526 36.789z\\\" fill=\\\"#1a48c4\\\"></path></g></svg>\"}],\"rank\":8,\"lastWeek\":11,\"change\":\"up\",\"peakPosition\":7,\"weeksOnChart\":8},{\"artist\":\"Glass Animals\",\"title\":\"Heat Waves\",\"image\":\"https://charts-static.billboard.com/img/2020/07/glass-animals-rtd-heat-waves-o3i-180x180.jpg\",\"award\":false,\"awardsList\":[],\"rank\":9,\"lastWeek\":10,\"change\":\"up\",\"peakPosition\":1,\"weeksOnChart\":76},{\"artist\":\"Joji\",\"title\":\"Glimpse Of Us\",\"image\":\"https://charts-static.billboard.com/img/2022/06/joji-77h-glimpse-of-us-gt3-180x180.jpg\",\"award\":false,\"awardsList\":[],\"rank\":10,\"lastWeek\":8,\"change\":\"down\",\"peakPosition\":8,\"weeksOnChart\":3}]\n"
     ]
    }
   ],
   "source": [
    "import java.net.URI;\n",
    "import java.net.http.HttpClient;\n",
    "import java.net.http.HttpRequest;\n",
    "import java.net.http.HttpResponse;\n",
    "import java.util.Random;\n",
    "\n",
    "HttpRequest request = HttpRequest.newBuilder()\n",
    "\t\t.uri(URI.create(\"https://billboard3.p.rapidapi.com/hot-100?date=2022-07-07&range=1-10\"))\n",
    "\t\t.header(\"X-RapidAPI-Key\", \"9e4650470emshc2461cc01c07b29p18b9b5jsnfa759ab87fca\")\n",
    "\t\t.header(\"X-RapidAPI-Host\", \"billboard3.p.rapidapi.com\")\n",
    "\t\t.method(\"GET\", HttpRequest.BodyPublishers.noBody())\n",
    "\t\t.build();\n",
    "HttpResponse<String> response = HttpClient.newHttpClient().send(request, HttpResponse.BodyHandlers.ofString());\n",
    "\n",
    "\n",
    "// Random r = new Random();\n",
    "// int rn = r.nextInt((100 - 1) + 1) + 1;\n",
    "\n",
    "System.out.println(response.body());"
   ]
  }
 ],
 "metadata": {
  "kernelspec": {
   "display_name": "Java",
   "language": "java",
   "name": "java"
  },
  "language_info": {
   "codemirror_mode": "java",
   "file_extension": ".jshell",
   "mimetype": "text/x-java-source",
   "name": "java",
   "pygments_lexer": "java",
   "version": "11.0.16+8-post-Ubuntu-0ubuntu120.04"
  },
  "orig_nbformat": 4,
  "vscode": {
   "interpreter": {
    "hash": "916dbcbb3f70747c44a77c7bcd40155683ae19c65e1c03b4aa3499c5328201f1"
   }
  }
 },
 "nbformat": 4,
 "nbformat_minor": 2
}
