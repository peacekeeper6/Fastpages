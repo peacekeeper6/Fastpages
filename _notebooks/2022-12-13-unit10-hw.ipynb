{
 "cells": [
  {
   "attachments": {},
   "cell_type": "markdown",
   "metadata": {},
   "source": [
    "# Unit 10 Recursion\n",
    "> Recursion\n",
    "\n",
    "- toc: true\n",
    "- badges: true\n",
    "- comments: true\n",
    "- categories: [java]\n",
    "- image: images/Java-Logo.png"
   ]
  },
  {
   "attachments": {},
   "cell_type": "markdown",
   "metadata": {},
   "source": [
    "# Notes\n",
    "- Recursive method is a method that calls itself. It will have at least one base case that will eventually halt the recursion\n",
    "- Binary search: taking first and last numbers, then find midpoint until we can narrow the term down\n",
    "- Can use recursion with binary search\n",
    "- Merge sort is another method to search with recursion\n",
    "- Merge sort divides the array into halves, then calls itself for the two different halves in order to sort them. It merges the two sorted halves into one list\n",
    "- Recursion trees can be used to visualize a recursive call\n",
    "- With recursion trees, you can trace down every call until the base case"
   ]
  },
  {
   "attachments": {},
   "cell_type": "markdown",
   "metadata": {},
   "source": [
    "Example of Reverse Binary Search with Recursion"
   ]
  },
  {
   "cell_type": "code",
   "execution_count": 5,
   "metadata": {
    "vscode": {
     "languageId": "java"
    }
   },
   "outputs": [
    {
     "name": "stdout",
     "output_type": "stream",
     "text": [
      "index of target: 12\n"
     ]
    }
   ],
   "source": [
    "public class recursion{\n",
    "    public static int recursionBinarySearch(int[] array, int first, int last, int target){\n",
    "        int midpoint;\n",
    "\n",
    "        //if the first number is greater than the last, the target number is not in the list\n",
    "        if (first > last){\n",
    "            System.out.println(-1);\n",
    "            return -1;\n",
    "        }\n",
    "        else{\n",
    "            midpoint = (first+last)/2;\n",
    "\n",
    "            //take the upper bound if number is greater than midpoint\n",
    "            if (array[midpoint] < target){\n",
    "                return recursionBinarySearch(array, midpoint+1, last, target);\n",
    "            }\n",
    "\n",
    "            // take the lower bound if the number is lesser than midpoint\n",
    "            if (array[midpoint] > target){\n",
    "                return recursionBinarySearch(array, first,midpoint-1, target);\n",
    "            }\n",
    "        System.out.println(\"index of target: \" + midpoint);\n",
    "        return midpoint;\n",
    "        }\n",
    "    }\n",
    "\n",
    "    public static void main(String[] args){\n",
    "        // test array in main\n",
    "        int[] test_array = new int[]{ 0,2,4,6,8,10,12,14,16,18,20,22,24,26,28,30,32,34,36,38,40 };\n",
    "        recursion.recursionBinarySearch(test_array, 0, test_array.length, 24);\n",
    "    }\n",
    "}\n",
    "\n",
    "recursion.main(null);"
   ]
  },
  {
   "attachments": {},
   "cell_type": "markdown",
   "metadata": {},
   "source": [
    "Binary Tree Example"
   ]
  },
  {
   "cell_type": "code",
   "execution_count": 8,
   "metadata": {
    "vscode": {
     "languageId": "java"
    }
   },
   "outputs": [
    {
     "name": "stdout",
     "output_type": "stream",
     "text": [
      "8\n"
     ]
    }
   ],
   "source": [
    "public class example{\n",
    "    static int foo(int n) {\n",
    "\n",
    "        if (n < 0){\n",
    "            return 1;\n",
    "        }\n",
    "        else{\n",
    "            return foo(n-2) + foo(n-1);\n",
    "        }\n",
    "\n",
    "    }\n",
    "\n",
    "    public static void main(String args[]){\n",
    "        System.out.println(foo(3));\n",
    "    }\n",
    "}\n",
    "\n",
    "example.main(null);"
   ]
  },
  {
   "attachments": {},
   "cell_type": "markdown",
   "metadata": {},
   "source": [
    "Example of Recursive Loop with Fibonacci"
   ]
  },
  {
   "cell_type": "code",
   "execution_count": 2,
   "metadata": {
    "vscode": {
     "languageId": "java"
    }
   },
   "outputs": [
    {
     "name": "stdout",
     "output_type": "stream",
     "text": [
      "Init method = Stream\n",
      "fibonacci Number 20 = 4181\n",
      "fibonacci List = [0, 1, 1, 2, 3, 5, 8, 13, 21, 34, 55, 89, 144, 233, 377, 610, 987, 1597, 2584, 4181]\n",
      "fibonacci Hashmap = {0=[0], 1=[0, 1], 2=[0, 1, 1], 3=[0, 1, 1, 2], 4=[0, 1, 1, 2, 3], 5=[0, 1, 1, 2, 3, 5], 6=[0, 1, 1, 2, 3, 5, 8], 7=[0, 1, 1, 2, 3, 5, 8, 13], 8=[0, 1, 1, 2, 3, 5, 8, 13, 21], 9=[0, 1, 1, 2, 3, 5, 8, 13, 21, 34], 10=[0, 1, 1, 2, 3, 5, 8, 13, 21, 34, 55], 11=[0, 1, 1, 2, 3, 5, 8, 13, 21, 34, 55, 89], 12=[0, 1, 1, 2, 3, 5, 8, 13, 21, 34, 55, 89, 144], 13=[0, 1, 1, 2, 3, 5, 8, 13, 21, 34, 55, 89, 144, 233], 14=[0, 1, 1, 2, 3, 5, 8, 13, 21, 34, 55, 89, 144, 233, 377], 15=[0, 1, 1, 2, 3, 5, 8, 13, 21, 34, 55, 89, 144, 233, 377, 610], 16=[0, 1, 1, 2, 3, 5, 8, 13, 21, 34, 55, 89, 144, 233, 377, 610, 987], 17=[0, 1, 1, 2, 3, 5, 8, 13, 21, 34, 55, 89, 144, 233, 377, 610, 987, 1597], 18=[0, 1, 1, 2, 3, 5, 8, 13, 21, 34, 55, 89, 144, 233, 377, 610, 987, 1597, 2584], 19=[0, 1, 1, 2, 3, 5, 8, 13, 21, 34, 55, 89, 144, 233, 377, 610, 987, 1597, 2584, 4181]}\n",
      "fibonacci Sequence 1 = [0]\n",
      "fibonacci Sequence 2 = [0, 1]\n",
      "fibonacci Sequence 3 = [0, 1, 1]\n",
      "fibonacci Sequence 4 = [0, 1, 1, 2]\n",
      "fibonacci Sequence 5 = [0, 1, 1, 2, 3]\n",
      "fibonacci Sequence 6 = [0, 1, 1, 2, 3, 5]\n",
      "fibonacci Sequence 7 = [0, 1, 1, 2, 3, 5, 8]\n",
      "fibonacci Sequence 8 = [0, 1, 1, 2, 3, 5, 8, 13]\n",
      "fibonacci Sequence 9 = [0, 1, 1, 2, 3, 5, 8, 13, 21]\n",
      "fibonacci Sequence 10 = [0, 1, 1, 2, 3, 5, 8, 13, 21, 34]\n",
      "fibonacci Sequence 11 = [0, 1, 1, 2, 3, 5, 8, 13, 21, 34, 55]\n",
      "fibonacci Sequence 12 = [0, 1, 1, 2, 3, 5, 8, 13, 21, 34, 55, 89]\n",
      "fibonacci Sequence 13 = [0, 1, 1, 2, 3, 5, 8, 13, 21, 34, 55, 89, 144]\n",
      "fibonacci Sequence 14 = [0, 1, 1, 2, 3, 5, 8, 13, 21, 34, 55, 89, 144, 233]\n",
      "fibonacci Sequence 15 = [0, 1, 1, 2, 3, 5, 8, 13, 21, 34, 55, 89, 144, 233, 377]\n",
      "fibonacci Sequence 16 = [0, 1, 1, 2, 3, 5, 8, 13, 21, 34, 55, 89, 144, 233, 377, 610]\n",
      "fibonacci Sequence 17 = [0, 1, 1, 2, 3, 5, 8, 13, 21, 34, 55, 89, 144, 233, 377, 610, 987]\n",
      "fibonacci Sequence 18 = [0, 1, 1, 2, 3, 5, 8, 13, 21, 34, 55, 89, 144, 233, 377, 610, 987, 1597]\n",
      "fibonacci Sequence 19 = [0, 1, 1, 2, 3, 5, 8, 13, 21, 34, 55, 89, 144, 233, 377, 610, 987, 1597, 2584]\n",
      "fibonacci Sequence 20 = [0, 1, 1, 2, 3, 5, 8, 13, 21, 34, 55, 89, 144, 233, 377, 610, 987, 1597, 2584, 4181]\n"
     ]
    }
   ],
   "source": [
    "/*\n",
    " * Creator: Nighthawk Coding Society\n",
    " * Mini Lab Name: Fibonacci sequence, featuring a Stream Algorithm\n",
    " * \n",
    " */\n",
    "\n",
    " import java.util.ArrayList;  \n",
    " import java.util.HashMap;\n",
    " import java.util.stream.Stream;\n",
    " \n",
    " /* Objective will require changing to abstract class with one or more abstract methods below */\n",
    " public class Fibo {\n",
    "     String name;  // name or title of method\n",
    "     int size;  // nth sequence\n",
    "     int hashID;  // counter for hashIDs in hash map\n",
    "     ArrayList<Long> list;   // captures current Fibonacci sequence\n",
    "     HashMap<Integer, Object> hash;  // captures each sequence leading to final result\n",
    " \n",
    "     /*\n",
    "      Zero parameter constructor uses Telescoping technique to allow setting of the required value nth\n",
    "      @param: none\n",
    "      */\n",
    "     public Fibo() {\n",
    "         this(20); // telescope to avoid code duplication, using default as 20\n",
    "     }\n",
    " \n",
    "     /*\n",
    "      Construct the nth fibonacci number\n",
    "      @param: nth number, the value is constrained to 92 because of overflow in a long\n",
    "      */\n",
    "     public Fibo(int nth) {\n",
    "         this.size = nth;\n",
    "         this.list = new ArrayList<>();\n",
    "         this.hashID = 0;\n",
    "         this.hash = new HashMap<>();\n",
    "         //initialize fibonacci and time mvc\n",
    "         this.init();\n",
    "     }\n",
    " \n",
    "     /*\n",
    "      This Method should be \"abstract\"\n",
    "      Leave method as protected, as it is only authorized to extender of the class\n",
    "      Make new class that extends and defines init()\n",
    "      Inside references within this class would change from this to super\n",
    "      Repeat process using for, while, recursion\n",
    "      */\n",
    "     protected void init() {\n",
    "         this.name = \"Stream\";\n",
    "         Stream.iterate(new long[]{0, 1}, f -> new long[]{f[1], f[0] + f[1]})\n",
    "             .limit(this.size)\n",
    "             .forEach(f -> this.setData(f[0]) );\n",
    "     }\n",
    " \n",
    "     /*\n",
    "      Number is added to fibonacci sequence, current state of \"list\" is added to hash for hashID \"num\"\n",
    "      */\n",
    "     public void setData(long num) {\n",
    "         list.add(num);\n",
    "         hash.put(this.hashID++, list.clone());\n",
    "     }\n",
    " \n",
    "     /*\n",
    "      Custom Getter to return last element in fibonacci sequence\n",
    "      */\n",
    "     public long getNth() {\n",
    "         return list.get(this.size - 1);\n",
    "     }\n",
    " \n",
    "     /*\n",
    "      Custom Getter to return last fibonacci sequence in HashMap\n",
    "      */\n",
    "     public Object getNthSeq(int i) {\n",
    "         return hash.get(i);\n",
    "     }\n",
    " \n",
    "     /*\n",
    "      Console/Terminal supported print method\n",
    "      */\n",
    "     public void print() {\n",
    "         System.out.println(\"Init method = \" + this.name);\n",
    "         System.out.println(\"fibonacci Number \" + this.size + \" = \" + this.getNth());\n",
    "         System.out.println(\"fibonacci List = \" + this.list);\n",
    "         System.out.println(\"fibonacci Hashmap = \" + this.hash);\n",
    "         for (int i=0 ; i<this.size; i++ ) {\n",
    "             System.out.println(\"fibonacci Sequence \" + (i+1) + \" = \" + this.getNthSeq(i));\n",
    "         }\n",
    "     }\n",
    " \n",
    "     /*\n",
    "     Tester class method.  If this becomes abstract you will not be able to test it directly ...\n",
    "     Change this method to  call \"main\" class of each of the extended classes\n",
    "      */\n",
    "     static public void main(String[] args) {\n",
    "         Fibo fib = new Fibo();\n",
    "         fib.print();\n",
    "     }\n",
    " }\n",
    " Fibo.main(null);"
   ]
  },
  {
   "cell_type": "code",
   "execution_count": 4,
   "metadata": {
    "vscode": {
     "languageId": "java"
    }
   },
   "outputs": [
    {
     "name": "stdout",
     "output_type": "stream",
     "text": [
      "Init method = Recursion\n",
      "fibonacci Number 10 = 34\n",
      "fibonacci List = [0, 1, 1, 2, 3, 5, 8, 13, 21, 34]\n",
      "fibonacci Hashmap = {0=[0], 1=[0, 1], 2=[0, 1, 1], 3=[0, 1, 1, 2], 4=[0, 1, 1, 2, 3], 5=[0, 1, 1, 2, 3, 5], 6=[0, 1, 1, 2, 3, 5, 8], 7=[0, 1, 1, 2, 3, 5, 8, 13], 8=[0, 1, 1, 2, 3, 5, 8, 13, 21], 9=[0, 1, 1, 2, 3, 5, 8, 13, 21, 34]}\n",
      "fibonacci Sequence 1 = [0]\n",
      "fibonacci Sequence 2 = [0, 1]\n",
      "fibonacci Sequence 3 = [0, 1, 1]\n",
      "fibonacci Sequence 4 = [0, 1, 1, 2]\n",
      "fibonacci Sequence 5 = [0, 1, 1, 2, 3]\n",
      "fibonacci Sequence 6 = [0, 1, 1, 2, 3, 5]\n",
      "fibonacci Sequence 7 = [0, 1, 1, 2, 3, 5, 8]\n",
      "fibonacci Sequence 8 = [0, 1, 1, 2, 3, 5, 8, 13]\n",
      "fibonacci Sequence 9 = [0, 1, 1, 2, 3, 5, 8, 13, 21]\n",
      "fibonacci Sequence 10 = [0, 1, 1, 2, 3, 5, 8, 13, 21, 34]\n"
     ]
    }
   ],
   "source": [
    "// Recursion\n",
    "public class FiboRecur extends Fibo {\n",
    "\n",
    "    public FiboRecur() {\n",
    "        this(10); // telescope to avoid code duplication, using default\n",
    "    }\n",
    "\n",
    "    public FiboRecur(int nth) {\n",
    "        this.size = nth;\n",
    "        this.list = new ArrayList<>();\n",
    "        this.hashID = 0;\n",
    "        this.hash = new HashMap<>();\n",
    "        //initialize fibonacci and time mvc\n",
    "        this.init();\n",
    "    }\n",
    "\n",
    "    static public void main(String[] args) {\n",
    "        FiboRecur rFib  = new FiboRecur();\n",
    "        rFib.print();\n",
    "    }\n",
    "\n",
    "    // Recursion function, using int i as a counter\n",
    "    protected void recur(long[] f, int i) {\n",
    "        // Sets data using beginning value\n",
    "        this.setData(f[0]);\n",
    "        // Cretes new long\n",
    "        f = new long[]{f[1], f[0] + f[1]};\n",
    "        // Adds to counter\n",
    "        i++;\n",
    "        if (i < this.size) {\n",
    "            // Recusion continues if size limit has not been reached\n",
    "            this.recur(f, i);\n",
    "        }\n",
    "        \n",
    "    }\n",
    "\n",
    "    // Custom init using recursion loop instead\n",
    "    protected void init() {\n",
    "        this.name = \"Recursion\";\n",
    "        // Uses int i as a counter for recusion, also creates initial long[]\n",
    "        int i = 0;\n",
    "        long[] f = new long[] {0,1};\n",
    "        // input long and counter i into recursion function\n",
    "        this.recur(f, i);\n",
    "    }\n",
    "}\n",
    "\n",
    "FiboRecur.main(null)"
   ]
  }
 ],
 "metadata": {
  "kernelspec": {
   "display_name": "Java",
   "language": "java",
   "name": "java"
  },
  "language_info": {
   "codemirror_mode": "java",
   "file_extension": ".jshell",
   "mimetype": "text/x-java-source",
   "name": "Java",
   "pygments_lexer": "java",
   "version": "11.0.16+8-post-Ubuntu-0ubuntu120.04"
  },
  "orig_nbformat": 4,
  "vscode": {
   "interpreter": {
    "hash": "916dbcbb3f70747c44a77c7bcd40155683ae19c65e1c03b4aa3499c5328201f1"
   }
  }
 },
 "nbformat": 4,
 "nbformat_minor": 2
}
