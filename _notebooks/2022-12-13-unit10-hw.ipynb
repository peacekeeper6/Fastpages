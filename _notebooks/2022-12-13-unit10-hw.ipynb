{
 "cells": [
  {
   "attachments": {},
   "cell_type": "markdown",
   "metadata": {},
   "source": [
    "# Unit 10 Recursion\n",
    "> Recursion\n",
    "\n",
    "- toc: true\n",
    "- badges: true\n",
    "- comments: true\n",
    "- categories: [java]\n",
    "- image: images/Java-Logo.png"
   ]
  },
  {
   "attachments": {},
   "cell_type": "markdown",
   "metadata": {},
   "source": [
    "# Notes\n",
    "- Recursive method is a method that calls itself. It will have at least one base case that will eventually halt the recursion\n",
    "- Binary search: taking first and last numbers, then find midpoint until we can narrow the term down\n",
    "- Can use recursion with binary search\n",
    "- Merge sort is another method to search with recursion\n",
    "- Merge sort divides the array into halves, then calls itself for the two different halves in order to sort them. It merges the two sorted halves into one list\n",
    "- Recursion trees can be used to visualize a recursive call\n",
    "- With recursion trees, you can trace down every call until the base case"
   ]
  }
 ],
 "metadata": {
  "kernelspec": {
   "display_name": "Java",
   "language": "java",
   "name": "java"
  },
  "language_info": {
   "name": "java",
   "version": "3.8.10 (default, Jun 22 2022, 20:18:18) \n[GCC 9.4.0]"
  },
  "orig_nbformat": 4,
  "vscode": {
   "interpreter": {
    "hash": "916dbcbb3f70747c44a77c7bcd40155683ae19c65e1c03b4aa3499c5328201f1"
   }
  }
 },
 "nbformat": 4,
 "nbformat_minor": 2
}
