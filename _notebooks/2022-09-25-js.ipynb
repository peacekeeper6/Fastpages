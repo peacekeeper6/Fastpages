{
 "cells": [
  {
   "cell_type": "markdown",
   "metadata": {},
   "source": [
    "# JavaScript Notebook\n",
    "> JavaScript Learning\n",
    "\n",
    "- title: JavaScript Notebook\n",
    "- toc: true\n",
    "- categories: [jupyter]\n",
    "- image: images/tools.png"
   ]
  },
  {
   "cell_type": "code",
   "execution_count": 26,
   "metadata": {},
   "outputs": [
    {
     "name": "stdout",
     "output_type": "stream",
     "text": [
      "Song1 { name: 'Power', artist: 'Kanye West', genre: 'Rap' }\n"
     ]
    }
   ],
   "source": [
    "function logItType(output) {\n",
    "    console.log(output);\n",
    "}\n",
    "function Song1(name, artist, genre) {\n",
    "    this.name = name;\n",
    "    this.artist = artist;\n",
    "    this.genre = genre;\n",
    "}\n",
    "\n",
    "// define a JSON conversion \"method\" associated with Person\n",
    "Song1.prototype.toJSON = function() {\n",
    "    const obj = {name: this.name, artist: this.artist, genre: this.genre};\n",
    "    const json = JSON.stringify(obj);  // json/string is useful when passing data on internet\n",
    "    return json;\n",
    "}\n",
    "\n",
    "// make a new Person and assign to variable teacher\n",
    "var popularSong = new Song1(\"Power\", \"Kanye West\", \"Rap\");  // object type is easy to work with in JavaScript\n",
    "logItType(popularSong); \n",
    "// logItType(teacher.toJSON());"
   ]
  },
  {
   "cell_type": "code",
   "execution_count": null,
   "metadata": {},
   "outputs": [],
   "source": [
    "function logItType(output) {\n",
    "  console.log(output);\n",
    "}\n",
    "function Song1(name, artist, genre) {\n",
    "  this.name = name;\n",
    "  this.artist = artist;\n",
    "  this.genre = genre;\n",
    "}\n",
    "\n",
    "// define a JSON conversion \"method\" associated with Person\n",
    "Song1.prototype.toJSON = function() {\n",
    "  const obj = {name: this.name, artist: this.artist, genre: this.genre};\n",
    "  const json = JSON.stringify(obj);  // json/string is useful when passing data on internet\n",
    "  return json;\n",
    "}\n",
    "\n",
    "// make a new Person and assign to variable teacher\n",
    "var popularSong = new Song1(\"Power\", \"Kanye West\", \"Rap\");  // object type is easy to work with in JavaScript\n",
    "logItType(popularSong); \n",
    "// logItType(teacher.toJSON());\n",
    "\n",
    "const resultContainer = document.getElementById(\"result\");\n",
    "for (const row of data) {\n",
    "    // tr for each row\n",
    "    const tr = document.createElement(\"tr\");\n",
    "    // td for each column\n",
    "    const name = document.createElement(\"td\");\n",
    "    const artist = document.createElement(\"td\");\n",
    "    const genre = document.createElement(\"td\");\n",
    "    // data is specific to the API\n",
    "    name.innerHTML = row.name;\n",
    "    artist.innerHTML = row.artist; \n",
    "    genre.innerHTML = row.genre; \n",
    "    // this build td's into tr\n",
    "    tr.appendChild(name);\n",
    "    tr.appendChild(artist);\n",
    "    tr.appendChild(genre);\n",
    "    // add HTML to container\n",
    "    resultContainer.appendChild(tr);\n",
    "}"
   ]
  }
 ],
 "metadata": {
  "kernelspec": {
   "display_name": "JavaScript (Node.js)",
   "language": "javascript",
   "name": "javascript"
  },
  "language_info": {
   "file_extension": ".js",
   "mimetype": "application/javascript",
   "name": "javascript",
   "version": "6.11.2"
  },
  "orig_nbformat": 4
 },
 "nbformat": 4,
 "nbformat_minor": 2
}
