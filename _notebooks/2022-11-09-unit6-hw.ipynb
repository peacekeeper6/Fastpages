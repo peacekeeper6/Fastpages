{
 "cells": [
  {
   "cell_type": "markdown",
   "metadata": {},
   "source": [
    "# Unit 6 Arrays\n",
    "> Arraying\n",
    "\n",
    "- toc: true\n",
    "- badges: true\n",
    "- comments: true\n",
    "- categories: [java]\n",
    "- image: images/Java-Logo.png"
   ]
  },
  {
   "cell_type": "markdown",
   "metadata": {},
   "source": [
    "# Notes\n",
    "- a"
   ]
  },
  {
   "cell_type": "code",
   "execution_count": 1,
   "metadata": {},
   "outputs": [
    {
     "name": "stdout",
     "output_type": "stream",
     "text": [
      "[1, 2, 3, 4, 5]\n",
      "true\n",
      "[5, 2, 3, 4, 1]\n",
      "[5, 0, 3, 0, 1]\n",
      "false\n"
     ]
    }
   ],
   "source": [
    "import java.util.*;\n",
    "import java.io.*;\n",
    "\n",
    "public class ArrayMethods {\n",
    "    private int[] values;\n",
    "    public ArrayMethods(int[] array) {\n",
    "        this.values = array;\n",
    "    }\n",
    "    public int[] getArray() {\n",
    "        return this.values;\n",
    "    }\n",
    "    public String getString() {\n",
    "        return Arrays.toString(this.values);\n",
    "    }\n",
    "    public void swap() {\n",
    "        int temp = values[0];\n",
    "        values[0] = values[values.length - 1];\n",
    "        values[values.length - 1] = temp;\n",
    "    }\n",
    "    public void replaceEven() {\n",
    "        for (int i = 0; i < values.length; i++) {\n",
    "            if (values[i] % 2 == 0) {\n",
    "                values[i] = 0;\n",
    "            }\n",
    "        }\n",
    "    }\n",
    "    public boolean increasingOrder() {\n",
    "        for (int i = 0; i < this.values.length - 1; i++) {\n",
    "            if (values[i] > values[i+1]) {\n",
    "                return false;\n",
    "            }\n",
    "            return true;\n",
    "        }\n",
    "        return false;\n",
    "    }\n",
    "    public static void main() {\n",
    "        ArrayMethods method = new ArrayMethods(new int[]{1,2,3,4,5});\n",
    "        System.out.println(method.getString());\n",
    "        System.out.println(method.increasingOrder());\n",
    "        method.swap();\n",
    "        System.out.println(method.getString());\n",
    "        method.replaceEven();\n",
    "        System.out.println(method.getString());\n",
    "        System.out.println(method.increasingOrder());\n",
    "    }\n",
    "}\n",
    "ArrayMethods.main();"
   ]
  }
 ],
 "metadata": {
  "kernelspec": {
   "display_name": "Java",
   "language": "java",
   "name": "java"
  },
  "language_info": {
   "codemirror_mode": "java",
   "file_extension": ".jshell",
   "mimetype": "text/x-java-source",
   "name": "java",
   "pygments_lexer": "java",
   "version": "11.0.16+8-post-Ubuntu-0ubuntu120.04"
  },
  "orig_nbformat": 4,
  "vscode": {
   "interpreter": {
    "hash": "916dbcbb3f70747c44a77c7bcd40155683ae19c65e1c03b4aa3499c5328201f1"
   }
  }
 },
 "nbformat": 4,
 "nbformat_minor": 2
}
