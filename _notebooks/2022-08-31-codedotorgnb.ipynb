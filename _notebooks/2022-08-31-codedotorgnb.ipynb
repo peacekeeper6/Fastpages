{
 "cells": [
  {
   "cell_type": "code",
   "execution_count": null,
   "metadata": {},
   "outputs": [],
   "source": [
    "# Code.Org Notebook\n",
    "> To document key learnings on code.org\n",
    "\n",
    "- title: Code.org key learnings\n",
    "- toc: true\n",
    "- categories: [jupyter]\n",
    "- permalink: /unit/2\n",
    "- image: images/1200px-Code.org_logo.svg.png"
   ]
  }
 ],
 "metadata": {
  "kernelspec": {
   "display_name": "Python 3.8.10 64-bit",
   "language": "python",
   "name": "python3"
  },
  "language_info": {
   "name": "python",
   "version": "3.8.10"
  },
  "orig_nbformat": 4,
  "vscode": {
   "interpreter": {
    "hash": "916dbcbb3f70747c44a77c7bcd40155683ae19c65e1c03b4aa3499c5328201f1"
   }
  }
 },
 "nbformat": 4,
 "nbformat_minor": 2
}
