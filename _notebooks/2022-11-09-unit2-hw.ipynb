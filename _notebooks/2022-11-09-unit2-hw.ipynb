{
 "cells": [
  {
   "cell_type": "markdown",
   "metadata": {},
   "source": [
    "# Unit 2 Using Objects\n",
    "> Objects\n",
    "\n",
    "- toc: true\n",
    "- badges: true\n",
    "- comments: true\n",
    "- categories: [java]\n",
    "- image: images/Java-Logo.png"
   ]
  },
  {
   "cell_type": "markdown",
   "metadata": {},
   "source": [
    "# Concatenation\n",
    "- Can use to add 2 strings together"
   ]
  },
  {
   "cell_type": "code",
   "execution_count": 9,
   "metadata": {},
   "outputs": [
    {
     "name": "stdout",
     "output_type": "stream",
     "text": [
      "this is an example of concatenation\n"
     ]
    }
   ],
   "source": [
    "String concat1 = \"this is\";\n",
    "String concat2 = \"an example of concatenation\";\n",
    "System.out.println(concat1 + \" \" + concat2); //add both strings together to create a new sentence"
   ]
  },
  {
   "cell_type": "markdown",
   "metadata": {},
   "source": [
    "# Math class\n",
    "- Useful for various mathematical operations like rounding and random"
   ]
  },
  {
   "cell_type": "code",
   "execution_count": 29,
   "metadata": {},
   "outputs": [
    {
     "name": "stdout",
     "output_type": "stream",
     "text": [
      "1\n",
      "2\n",
      "7\n",
      "4\n",
      "10\n"
     ]
    }
   ],
   "source": [
    "import java.lang.Math;\n",
    "\n",
    "for (int i = 0; i < 5; i++) {\n",
    "    int mathRand = (int)(Math.random() * 11); //randomly generate 10 numbers from 0-10\n",
    "    System.out.println(mathRand);\n",
    "}"
   ]
  },
  {
   "cell_type": "markdown",
   "metadata": {},
   "source": [
    "# Unit 2 Homework"
   ]
  },
  {
   "cell_type": "markdown",
   "metadata": {},
   "source": [
    "Goblin Fight"
   ]
  },
  {
   "cell_type": "code",
   "execution_count": 7,
   "metadata": {},
   "outputs": [
    {
     "name": "stdout",
     "output_type": "stream",
     "text": [
      "Elon Musk missed!\n",
      "Jeff Bezos HP: 12\n",
      "Elon Musk takes 2 damage\n",
      "Elon Musk HP: 2\n",
      "Jeff Bezos takes 1 damage\n",
      "Jeff Bezos HP: 12\n",
      "Elon Musk takes 2 damage\n",
      "Elon Musk HP: -1\n",
      "Elon Musk has perished\n"
     ]
    }
   ],
   "source": [
    "import java.util.*;\n",
    "\n",
    "public class Goblin {\n",
    "    private String name;\n",
    "    private int HP;\n",
    "    private int DMG;\n",
    "    private double hitChance;\n",
    "\n",
    "    public String getName() {\n",
    "        return name;\n",
    "    }\n",
    "\n",
    "    public int getHP() {\n",
    "        return HP;\n",
    "    }\n",
    "\n",
    "    public int getDMG() {\n",
    "        return DMG;\n",
    "    }\n",
    "\n",
    "    public double getHitChance() {\n",
    "        return hitChance;\n",
    "    }\n",
    "\n",
    "    public boolean isAlive() {\n",
    "        if (this.HP > 0) {\n",
    "            return true;\n",
    "        } else {\n",
    "            return false;\n",
    "        }\n",
    "    }\n",
    "\n",
    "    public void setName(String newName) {\n",
    "        this.name = newName;\n",
    "    }\n",
    "\n",
    "    public void setHP(int newHP) {\n",
    "        this.HP = newHP;\n",
    "    }\n",
    "\n",
    "    public void takeDMG(int takenDamage) {\n",
    "        this.HP -= takenDamage;\n",
    "    }\n",
    "\n",
    "    public void setDMG(int newDMG) {\n",
    "        this.DMG = newDMG;\n",
    "    }\n",
    "\n",
    "    public void setHitChance(double newHitChance) {\n",
    "        this.hitChance = newHitChance;\n",
    "    }\n",
    "}\n",
    "\n",
    "public class Duel {\n",
    "\n",
    "    public static void fight(Goblin goblin1, Goblin goblin2) {\n",
    "        while (goblin1.isAlive() && goblin2.isAlive()) {\n",
    "\n",
    "            // goblin1 hit chance tester\n",
    "            if (Math.random() < goblin2.getHitChance()) {\n",
    "                goblin2.takeDMG(goblin2.getDMG());\n",
    "                System.out.println(goblin1.getName() + \" takes \" + goblin2.getDMG() + \" damage\");\n",
    "            }\n",
    "            else {\n",
    "                System.out.println(goblin2.getName() + \" missed!\");\n",
    "            }\n",
    "            // print hp of goblin1\n",
    "            System.out.println(goblin1.getName() + \" HP: \" + goblin1.getHP());\n",
    "\n",
    "            if (!goblin1.isAlive()) {\n",
    "                System.out.println(goblin1.getName() + \" has perished\");\n",
    "                break;\n",
    "            }\n",
    "\n",
    "            // if statement for goblin2 hit chance\n",
    "            if (Math.random() < goblin1.getHitChance()) {\n",
    "                goblin2.takeDMG(goblin1.getDMG());\n",
    "                System.out.println(goblin2.getName() + \" takes \" + goblin1.getDMG() + \" damage\");\n",
    "            }\n",
    "            else {\n",
    "                System.out.println(goblin1.getName() + \" missed!\");\n",
    "            }\n",
    "            // print hp of goblin2\n",
    "            System.out.println(goblin2.getName() + \" HP: \" + goblin2.getHP());\n",
    "\n",
    "            if (!goblin2.isAlive()) {\n",
    "                System.out.println(goblin2.getName() + \" has perished\");\n",
    "                break;\n",
    "            }\n",
    "        }\n",
    "    }\n",
    "\n",
    "    public static void main(String[] args) {\n",
    "        Goblin goblin1 = new Goblin();\n",
    "        goblin1.setName(\"Jeff Bezos\");\n",
    "        goblin1.setHP(12);\n",
    "        goblin1.setDMG(2);\n",
    "        goblin1.setHitChance(0.5);\n",
    "\n",
    "        Goblin goblin2 = new Goblin();\n",
    "        goblin2.setName(\"Elon Musk\");\n",
    "        goblin2.setHP(4);\n",
    "        goblin2.setDMG(1);\n",
    "        goblin2.setHitChance(0.75);\n",
    "\n",
    "        fight(goblin1, goblin2);\n",
    "    }\n",
    "}\n",
    "\n",
    "Duel.main(null);"
   ]
  }
 ],
 "metadata": {
  "kernelspec": {
   "display_name": "Java",
   "language": "java",
   "name": "java"
  },
  "language_info": {
   "codemirror_mode": "java",
   "file_extension": ".jshell",
   "mimetype": "text/x-java-source",
   "name": "java",
   "pygments_lexer": "java",
   "version": "11.0.16+8-post-Ubuntu-0ubuntu120.04"
  },
  "orig_nbformat": 4,
  "vscode": {
   "interpreter": {
    "hash": "916dbcbb3f70747c44a77c7bcd40155683ae19c65e1c03b4aa3499c5328201f1"
   }
  }
 },
 "nbformat": 4,
 "nbformat_minor": 2
}
