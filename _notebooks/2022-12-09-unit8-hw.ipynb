{
 "cells": [
  {
   "attachments": {},
   "cell_type": "markdown",
   "metadata": {},
   "source": [
    "# Unit 6 2D Array\n",
    "> 2D Arrays\n",
    "\n",
    "- toc: true\n",
    "- badges: true\n",
    "- comments: true\n",
    "- categories: [java]\n",
    "- image: images/Java-Logo.png"
   ]
  },
  {
   "attachments": {},
   "cell_type": "markdown",
   "metadata": {},
   "source": [
    "Create a class for 2D array learning."
   ]
  },
  {
   "cell_type": "code",
   "execution_count": 10,
   "metadata": {
    "vscode": {
     "languageId": "java"
    }
   },
   "outputs": [
    {
     "name": "stdout",
     "output_type": "stream",
     "text": [
      "---------------\n",
      "printing array...\n",
      "1 \n",
      "2 \n",
      "3 \n",
      "\n",
      "4 \n",
      "5 \n",
      "6 \n",
      "\n",
      "7 \n",
      "8 \n",
      "9 \n",
      "\n",
      "---------------\n",
      "printing reverse array...\n",
      "9 \n",
      "8 \n",
      "7 \n",
      "\n",
      "6 \n",
      "5 \n",
      "4 \n",
      "\n",
      "3 \n",
      "2 \n",
      "1 \n",
      "\n",
      "---------------\n",
      "scanning input...\n",
      "Row input (between 0-2) \n",
      "2\n",
      "Column input (between 0-2) \n",
      "2\n",
      "9\n",
      "---------------\n",
      "multiplying row values...\n",
      "result: 630\n"
     ]
    }
   ],
   "source": [
    "import java.util.Scanner;\n",
    "\n",
    "//Create a class for 2D array learning\n",
    "//Create a method to initialize a 2D array with arbitrary values\n",
    "public class Array2D{\n",
    "    int[][] array = {{1, 2, 3}, {4, 5, 6}, {7, 8, 9}};\n",
    "    public void initialize(){\n",
    "        for(int i = 0; i < array.length; i++){\n",
    "            for(int j = 0; j < array[i].length; j++){\n",
    "                System.out.println(array[i][j] + \" \");\n",
    "            }\n",
    "            System.out.println();\n",
    "        }\n",
    "    }\n",
    "\n",
    "//Create a method to reverse the 2D array and print out the values\n",
    "    public void reverse() {\n",
    "        for (int i = array.length - 1; i >= 0; i--){\n",
    "            for(int j = array[i].length - 1; j >= 0; j--) {\n",
    "                System.out.println(array[i][j]+ \" \");\n",
    "            }\n",
    "            System.out.println();\n",
    "        }\n",
    "    }\n",
    "//Create a method that asks for the input of a position and it returns the corresponding value\n",
    "    public void askForInput() {\n",
    "        Scanner scanner = new Scanner(System.in);\n",
    "    \n",
    "        System.out.println(\"Row input (between 0-2) \");\n",
    "        int rowIndex = scanner.nextInt();\n",
    "        System.out.println(rowIndex);\n",
    "    \n",
    "        System.out.println(\"Column input (between 0-2) \");\n",
    "        int colIndex = scanner.nextInt();\n",
    "        System.out.println(colIndex);\n",
    "    \n",
    "        System.out.println(array[rowIndex][colIndex]);\n",
    "    }\n",
    "// Create a method that multiplies each value in a row and then adds all the products together\n",
    "    public void multiplyRows() { \n",
    "        int val1 = 1;\n",
    "        int val2 = 0;\n",
    "        for (int i = 0; i < array.length; i++){\n",
    "            for (int j = 0; j < array[i].length; j++){\n",
    "                val1 = val1 * array[i][j];\n",
    "            }\n",
    "            val2 = val2 + val1;\n",
    "            val1 = 1;\n",
    "        }\n",
    "        System.out.println(\"result: \"+ val2);\n",
    "    }\n",
    "\n",
    "    public static void tester(String[] args){\n",
    "        Array2D array = new Array2D();\n",
    "        System.out.println(\"---------------\");\n",
    "        System.out.println(\"printing array...\");\n",
    "        array.initialize();\n",
    "        System.out.println(\"---------------\");\n",
    "        System.out.println(\"printing reverse array...\");\n",
    "        array.reverse();\n",
    "        System.out.println(\"---------------\");\n",
    "        System.out.println(\"scanning input...\");\n",
    "        array.askForInput();\n",
    "        System.out.println(\"---------------\");\n",
    "        System.out.println(\"multiplying row values...\");\n",
    "        array.multiplyRows();\n",
    "    }\n",
    "}\n",
    "Array2D.tester(null);"
   ]
  }
 ],
 "metadata": {
  "kernelspec": {
   "display_name": "Java",
   "language": "java",
   "name": "java"
  },
  "language_info": {
   "codemirror_mode": "java",
   "file_extension": ".jshell",
   "mimetype": "text/x-java-source",
   "name": "Java",
   "pygments_lexer": "java",
   "version": "11.0.16+8-post-Ubuntu-0ubuntu120.04"
  },
  "orig_nbformat": 4,
  "vscode": {
   "interpreter": {
    "hash": "916dbcbb3f70747c44a77c7bcd40155683ae19c65e1c03b4aa3499c5328201f1"
   }
  }
 },
 "nbformat": 4,
 "nbformat_minor": 2
}
