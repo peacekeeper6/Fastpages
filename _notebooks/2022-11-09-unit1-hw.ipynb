{
 "cells": [
  {
   "cell_type": "markdown",
   "metadata": {},
   "source": [
    "# Unit 1 Primitive Types\n",
    "> Primitives\n",
    "\n",
    "- toc: true\n",
    "- badges: true\n",
    "- comments: true\n",
    "- categories: [java]\n",
    "- image: images/Java-Logo.png"
   ]
  },
  {
   "cell_type": "markdown",
   "metadata": {},
   "source": [
    "# Casting\n",
    "> Used in Java to change data types of variables\n",
    " - Doubles are rounded to the nearest integer (int) (x + 0.5) or (int) (x - 0.5) for negative numbers"
   ]
  },
  {
   "cell_type": "code",
   "execution_count": 2,
   "metadata": {
    "vscode": {
     "languageId": "java"
    }
   },
   "outputs": [
    {
     "name": "stdout",
     "output_type": "stream",
     "text": [
      "1 - produced because int/int\n",
      "1.5 - produced because double/int\n",
      "1.5 - produced because int/double\n",
      "1.5 - produced because double/int\n",
      "69.8 - This result is possible because the number turns into a double, meaning that there is no truncation\n"
     ]
    }
   ],
   "source": [
    "public class Casting {\n",
    "    public static void main(String[] args) {\n",
    "    System.out.println (6/4 + \" - produced because int/int\");\n",
    "    System.out.println(6.0/4 + \" - produced because double/int\") ;\n",
    "    System.out.println(6/4.0 + \" - produced because int/double\");\n",
    "    System.out.println((double) 6/4 + \" - produced because double/int\"); //casting to double\n",
    "    }\n",
    "    public static void ex1(String[] args) {\n",
    "        double a = 13.124;\n",
    "        // int b = a; <- This result would not be produced because double to int conversion results in loss/truncation of numbers\n",
    "        // System.out.println(b);\n",
    "    }\n",
    "    public static void ex2(String[] args) {\n",
    "        // int a = 6.75; \n",
    "        // int b = 124;\n",
    "        // System.out.println(a + b); <- Thus, this result is not possible using the compiler. However, doing this manually would result in 131 because rounding is needed for ints. \n",
    "    }\n",
    "    public static void ex3(String[] args) {\n",
    "        int a = 82;\n",
    "        double b = 12.2;\n",
    "        System.out.println(a - b + \" - This result is possible because the number turns into a double, meaning that there is no truncation\"); \n",
    "    }\n",
    "}\n",
    "Casting.main(null);\n",
    "Casting.ex1(null);\n",
    "Casting.ex2(null);\n",
    "Casting.ex3(null);"
   ]
  },
  {
   "cell_type": "markdown",
   "metadata": {},
   "source": [
    "# PPG Calculator using Scanner and Math.round"
   ]
  },
  {
   "cell_type": "markdown",
   "metadata": {},
   "source": [
    "- int is used for points, regular season games, and playoff games, which is necessary because these can only be whole numbers\n",
    "- double is used to calculate PPG, which can have decimals in it. Math function is used to limit number of decimals to standard usage\n",
    "- boolean is necessary to ensure player is using google for questions following\n",
    "- string is necessary for player name\n",
    "- For results, double is used to create a number with decimal, which is the standard for calculating PPG in NBA. Thus, things like integer would be unncessary because they are not the standard\n",
    "- Compound assignment operator used in calculating total games played, regular season + playoffs, in order to get total points/games for PPG calculation"
   ]
  },
  {
   "cell_type": "code",
   "execution_count": 3,
   "metadata": {
    "vscode": {
     "languageId": "java"
    }
   },
   "outputs": [
    {
     "name": "stdout",
     "output_type": "stream",
     "text": [
      "Enter a Player\n",
      "Nice choice, unless you chose Steph Curry\n",
      "True or false: you have Google open right now\n",
      "Google will be important...\n",
      "How many total points did your player score (counting playoffs)?\n",
      "Not bad\n",
      "How many games did your player play in the regular season?\n",
      "That's a lot\n",
      "If your player made the playoffs, how many games did they play there?\n",
      "Total generating...\n",
      "Paul George averaged 23.0 points a game\n"
     ]
    }
   ],
   "source": [
    "import java.util.Scanner;\n",
    "\n",
    "public class ScanPPG {\n",
    "    public static void main(String[] args) {\n",
    "    Scanner input;\n",
    "\n",
    "    input = new Scanner(System.in);\n",
    "    System.out.print(\"Enter a Player\" + System.lineSeparator()); // personal note: do not use ln when making input\n",
    "    String name = input.nextLine();\n",
    "    try {\n",
    "        System.out.println(\"Nice choice, unless you chose Steph Curry\");\n",
    "    } catch (Exception e) {\n",
    "        System.out.println(\"Not a name\");\n",
    "    }\n",
    "    input.close();\n",
    "\n",
    "    input = new Scanner(System.in);\n",
    "    System.out.print(\"True or false: you have Google open right now\" + System.lineSeparator());\n",
    "    boolean resp = input.nextBoolean();\n",
    "    try {\n",
    "        System.out.println(\"Google will be important...\");\n",
    "    } catch (Exception e) {\n",
    "        System.out.println(\"Not true/false\");\n",
    "    }\n",
    "    input.close();\n",
    "\n",
    "    input = new Scanner(System.in);\n",
    "    System.out.print(\"How many total points did your player score (counting playoffs)?\" + System.lineSeparator());\n",
    "    int points = input.nextInt(); \n",
    "    try {\n",
    "        System.out.println(\"Not bad\");\n",
    "    } catch (Exception e) {\n",
    "        System.out.println(\"Not a number\");\n",
    "    }\n",
    "    input.close();\n",
    "\n",
    "    input = new Scanner(System.in);\n",
    "    System.out.print(\"How many games did your player play in the regular season?\" + System.lineSeparator());\n",
    "    int games = input.nextInt();\n",
    "    try {\n",
    "        System.out.println(\"That's a lot\");\n",
    "    } catch (Exception e) {\n",
    "        System.out.println(\"Not a number\");\n",
    "    }\n",
    "    input.close();\n",
    "\n",
    "    input = new Scanner(System.in);\n",
    "    System.out.print(\"If your player made the playoffs, how many games did they play there?\" + System.lineSeparator());\n",
    "    int playoffgames = input.nextInt();\n",
    "    try {\n",
    "        System.out.println(\"Total generating...\");\n",
    "    } catch (Exception e) {\n",
    "        System.out.println(\"Not a number\");\n",
    "    }\n",
    "    games += playoffgames; //result is playoff games being added to regular season games\n",
    "    input.close();\n",
    "\n",
    "    double PPG = points/games;\n",
    "    double rounded = Math.round(PPG * 10.0) / 10.0;\n",
    "\n",
    "    System.out.println(name + \" averaged \" + rounded + \" points a game\");\n",
    "    }\n",
    "}\n",
    "ScanPPG.main(null);"
   ]
  },
  {
   "cell_type": "markdown",
   "metadata": {},
   "source": [
    "# Using Wrapper Classes \n",
    "- Wrapper class is converting primitives in order for them to be used as objects. This is needed for \n",
    "- Commonly used with ArrayLists because they have methods"
   ]
  },
  {
   "cell_type": "code",
   "execution_count": 7,
   "metadata": {
    "vscode": {
     "languageId": "java"
    }
   },
   "outputs": [
    {
     "name": "stdout",
     "output_type": "stream",
     "text": [
      "[1, 2, 4]\n"
     ]
    }
   ],
   "source": [
    "ArrayList<Integer> aList = new ArrayList<Integer>();\n",
    "\n",
    "aList.add(1);\n",
    "aList.add(2);\n",
    "aList.add(4);\n",
    "\n",
    "System.out.println(aList);"
   ]
  },
  {
   "cell_type": "markdown",
   "metadata": {},
   "source": [
    "# Homework"
   ]
  },
  {
   "cell_type": "markdown",
   "metadata": {},
   "source": [
    "2006 FRQ 2a"
   ]
  },
  {
   "cell_type": "code",
   "execution_count": 8,
   "metadata": {
    "vscode": {
     "languageId": "java"
    }
   },
   "outputs": [],
   "source": [
    "public double purchasePrice () {\n",
    "    return getListPrice() * (1 + taxRate);\n",
    "}"
   ]
  },
  {
   "cell_type": "markdown",
   "metadata": {},
   "source": [
    "2006 FRQ 3a"
   ]
  },
  {
   "cell_type": "code",
   "execution_count": null,
   "metadata": {
    "vscode": {
     "languageId": "java"
    }
   },
   "outputs": [],
   "source": [
    "public int compareCustomer (Customer other) {\n",
    "    int compare = getName().compareTo(other.getName());\n",
    "    if (compare == 0) {\n",
    "        compare = getID() - other.getID();\n",
    "    }\n",
    "    return compare;\n",
    "}"
   ]
  }
 ],
 "metadata": {
  "kernelspec": {
   "display_name": "Java",
   "language": "java",
   "name": "java"
  },
  "language_info": {
   "codemirror_mode": "java",
   "file_extension": ".jshell",
   "mimetype": "text/x-java-source",
   "name": "Java",
   "pygments_lexer": "java",
   "version": "11.0.16+8-post-Ubuntu-0ubuntu120.04"
  },
  "orig_nbformat": 4,
  "vscode": {
   "interpreter": {
    "hash": "916dbcbb3f70747c44a77c7bcd40155683ae19c65e1c03b4aa3499c5328201f1"
   }
  }
 },
 "nbformat": 4,
 "nbformat_minor": 2
}
