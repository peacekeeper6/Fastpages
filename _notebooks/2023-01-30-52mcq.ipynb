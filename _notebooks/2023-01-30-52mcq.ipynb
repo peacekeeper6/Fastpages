{
 "cells": [
  {
   "attachments": {},
   "cell_type": "markdown",
   "metadata": {},
   "source": [
    "# 52 MCQ Corrections + Reflection\n",
    "> 43/52\n",
    "\n",
    "- toc: true\n",
    "- badges: true\n",
    "- comments: true\n",
    "- categories: [quiz]\n",
    "- image: my_icons/52mcq.PNG"
   ]
  },
  {
   "attachments": {},
   "cell_type": "markdown",
   "metadata": {},
   "source": [
    "# Score\n",
    "![](my_icons/52mcq.PNG)"
   ]
  },
  {
   "attachments": {},
   "cell_type": "markdown",
   "metadata": {},
   "source": [
    "# Reflection \n",
    "- Most missed and confusing questions were Java methods like .compareTo(), .substring(), and .set()\n",
    "- By extension, need to refresh myself on ArrayList methods\n",
    "- Got a little confused with 2D arrays\n",
    "- Need to review For-Each loops\n",
    "- Still need to work on timing, should have taken me a lot less time to finish through these questions \n",
    "- Kinda funny how almost all of the question I got wrong fell under the topic of \"Traversing 2D Arrays\" or \"Traversing ArrayLists\""
   ]
  },
  {
   "attachments": {},
   "cell_type": "markdown",
   "metadata": {},
   "source": [
    "- Some key resources I want to look at\n",
    "> https://introcs.cs.princeton.edu/java/11cheatsheet/\n",
    "> https://www.edureka.co/blog/cheatsheets/java-cheat-sheet/"
   ]
  },
  {
   "attachments": {},
   "cell_type": "markdown",
   "metadata": {},
   "source": [
    "# Some key learnings\n",
    "- .length = number of rows / column length\n",
    "- [0].length = number of columns / row length\n",
    "- when .substring only contains one index, the substring starts from that index\n",
    "- when .substring has parameters, the ending parameter is exclusive, while the beginning parameter is inclusive\n",
    "- compareTo() method: returns 0 if strings are equal, returns < 0 if string is less than other string (if comparing characters like \"g\" and \"f\", then \"g\" is lexicographically \"lower\" than \"f\"), returns > 0 if string is more than other string (either more characters or if comparing characters the string that is doing the comparing comes after in the alphabet)\n",
    "- indexOf() method returns position of the first occurrence of the specified characters in a string"
   ]
  },
  {
   "attachments": {},
   "cell_type": "markdown",
   "metadata": {},
   "source": [
    "# 2D Arrays\n",
    "![](my_icons/q1.PNG)"
   ]
  },
  {
   "attachments": {},
   "cell_type": "markdown",
   "metadata": {},
   "source": [
    "I got this one wrong because I wasn't sure what setting the index of a 2D array meant to an integer meant. I assumed that meant that at least one of the indices contains 5, which would make the answer 9, but it turns out that's not what it means."
   ]
  },
  {
   "attachments": {},
   "cell_type": "markdown",
   "metadata": {},
   "source": [
    "# String Methods\n",
    "![](my_icons/q7.PNG)"
   ]
  },
  {
   "attachments": {},
   "cell_type": "markdown",
   "metadata": {},
   "source": [
    "I got this question wrong because I forgot that when parameters are set for the substring method, the ending parameter is exclusive. That means that the middle value would actually be 1 because the index 2 has the same value."
   ]
  },
  {
   "attachments": {},
   "cell_type": "markdown",
   "metadata": {},
   "source": [
    "# Traversing ArrayLists\n",
    "![](my_icons/q16v2.PNG)"
   ]
  },
  {
   "attachments": {},
   "cell_type": "markdown",
   "metadata": {},
   "source": [
    "I got this question wrong because I didn't realize that it only counted the \"a\" in each word only once."
   ]
  },
  {
   "attachments": {},
   "cell_type": "markdown",
   "metadata": {},
   "source": [
    "# ArrayList Methods\n",
    "![](my_icons/q28.PNG)"
   ]
  },
  {
   "attachments": {},
   "cell_type": "markdown",
   "metadata": {},
   "source": [
    "I got this question wrong because I couldn't figure out what the method was doing. Now I know that it's removing elements based on the \"num\" given in the beginning, and these elements are being added to the end of the list."
   ]
  },
  {
   "attachments": {},
   "cell_type": "markdown",
   "metadata": {},
   "source": [
    "# Traversing 2D Arrays\n",
    "![](my_icons/q33.PNG)"
   ]
  },
  {
   "attachments": {},
   "cell_type": "markdown",
   "metadata": {},
   "source": [
    "I got this question wrong because I wasn't completely sure how the For-Each loop worked in this situation. Now I know that it iterates through based on the row, meaning that the order would in fact be 1, 2, 3, 4, 5, 6, like the question asks."
   ]
  },
  {
   "attachments": {},
   "cell_type": "markdown",
   "metadata": {},
   "source": [
    "# Traversing 2D Arrays\n",
    "![](my_icons/q36.PNG)"
   ]
  },
  {
   "attachments": {},
   "cell_type": "markdown",
   "metadata": {},
   "source": [
    "I got this question wrong because I got rows and columns confused. The only way my answer would have been right is if the elements of the row at index were printed rather than the elements of the column at index 1."
   ]
  },
  {
   "attachments": {},
   "cell_type": "markdown",
   "metadata": {},
   "source": [
    "# Traversing ArrayLists\n",
    "![](my_icons/q40v2.PNG)"
   ]
  },
  {
   "attachments": {},
   "cell_type": "markdown",
   "metadata": {},
   "source": [
    "I got this question wrong because I didn't realize that the first implementation doesn't even remove an index, but I'm still not sure why the second implementation is wrong."
   ]
  },
  {
   "attachments": {},
   "cell_type": "markdown",
   "metadata": {},
   "source": [
    "# Traversing ArrayLists\n",
    "![](my_icons/q41.PNG)"
   ]
  },
  {
   "attachments": {},
   "cell_type": "markdown",
   "metadata": {},
   "source": [
    "I got this question wrong because I didn't realize that the subsequent elements of the list would be shifted left when the element at position i is removed from the list."
   ]
  },
  {
   "attachments": {},
   "cell_type": "markdown",
   "metadata": {},
   "source": [
    "# Traversing 2D Arrays\n",
    "![](my_icons/q52v2.PNG)"
   ]
  },
  {
   "attachments": {},
   "cell_type": "markdown",
   "metadata": {},
   "source": [
    "I got this one wrong because I confused row for being initialized with val - 1, which would result in both row and col being incremented in each iteration loop instead of row being decremented like it it's meant to be."
   ]
  }
 ],
 "metadata": {
  "kernelspec": {
   "display_name": "Python 3",
   "language": "python",
   "name": "python3"
  },
  "language_info": {
   "name": "python",
   "version": "3.8.10 (default, Jun 22 2022, 20:18:18) \n[GCC 9.4.0]"
  },
  "orig_nbformat": 4,
  "vscode": {
   "interpreter": {
    "hash": "916dbcbb3f70747c44a77c7bcd40155683ae19c65e1c03b4aa3499c5328201f1"
   }
  }
 },
 "nbformat": 4,
 "nbformat_minor": 2
}
