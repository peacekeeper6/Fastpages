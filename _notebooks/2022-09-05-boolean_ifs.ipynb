{
 "cells": [
  {
   "cell_type": "markdown",
   "metadata": {},
   "source": [
    "# Iteration Notebook\n",
    "> Focus on Ifs, Switch, Expressions and how to build control structures in Java.\n",
    "\n",
    "- title: Boolean Expressions and If Statements\n",
    "- toc: true\n",
    "- badges: true\n",
    "- comments: true\n",
    "- categories: [jupyter]\n",
    "- image: images/boolean.png"
   ]
  },
  {
   "cell_type": "markdown",
   "metadata": {},
   "source": [
    "\"A Boolean expression is a logical statement that can be evaluated to True or False. A Boolean expression may be composed of a combination of the Boolean constants true or false.\""
   ]
  },
  {
   "cell_type": "code",
   "execution_count": null,
   "metadata": {
    "vscode": {
     "languageId": "java"
    }
   },
   "outputs": [],
   "source": [
    "// All of the boolean expressions below evaluate to true\n",
    "\n",
    "if (true) { // if condition is true\n",
    "    System.out.println(\"True code block\");\n",
    "}\n",
    "\n",
    "if (true && !false) { // if condition is true and not false\n",
    "    System.out.println(\"True and Not False code block\");\n",
    "}\n",
    "\n",
    "if (true || false) { //if condition is true or false\n",
    "    System.out.println(\"True or False code block\");\n",
    "}\n",
    "\n",
    "if ((true && !false) && (true || false)) { //if condition is true and not false then \n",
    "    // evaluate whether condition is true or false too\n",
    "    System.out.println(\"Confusing code block\");\n",
    "}\n",
    "\n",
    "if (!((false || !true) || (false && true))) { // if condition is not false and not true then\n",
    "    // evaluate if not false and not true\n",
    "    System.out.println(\"De Morgan's law in my head of confusing code block\");\n",
    "}"
   ]
  },
  {
   "cell_type": "markdown",
   "metadata": {},
   "source": [
    "If statement is a conditional that determines if a condition is met and acts on it"
   ]
  },
  {
   "cell_type": "code",
   "execution_count": 6,
   "metadata": {
    "vscode": {
     "languageId": "java"
    }
   },
   "outputs": [
    {
     "name": "stdout",
     "output_type": "stream",
     "text": [
      "Number is greater than 4\n"
     ]
    }
   ],
   "source": [
    "public class Main {\n",
    "    public static void main(String[] args) {\n",
    "int num = 5; //initialized at 5 to give example with if\n",
    "if (num > 4) {\n",
    "    System.out.println(\"Number is greater than 4\");\n",
    "        }\n",
    "    }\n",
    "}\n",
    "Main.main(null);"
   ]
  },
  {
   "cell_type": "markdown",
   "metadata": {},
   "source": [
    "If else statement is a conditional that determines if a condition is met or not then acts on it"
   ]
  },
  {
   "cell_type": "code",
   "execution_count": 8,
   "metadata": {
    "vscode": {
     "languageId": "java"
    }
   },
   "outputs": [
    {
     "name": "stdout",
     "output_type": "stream",
     "text": [
      "Number is less than 4\n"
     ]
    }
   ],
   "source": [
    "public class Main {\n",
    "    public static void main(String[] args) {\n",
    "int num = 3; //initalized at 3 to give example with else\n",
    "if (num > 4) {\n",
    "    System.out.println(\"Number is greater than 4\");\n",
    "        } else {\n",
    "            System.out.println(\"Number is less than 4\");\n",
    "        }\n",
    "    }\n",
    "}\n",
    "Main.main(null);"
   ]
  },
  {
   "cell_type": "markdown",
   "metadata": {},
   "source": [
    "If else - if else statement is a conditional inside of a conditional. If the else statement is met, then it will go through another if else statement to determine the conditions"
   ]
  },
  {
   "cell_type": "code",
   "execution_count": 9,
   "metadata": {
    "vscode": {
     "languageId": "java"
    }
   },
   "outputs": [
    {
     "name": "stdout",
     "output_type": "stream",
     "text": [
      "Number is positive\n"
     ]
    }
   ],
   "source": [
    "public class Main {\n",
    "    public static void main(String[] args) {\n",
    "double num = 3.5;\n",
    "if (num > 4) {\n",
    "    System.out.println(\"Number is greater than 4\");\n",
    "        } else {\n",
    "            if (num > 0) {\n",
    "                System.out.println(\"Number is positive\");\n",
    "            } else {\n",
    "                System.out.println(\"Number is negative\");\n",
    "            }\n",
    "        }\n",
    "    }\n",
    "}\n",
    "Main.main(null);"
   ]
  },
  {
   "cell_type": "markdown",
   "metadata": {},
   "source": [
    "# Bonus points if you can count how many conditionals are used"
   ]
  },
  {
   "cell_type": "code",
   "execution_count": 19,
   "metadata": {
    "vscode": {
     "languageId": "java"
    }
   },
   "outputs": [
    {
     "name": "stdout",
     "output_type": "stream",
     "text": [
      "Choosing number between 70 and 100...\n",
      "Number is greater than 70\n",
      "Number is between 75 and 80\n",
      "Number is between 76 and 80\n",
      "Number is between 77 and 80\n",
      "Number is between 78 and 80\n",
      "Number is 78\n"
     ]
    }
   ],
   "source": [
    "public class Main {\n",
    "    public static void main(String[] args) {\n",
    "System.out.println(\"Choosing number between 70 and 80...\");\n",
    "int num = 78;\n",
    "if (num > 90) { //oops\n",
    "    System.out.println(\"Number is greater than 90\");\n",
    "        } else {\n",
    "            if (num == 80) {\n",
    "                System.out.println(\"Number is 80\");\n",
    "            } else {\n",
    "                if (num > 70) { //notice that if statements are nested to keep it running if one condition is not met\n",
    "                    System.out.println(\"Number is greater than 70\");\n",
    "                    if (num > 74) {\n",
    "                        System.out.println(\"Number is between 75 and 80\");\n",
    "                        if (num > 75) {\n",
    "                            System.out.println(\"Number is between 76 and 80\");\n",
    "                            if (num > 76) {\n",
    "                                System.out.println(\"Number is between 77 and 80\");\n",
    "                                if (num > 77) {\n",
    "                                    System.out.println(\"Number is between 78 and 80\");\n",
    "                                    if (num > 78) {\n",
    "                                        System.out.println(\"Number is 79\");\n",
    "                                    } else {\n",
    "                                        System.out.println(\"Number is 78\");\n",
    "                                    }\n",
    "                                } else {\n",
    "                                    System.out.println(\"Number is 77\");\n",
    "                                }\n",
    "                            }  else {\n",
    "                                System.out.println(\"Number is 76\");\n",
    "                            }\n",
    "                        } else {\n",
    "                            System.out.println(\"Number is 75\");\n",
    "                        }\n",
    "                    } else {\n",
    "                        if (num < 74) {\n",
    "                            System.out.println(\"Number is between 70 and 73\");\n",
    "                            if (num < 73) {\n",
    "                                System.out.println(\"Number is between 70 and 72\");\n",
    "                                if (num < 72) {\n",
    "                                    System.out.println(\"Number is 70 or 71\");\n",
    "                                    if (num < 71) {\n",
    "                                        System.out.println(\"Number is 70\");\n",
    "                                    } else {\n",
    "                                        System.out.println(\"Number is 71\");\n",
    "                                    }\n",
    "                                }\n",
    "                                else { \n",
    "                                    System.out.println(\"Number is 72\");\n",
    "                                }\n",
    "                            } else {\n",
    "                                System.out.println(\"Number is 73\");\n",
    "                            }\n",
    "                        } else {\n",
    "                            System.out.println(\"Number is 74\");\n",
    "                        } \n",
    "                }\n",
    "            }\n",
    "        }\n",
    "    }\n",
    "}\n",
    "}\n",
    "Main.main(null);"
   ]
  },
  {
   "cell_type": "markdown",
   "metadata": {},
   "source": [
    "# De Morgan's Laws\n",
    "> If already being confused wasn't enough"
   ]
  },
  {
   "cell_type": "markdown",
   "metadata": {},
   "source": [
    "# De Morgan's Laws essentially consider the relationship of opposites\n",
    "> If not false, then true. If not true, then false. There needs to be at least one true statement for a conditional to work\n",
    "Here is an example in code"
   ]
  },
  {
   "cell_type": "code",
   "execution_count": 28,
   "metadata": {
    "vscode": {
     "languageId": "java"
    }
   },
   "outputs": [
    {
     "name": "stdout",
     "output_type": "stream",
     "text": [
      "True\n",
      "Also true\n"
     ]
    }
   ],
   "source": [
    "public class Main {\n",
    "    public static void main(String[] args) {\n",
    "if (true && !false) {\n",
    "    System.out.println(\"True\");\n",
    "}\n",
    "if (!true || !false) {\n",
    "    System.out.println(\"Also true\");\n",
    "}\n",
    "if (!true || false) {\n",
    "    System.out.println(\"False\");\n",
    "}\n",
    "if (!true && false) {\n",
    "    System.out.println(\"Also false\"); //these will not print because they are false!\n",
    "}\n",
    "    }\n",
    "}\n",
    "Main.main(null);"
   ]
  }
 ],
 "metadata": {
  "kernelspec": {
   "display_name": "Java",
   "language": "java",
   "name": "java"
  },
  "language_info": {
   "codemirror_mode": "java",
   "file_extension": ".jshell",
   "mimetype": "text/x-java-source",
   "name": "Java",
   "pygments_lexer": "java",
   "version": "11.0.16+8-post-Ubuntu-0ubuntu120.04"
  },
  "orig_nbformat": 4,
  "vscode": {
   "interpreter": {
    "hash": "916dbcbb3f70747c44a77c7bcd40155683ae19c65e1c03b4aa3499c5328201f1"
   }
  }
 },
 "nbformat": 4,
 "nbformat_minor": 2
}
