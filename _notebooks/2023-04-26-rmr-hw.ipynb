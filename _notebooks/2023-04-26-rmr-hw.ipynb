{
 "cells": [
  {
   "attachments": {},
   "cell_type": "markdown",
   "metadata": {},
   "source": [
    "# RMR HW\n",
    "> RMR HW\n",
    "\n",
    "- toc: true\n",
    "- badges: true\n",
    "- comments: true\n",
    "- categories: [homework]\n",
    "- image: my_icons/Java-Logo.PNG"
   ]
  },
  {
   "attachments": {},
   "cell_type": "markdown",
   "metadata": {},
   "source": [
    "## Hack 1"
   ]
  },
  {
   "cell_type": "code",
   "execution_count": 35,
   "metadata": {},
   "outputs": [
    {
     "name": "stdout",
     "output_type": "stream",
     "text": [
      "[string1, string2, string3, string4, string5, string6, string7, string8, string9, string10]\n"
     ]
    }
   ],
   "source": [
    "// create ArrayLists that satisfy the following\n",
    "\n",
    "// a) that stores Boolean values\n",
    "ArrayList<Boolean> booleans = new ArrayList<Boolean>();\n",
    "\n",
    "// b) that stores Turtle Objects\n",
    "ArrayList<String> turtles = new ArrayList<String>();\n",
    "\n",
    "// c) that initializes with 10 Strings\n",
    "ArrayList<String> strings = new ArrayList<String>();\n",
    "strings.add(\"string1\");\n",
    "strings.add(\"string2\");\n",
    "strings.add(\"string3\");\n",
    "strings.add(\"string4\");\n",
    "strings.add(\"string5\");\n",
    "strings.add(\"string6\");\n",
    "strings.add(\"string7\");\n",
    "strings.add(\"string8\");\n",
    "strings.add(\"string9\");\n",
    "strings.add(\"string10\");\n",
    "\n",
    "System.out.println(strings);"
   ]
  },
  {
   "attachments": {},
   "cell_type": "markdown",
   "metadata": {},
   "source": [
    "## Hack 2\n",
    "Choose 3 different methods from above to change around this sample ArrayList:"
   ]
  },
  {
   "cell_type": "code",
   "execution_count": 36,
   "metadata": {},
   "outputs": [
    {
     "name": "stdout",
     "output_type": "stream",
     "text": [
      "ArrayList: [1, 4, 7, 12, 23]\n"
     ]
    }
   ],
   "source": [
    "import java.util.ArrayList;\n",
    "\n",
    "public class Hack2 {\n",
    "    public static void main(Integer[] args) {\n",
    "        ArrayList<Integer> randomNumbers = new ArrayList<Integer>();\n",
    "        randomNumbers.add(1);\n",
    "        randomNumbers.add(4);\n",
    "        randomNumbers.add(7);\n",
    "        randomNumbers.add(12);\n",
    "        randomNumbers.add(23);\n",
    "        System.out.println(\"ArrayList: \" + randomNumbers);\n",
    "\n",
    "        ;\n",
    "        ;\n",
    "        ;\n",
    "    }\n",
    "}\n",
    "Hack2.main(null);"
   ]
  },
  {
   "cell_type": "code",
   "execution_count": 37,
   "metadata": {},
   "outputs": [
    {
     "name": "stdout",
     "output_type": "stream",
     "text": [
      "ArrayList: [1, 4, 7, 12, 23]\n",
      "[1, 7, 12, 23]\n",
      "[1, 7, 4, 12, 23]\n",
      "[1, 7, 4, 12, 6]\n"
     ]
    }
   ],
   "source": [
    "ArrayList<Integer> randomNumbers = new ArrayList<Integer>();\n",
    "        randomNumbers.add(1);\n",
    "        randomNumbers.add(4);\n",
    "        randomNumbers.add(7);\n",
    "        randomNumbers.add(12);\n",
    "        randomNumbers.add(23);\n",
    "        System.out.println(\"ArrayList: \" + randomNumbers);\n",
    "    \n",
    "randomNumbers.remove(1);\n",
    "System.out.println(randomNumbers);\n",
    "randomNumbers.add(2, 4);\n",
    "System.out.println(randomNumbers);\n",
    "randomNumbers.set(4, 6);\n",
    "System.out.println(randomNumbers);\n",
    "// int indexOf = randomNumbers.indexOf(4);\n",
    "// System.out.println(\"index of 1: \" + indexOf);\n"
   ]
  },
  {
   "attachments": {},
   "cell_type": "markdown",
   "metadata": {},
   "source": [
    "## Hack 3\n",
    "Here is some sample code for the total sum of integers. Finish the loop!"
   ]
  },
  {
   "cell_type": "code",
   "execution_count": 38,
   "metadata": {},
   "outputs": [
    {
     "name": "stdout",
     "output_type": "stream",
     "text": [
      "ArrayList: [1, 4, 7, 12, 23]\n",
      "47\n"
     ]
    }
   ],
   "source": [
    "ArrayList<Integer> values = new ArrayList<Integer>();\n",
    "        values.add(1);\n",
    "        values.add(4);\n",
    "        values.add(7);\n",
    "        values.add(12);\n",
    "        values.add(23);\n",
    "        System.out.println(\"ArrayList: \" + values);\n",
    "        \n",
    "        int total = 0;\n",
    "\n",
    "            for (int i=0; i < values.size(); i++) {\n",
    "                total += values.get(i);\n",
    "            }\n",
    "            System.out.println(total);"
   ]
  },
  {
   "attachments": {},
   "cell_type": "markdown",
   "metadata": {},
   "source": [
    "## Hack 4\n",
    "Complete the Selection sort sample code by writing code for a swap of elements."
   ]
  },
  {
   "cell_type": "code",
   "execution_count": 39,
   "metadata": {},
   "outputs": [
    {
     "name": "stdout",
     "output_type": "stream",
     "text": [
      "1 2 3 11 24 856 "
     ]
    }
   ],
   "source": [
    "int[] arr = new int[]{1,24,11,856,3,2};\n",
    "for (int i = 0; i < arr.length; i++) {\n",
    " \n",
    "    // nested loop 1 index ahead\n",
    "    for (int j = i + 1; j < arr.length; j++) {\n",
    "\n",
    "        // comparing elements\n",
    "        int temp = 0;\n",
    "        if (arr[j] < arr[i]) {\n",
    "\n",
    "            \n",
    "            temp = arr[i];\n",
    "            arr[i] = arr[j];\n",
    "            arr[j] = temp;\n",
    "        }\n",
    "    }\n",
    "\n",
    "    // Printing sorted array \n",
    "    System.out.print(arr[i] + \" \");\n",
    "}"
   ]
  },
  {
   "attachments": {},
   "cell_type": "markdown",
   "metadata": {},
   "source": [
    "## Hack 5\n",
    "Make an array and iterate through it to only print the elements with even indexes (this includes 0). Then iterate through it again to only print the odd indexes."
   ]
  },
  {
   "cell_type": "code",
   "execution_count": 40,
   "metadata": {},
   "outputs": [
    {
     "name": "stdout",
     "output_type": "stream",
     "text": [
      "10\n",
      "30\n",
      "50\n",
      "70\n",
      "90\n",
      "20\n",
      "40\n",
      "60\n",
      "80\n",
      "100\n"
     ]
    }
   ],
   "source": [
    "int[] myArray = {10, 20, 30, 40, 50, 60, 70, 80, 90, 100};\n",
    "\n",
    "// Printing elements with even indexes\n",
    "for (int i = 0; i < myArray.length; i += 2) {\n",
    "    System.out.println(myArray[i]);\n",
    "}\n",
    "\n",
    "// Printing elements with odd indexes\n",
    "for (int i = 1; i < myArray.length; i += 2) {\n",
    "    System.out.println(myArray[i]);\n",
    "}"
   ]
  },
  {
   "attachments": {},
   "cell_type": "markdown",
   "metadata": {},
   "source": [
    "## Hack 6\n",
    "Create a 2D array and iterate through it to print all of its elements."
   ]
  },
  {
   "cell_type": "code",
   "execution_count": 46,
   "metadata": {},
   "outputs": [
    {
     "name": "stdout",
     "output_type": "stream",
     "text": [
      "Jun, Rohit, Nathan,  Ellen, Iris, Bailey, Don, Hetvi,  Sahil, Samuel, Everitt,  "
     ]
    }
   ],
   "source": [
    "String[][] people = {\n",
    "    {\"Jun, Rohit, Nathan, \"},\n",
    "    {\"Ellen, Iris, Bailey, Don, Hetvi, Evan, \"},\n",
    "    {\"Sahil, Samuel, Everitt, \"}\n",
    "};\n",
    "for (int row = 0; row < people.length; row++) {\n",
    "    for (int col = 0; col < people[row].length; col++) {\n",
    "        System.out.print(people[row][col] + \" \");\n",
    "    }\n",
    "}"
   ]
  },
  {
   "attachments": {},
   "cell_type": "markdown",
   "metadata": {},
   "source": [
    "## Hack 7\n",
    "Find the sum of the values on the diagonal of the 2D array. Print the sum."
   ]
  },
  {
   "cell_type": "code",
   "execution_count": 22,
   "metadata": {},
   "outputs": [
    {
     "name": "stdout",
     "output_type": "stream",
     "text": [
      "5\n"
     ]
    }
   ],
   "source": [
    "public class Test1\n",
    "{\n",
    "\n",
    "    public static void main(String[] args)\n",
    "    {\n",
    "        int total = 0;\n",
    "        int[][] array = { {1,2,3},\n",
    "        {-1,-2,-3},\n",
    "        {4,5,6} };\n",
    "        for (int row = 0; row < array.length; row++) {\n",
    "            total += array[row][row];\n",
    "            // for (int col = 0; col < array[row].length; col += 2) {\n",
    "                \n",
    "            //     total += array[row][col];\n",
    "            // }\n",
    "        }\n",
    "        System.out.println(total);\n",
    "        //ADD CODE HERE\n",
    "        // 1, -2, 6\n",
    "\n",
    "    }\n",
    "}\n",
    "Test1.main(null);"
   ]
  },
  {
   "attachments": {},
   "cell_type": "markdown",
   "metadata": {},
   "source": [
    "## Hack 8\n",
    "Given an int array, return true if the array contains 2 twice, or 3 twice. The array will be length 0, 1, or 2.\n",
    "\n",
    "\n",
    "double23([2, 2]) → true\n",
    "double23([3, 3]) → true\n",
    "double23([2, 3]) → false"
   ]
  },
  {
   "cell_type": "code",
   "execution_count": 49,
   "metadata": {},
   "outputs": [
    {
     "name": "stdout",
     "output_type": "stream",
     "text": [
      "true\n",
      "false\n"
     ]
    }
   ],
   "source": [
    "// code here\n",
    "// int[] nums = new int[]{1, 2, 2};\n",
    "public boolean double23(int[] nums) {\n",
    "// for (int i = 0; i < nums.length; i++) {\n",
    "  if (nums[0] != nums[1]) {\n",
    "    return false;\n",
    "  }\n",
    "return true;\n",
    "}\n",
    "System.out.println(double23(new int[] {2, 2}));\n",
    "System.out.println(double23(new int[] {2, 3}));\n",
    "// public static void main(Strings args[]) {\n",
    "//     Double a = new Double();\n",
    "//     a.double23(int[] nums);\n",
    "// }\n",
    "// }\n",
    "// // public static void main (String args[]) {\n",
    "// //     System.out.println(nums);\n",
    "// // }\n",
    "// Double.main(null);"
   ]
  },
  {
   "attachments": {},
   "cell_type": "markdown",
   "metadata": {},
   "source": [
    "## Hack 9\n",
    "Write a class to count how many of a number ``n`` is in a 2d array ``int[][] x``"
   ]
  },
  {
   "cell_type": "code",
   "execution_count": 22,
   "metadata": {},
   "outputs": [
    {
     "name": "stdout",
     "output_type": "stream",
     "text": [
      "2\n"
     ]
    }
   ],
   "source": [
    "// code here\n",
    "int total = 0;\n",
    "boolean check = false;\n",
    "int[][] test = new int[][] {{1, 2, 3},\n",
    "{4, 5, 6},\n",
    "{2, 1, 2}};\n",
    "for (int row = 0; row < test.length; row++) {\n",
    "    for (int col = 0; col < test[row].length; col++) {\n",
    "        if (test[row][col] == 1){\n",
    "            total++;\n",
    "        }\n",
    "        // if (check) {\n",
    "        //     total++;\n",
    "        // }\n",
    "        // if (test[col] == 5) {\n",
    "        //     total++;\n",
    "        // }\n",
    "    }\n",
    "}\n",
    "System.out.println(total);"
   ]
  },
  {
   "attachments": {},
   "cell_type": "markdown",
   "metadata": {},
   "source": [
    "# Homework!\n",
    "\n",
    "Write a seating chart program for your group. Meet the following requirements:\n",
    "- A 2D array, array, or ArrayList\n",
    "- A minimum of 3 methods to manipulate the seating chart (ex. alphabetize, shuffle seats, add/replace/delete people)\n",
    "- Print results"
   ]
  },
  {
   "cell_type": "code",
   "execution_count": 3,
   "metadata": {},
   "outputs": [
    {
     "name": "stdout",
     "output_type": "stream",
     "text": [
      "------\n",
      "Added names: \n",
      "------\n",
      "Jun\n",
      "Nathan\n",
      "Rohit\n",
      "Everitt\n",
      "Samuel\n",
      "Sahil\n",
      "Ellen\n",
      "Iris\n",
      "Bailey\n",
      "Don\n",
      "Hetvi\n",
      "Evan\n",
      "------\n",
      "Alphabetized: \n",
      "------\n",
      "Bailey\n",
      "Don\n",
      "Ellen\n",
      "Evan\n",
      "Everitt\n",
      "Hetvi\n",
      "Iris\n",
      "Jun\n",
      "Nathan\n",
      "Rohit\n",
      "Sahil\n",
      "Samuel\n",
      "------\n",
      "Removing odd elements: \n",
      "------\n",
      "Don\n",
      "Evan\n",
      "Hetvi\n",
      "Jun\n",
      "Rohit\n",
      "Samuel\n"
     ]
    }
   ],
   "source": [
    "import java.util.Comparator;\n",
    "\n",
    "public class SeatingChart {\n",
    "    ArrayList<String> seatingChart = new ArrayList<>();\n",
    "    public SeatingChart() {\n",
    "        this.seatingChart = seatingChart;\n",
    "    }\n",
    "    public void addNames() {\n",
    "        seatingChart.add(\"Jun\");\n",
    "        seatingChart.add(\"Nathan\");\n",
    "        seatingChart.add(\"Rohit\");\n",
    "        seatingChart.add(\"Everitt\");\n",
    "        seatingChart.add(\"Samuel\");\n",
    "        seatingChart.add(\"Sahil\");\n",
    "        seatingChart.add(\"Ellen\");\n",
    "        seatingChart.add(\"Iris\");\n",
    "        seatingChart.add(\"Bailey\");\n",
    "        seatingChart.add(\"Don\");\n",
    "        seatingChart.add(\"Hetvi\");\n",
    "        seatingChart.add(\"Evan\");\n",
    "    }\n",
    "    public void alphabetize() {\n",
    "        seatingChart.sort(Comparator.naturalOrder());\n",
    "    }\n",
    "    public void removeOddElements() {\n",
    "        for (int i = 0; i < seatingChart.size(); i ++) {\n",
    "            seatingChart.remove(seatingChart.get(i)); //this is why removeAll() exists\n",
    "        }\n",
    "    }\n",
    "    public void printArrayList() {\n",
    "        // seats.addNames();\n",
    "        for (String name : seatingChart) {\n",
    "            System.out.println(name);\n",
    "        }\n",
    "        // for (int i = 0; i < seatingChart.size(); i++) {\n",
    "        //     System.out.print(seatingChart.get(i) + \", \");\n",
    "        // }\n",
    "    }\n",
    "    public static void main (String args[]) {\n",
    "        SeatingChart seats = new SeatingChart();\n",
    "        System.out.println(\"------\");\n",
    "        System.out.println(\"Added names: \");\n",
    "        System.out.println(\"------\");\n",
    "        seats.addNames();\n",
    "        seats.printArrayList();\n",
    "        System.out.println(\"------\");\n",
    "        System.out.println(\"Alphabetized: \");\n",
    "        System.out.println(\"------\");\n",
    "        seats.alphabetize();\n",
    "        seats.printArrayList();\n",
    "        System.out.println(\"------\");\n",
    "        System.out.println(\"Removing odd elements: \");\n",
    "        System.out.println(\"------\");\n",
    "        seats.removeOddElements();\n",
    "        seats.printArrayList();\n",
    "        // System.out.println()\n",
    "        // System.out.println(SeatingChart.toString(seatingChart));\n",
    "    }\n",
    "}\n",
    "SeatingChart.main(null);"
   ]
  }
 ],
 "metadata": {
  "kernelspec": {
   "display_name": "Java",
   "language": "java",
   "name": "java"
  },
  "language_info": {
   "codemirror_mode": "java",
   "file_extension": ".jshell",
   "mimetype": "text/x-java-source",
   "name": "java",
   "pygments_lexer": "java",
   "version": "11.0.16+8-post-Ubuntu-0ubuntu120.04"
  },
  "orig_nbformat": 4
 },
 "nbformat": 4,
 "nbformat_minor": 2
}
