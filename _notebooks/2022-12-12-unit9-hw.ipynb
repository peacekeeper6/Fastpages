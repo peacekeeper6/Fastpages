{
 "cells": [
  {
   "attachments": {},
   "cell_type": "markdown",
   "metadata": {},
   "source": [
    "# Unit 9 Inheritance\n",
    "> Inheritance\n",
    "\n",
    "- toc: true\n",
    "- badges: true\n",
    "- comments: true\n",
    "- categories: [java]\n",
    "- image: images/Java-Logo.png"
   ]
  },
  {
   "attachments": {},
   "cell_type": "markdown",
   "metadata": {},
   "source": [
    "# Notes\n",
    "- Superclasses can be used to extend inheritance to various subclasses\n",
    "- Use keyword super() to call the superclass if you want a subclass to inherit the characteristics of a superclass\n",
    "- Use @Override to indicate that you're overriding a method of the super class\n",
    "- Inheritance hierarchy - superclasses and subclasses generally organized into a single root tree structure. Attributes and methods that are associated with a specific class are inherited by lower levels of the hierarchy\n",
    "- Polymorphism is something that can be used when we have multiple classes that are related by inheritance. Used when a method is implemented to perform different different tasks in different classes. Allows a method to take on different \"forms\" based on the object is it acting upon\n",
    "- Superclass is the class that is located at the top of the every class hierarchy"
   ]
  },
  {
   "attachments": {},
   "cell_type": "markdown",
   "metadata": {},
   "source": [
    "1)  Create a world cup superclass with properties of your choice and subclasses for five teams which inherits those properties\n",
    "2) Write a constructor for one of those subclasses"
   ]
  },
  {
   "cell_type": "code",
   "execution_count": 40,
   "metadata": {
    "vscode": {
     "languageId": "java"
    }
   },
   "outputs": [
    {
     "name": "stdout",
     "output_type": "stream",
     "text": [
      "Team name: France, Goals: 11, Wins: 2, Winning it all (in boolean value): 1\n",
      "Team name: Argentina, Goals: 12, Wins: 3, Winning it all (in boolean value): 0\n",
      "Team name: Morocco, Goals: 5, Wins: 2, Winning it all (in boolean value): 0\n",
      "Team name: Croatia, Goals: 6, Wins: 2, Winning it all (in boolean value): 0\n",
      "Team name: South Korea, Goals: 1, Wins: 0, Winning it all (in boolean value): 0\n"
     ]
    }
   ],
   "source": [
    "public class WorldCup {\n",
    "    public int goals;\n",
    "    public int wins;\n",
    "    public int booleanWinningItAll;\n",
    "\n",
    "    public WorldCup (int goals, int wins, int booleanWinningItAll) {\n",
    "        this.goals = goals;\n",
    "        this.wins = wins;\n",
    "        this.booleanWinningItAll = booleanWinningItAll;\n",
    "    }\n",
    "\n",
    "    public String toString(){\n",
    "        return \"Goals: \" + this.goals + \n",
    "        \", Wins: \" + this.wins + \n",
    "        \", Winning it all (in boolean value): \" + this.booleanWinningItAll;\n",
    "    }\n",
    "}\n",
    "\n",
    "public class France extends WorldCup {\n",
    "    public France (int goals, int wins, int booleanWinningItAll) {\n",
    "        super(goals, wins, booleanWinningItAll);\n",
    "    }\n",
    "}\n",
    "\n",
    "public class Argentina extends WorldCup {\n",
    "    public Argentina (int goals, int wins, int booleanWinningItAll) {\n",
    "        super(goals, wins, booleanWinningItAll);\n",
    "    }\n",
    "}\n",
    "\n",
    "public class Morocco extends WorldCup {\n",
    "    public Morocco (int goals, int wins, int booleanWinningItAll) {\n",
    "        super(goals, wins, booleanWinningItAll);\n",
    "    }\n",
    "}\n",
    "\n",
    "public class Croatia extends WorldCup {\n",
    "    public Croatia (int goals, int wins, int booleanWinningItAll) {\n",
    "        super(goals, wins, booleanWinningItAll);\n",
    "    }\n",
    "}\n",
    "\n",
    "public class SouthKorea extends WorldCup {\n",
    "    public SouthKorea (int goals, int wins, int booleanWinningItAll) {\n",
    "        super(goals, wins, booleanWinningItAll);\n",
    "    }\n",
    "}\n",
    "\n",
    "public class Tester {\n",
    "    public static void Main(String[] args) {\n",
    "        France france = new France(11, 2, 1);\n",
    "        System.out.println(\"Team name: France, \" + france);\n",
    "\n",
    "        Argentina argentina = new Argentina(12, 3, 0);\n",
    "        System.out.println(\"Team name: Argentina, \" + argentina);\n",
    "\n",
    "        Morocco morocco = new Morocco(5, 2, 0);\n",
    "        System.out.println(\"Team name: Morocco, \" + morocco);\n",
    "\n",
    "        Croatia croatia = new Croatia(6, 2, 0);\n",
    "        System.out.println(\"Team name: Croatia, \" + croatia);\n",
    "\n",
    "        SouthKorea southkorea = new SouthKorea(1, 0, 0);\n",
    "        System.out.println(\"Team name: South Korea, \" + southkorea);\n",
    "    }\n",
    "}\n",
    "\n",
    "Tester.Main(null);"
   ]
  }
 ],
 "metadata": {
  "kernelspec": {
   "display_name": "Java",
   "language": "java",
   "name": "java"
  },
  "language_info": {
   "codemirror_mode": "java",
   "file_extension": ".jshell",
   "mimetype": "text/x-java-source",
   "name": "Java",
   "pygments_lexer": "java",
   "version": "11.0.16+8-post-Ubuntu-0ubuntu120.04"
  },
  "orig_nbformat": 4
 },
 "nbformat": 4,
 "nbformat_minor": 2
}
