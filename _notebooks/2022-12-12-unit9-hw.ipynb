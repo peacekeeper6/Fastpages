{
 "cells": [
  {
   "attachments": {},
   "cell_type": "markdown",
   "metadata": {},
   "source": [
    "# Unit 9 Inheritance\n",
    "> Inheritance\n",
    "\n",
    "- toc: true\n",
    "- badges: true\n",
    "- comments: true\n",
    "- categories: [java]\n",
    "- image: images/Java-Logo.png"
   ]
  },
  {
   "attachments": {},
   "cell_type": "markdown",
   "metadata": {},
   "source": [
    "# Notes\n",
    "- Superclasses can be used to extend inheritance to various subclasses\n",
    "- Use keyword super() to call the superclass if you want a subclass to inherit the characteristics of a superclass\n",
    "- Use @Override to indicate that you're overriding a method of the super class\n",
    "- Inheritance hierarchy - superclasses and subclasses generally organized into a single root tree structure. Attributes and methods that are associated with a specific class are inherited by lower levels of the hierarchy\n",
    "- Polymorphism is something that can be used when we have multiple classes that are related by inheritance. Used when a method is implemented to perform different different tasks in different classes. Allows a method to take on different \"forms\" based on the object is it acting upon\n",
    "- Superclass is the class that is located at the top of the every class hierarchy"
   ]
  },
  {
   "attachments": {},
   "cell_type": "markdown",
   "metadata": {},
   "source": [
    "1)  Create a world cup superclass with properties of your choice and subclasses for five teams which inherits those properties\n",
    "2) Write a constructor for one of those subclasses"
   ]
  },
  {
   "cell_type": "code",
   "execution_count": 21,
   "metadata": {},
   "outputs": [
    {
     "ename": "CompilationException",
     "evalue": "",
     "output_type": "error",
     "traceback": [
      "\u001b[1m\u001b[30m|   \u001b[1m\u001b[30m        Argentina(\u001b[0m\u001b[1m\u001b[30m\u001b[41mwinningItAll\u001b[0m\u001b[1m\u001b[30m);\u001b[0m",
      "\u001b[1m\u001b[31mnon-static variable winningItAll cannot be referenced from a static context\u001b[0m",
      "",
      "\u001b[1m\u001b[30m|   \u001b[1m\u001b[30m        \u001b[0m\u001b[1m\u001b[30m\u001b[41mArgentina\u001b[0m\u001b[1m\u001b[30m(winningItAll);\u001b[0m",
      "\u001b[1m\u001b[31mnon-static method Argentina(boolean) cannot be referenced from a static context\u001b[0m",
      "",
      "\u001b[1m\u001b[30m|   \u001b[1m\u001b[30m        \u001b[0m\u001b[1m\u001b[30m\u001b[41mFrance\u001b[0m\u001b[1m\u001b[30m();\u001b[0m",
      "\u001b[1m\u001b[31mnon-static method France() cannot be referenced from a static context\u001b[0m",
      "",
      "\u001b[1m\u001b[30m|   \u001b[1m\u001b[30m        \u001b[0m\u001b[1m\u001b[30m\u001b[41mMorocco\u001b[0m\u001b[1m\u001b[30m();\u001b[0m",
      "\u001b[1m\u001b[31mnon-static method Morocco() cannot be referenced from a static context\u001b[0m",
      "",
      "\u001b[1m\u001b[30m|   \u001b[1m\u001b[30m        \u001b[0m\u001b[1m\u001b[30m\u001b[41mCroatia\u001b[0m\u001b[1m\u001b[30m();\u001b[0m",
      "\u001b[1m\u001b[31mnon-static method Croatia() cannot be referenced from a static context\u001b[0m",
      "",
      "\u001b[1m\u001b[30m|   \u001b[1m\u001b[30m        \u001b[0m\u001b[1m\u001b[30m\u001b[41mSouthKorea\u001b[0m\u001b[1m\u001b[30m();\u001b[0m",
      "\u001b[1m\u001b[31mnon-static method SouthKorea() cannot be referenced from a static context\u001b[0m",
      ""
     ]
    }
   ],
   "source": [
    "public class worldCup {\n",
    "    public String tournamentLocation;\n",
    "    public int year;\n",
    "    boolean stillPlaying;\n",
    "    boolean winningItAll;\n",
    "\n",
    "    public void Argentina(boolean winningItAll) {\n",
    "        this.winningItAll = winningItAll;\n",
    "        winningItAll = true;\n",
    "        System.out.println(\"Argentina is the best team still remaining. It is \" + winningItAll + \" that they are winning it all\");\n",
    "    }\n",
    "    public void France() {\n",
    "        System.out.println(\"France is a very good team that is still remaining in the tournament\");\n",
    "    }\n",
    "    public void Morocco() {\n",
    "        System.out.println(\"Morocco has had an incredible run to make it to the semi-finals\");\n",
    "    }\n",
    "    public void Croatia() {\n",
    "        System.out.println(\"Croatia is a very good team that is still remaining in the tournament\");\n",
    "    }\n",
    "    public void SouthKorea() {\n",
    "        System.out.println(\"South Korea is no longer in the tournament after losing to the previous favorites Brazil\");\n",
    "    }\n",
    "    \n",
    "    public static void Main(String[] args) {\n",
    "        Argentina(winningItAll);\n",
    "        France();\n",
    "        Morocco();\n",
    "        Croatia();\n",
    "        SouthKorea();\n",
    "    }\n",
    "}\n",
    "worldCup.Main(null);\n",
    "// worldCup.Argentina(winningItAll);\n",
    "// worldCup.France(null);\n",
    "// worldCup.Morocco(null);\n",
    "// worldCup.Croatia(null);\n",
    "// worldCup.SouthKorea(null);"
   ]
  }
 ],
 "metadata": {
  "kernelspec": {
   "display_name": "Java",
   "language": "java",
   "name": "java"
  },
  "language_info": {
   "codemirror_mode": "java",
   "file_extension": ".jshell",
   "mimetype": "text/x-java-source",
   "name": "java",
   "pygments_lexer": "java",
   "version": "11.0.16+8-post-Ubuntu-0ubuntu120.04"
  },
  "orig_nbformat": 4
 },
 "nbformat": 4,
 "nbformat_minor": 2
}
