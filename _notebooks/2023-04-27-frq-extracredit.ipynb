{
 "cells": [
  {
   "attachments": {},
   "cell_type": "markdown",
   "metadata": {},
   "source": [
    "# 2018 FRQ\n",
    "> Extra Credit\n",
    "\n",
    "- toc: true\n",
    "- badges: true\n",
    "- comments: true\n",
    "- categories: [homework]\n",
    "- image: my_icons/Java-Logo.PNG"
   ]
  },
  {
   "attachments": {},
   "cell_type": "markdown",
   "metadata": {},
   "source": [
    "# Question 1"
   ]
  },
  {
   "attachments": {},
   "cell_type": "markdown",
   "metadata": {},
   "source": [
    "## Part A"
   ]
  },
  {
   "cell_type": "code",
   "execution_count": null,
   "metadata": {},
   "outputs": [],
   "source": [
    "public class FrogSimulation {\n",
    "    private int goalDistance;\n",
    "    private int maxHops;\n",
    "\n",
    "    public FrogSimulation(int dist, int numHops) {\n",
    "        goalDistance = dist;\n",
    "        maxHops = numHops;\n",
    "    }\n",
    "\n",
    "    private int hopDistance() {\n",
    "    \n",
    "    }\n",
    "\n",
    "    public boolean simulate() { //part A\n",
    "        if (hopDistance() >= dist && numHops < maxHops) {\n",
    "            return true;\n",
    "        }\n",
    "        return false;\n",
    "    }\n",
    "\n",
    "    public double runSimulations(int num) {\n",
    "\n",
    "    }\n",
    "}"
   ]
  },
  {
   "attachments": {},
   "cell_type": "markdown",
   "metadata": {},
   "source": [
    "test"
   ]
  },
  {
   "cell_type": "code",
   "execution_count": 25,
   "metadata": {},
   "outputs": [
    {
     "name": "stdout",
     "output_type": "stream",
     "text": [
      "-----\n",
      "comparing hi and hi\n",
      "-----\n",
      "0\n",
      "-----\n",
      "comparing hi and hello\n",
      "-----\n",
      "4\n",
      "-----\n",
      "comparing hi and gi\n",
      "-----\n",
      "1\n",
      "-----\n",
      "comparing hi and ii\n",
      "-1\n",
      "-----\n",
      "comparing hello and hillo\n",
      "-----\n",
      "-4\n",
      "-----\n",
      "comparing hi and he\n",
      "-----\n",
      "4\n"
     ]
    }
   ],
   "source": [
    "import java.lang.String;\n",
    "\n",
    "public class CompareTo {\n",
    "\n",
    "    // public CompareTo(String a, String b, String c, String d, String e, String f) {\n",
    "    //     this.a = a;\n",
    "    //     this.b = b;\n",
    "    //     this.c = c;\n",
    "    //     this.d = d;\n",
    "    //     this.e = e;\n",
    "    //     this.f = f;\n",
    "    // }\n",
    "    // public void setValues() {\n",
    "    //     a = \"hi\";\n",
    "    //     b = \"hi\";\n",
    "    //     c = \"hello\";\n",
    "    //     d = \"gi\";\n",
    "    //     e = \"ii\";\n",
    "    //     f = \"hillo\";\n",
    "    // }\n",
    "    public static void main(String args[]) {\n",
    "        String a = \"hi\";\n",
    "        String b = \"hi\";\n",
    "        String c = \"hello\";\n",
    "        String d = \"gi\";\n",
    "        String e = \"ii\";\n",
    "        String f = \"hillo\";\n",
    "        String g = \"he\";\n",
    "        // CompareTo a = new CompareTo();\n",
    "        // CompareTo b = new CompareTo();\n",
    "        // CompareTo c = new CompareTo();\n",
    "        // CompareTo d = new CompareTo();\n",
    "        // CompareTo e = new CompareTo();\n",
    "        // CompareTo f = new CompareTo();\n",
    "        // a.setValues();\n",
    "        // b.setValues();\n",
    "        // c.setValues();\n",
    "        // d.setValues();\n",
    "        // e.setValues();\n",
    "        // f.setValues();\n",
    "        System.out.println(\"-----\");\n",
    "        System.out.println(\"comparing hi and hi\");\n",
    "        System.out.println(\"-----\");\n",
    "        System.out.println(a.compareTo(b));\n",
    "        System.out.println(\"-----\");\n",
    "        System.out.println(\"comparing hi and hello\");\n",
    "        System.out.println(\"-----\");\n",
    "        System.out.println(a.compareTo(c));\n",
    "        System.out.println(\"-----\");\n",
    "        System.out.println(\"comparing hi and gi\");\n",
    "        System.out.println(\"-----\");\n",
    "        System.out.println(a.compareTo(d));\n",
    "        System.out.println(\"-----\");\n",
    "        System.out.println(\"comparing hi and ii\");\n",
    "        System.out.println(a.compareTo(e));\n",
    "        System.out.println(\"-----\");\n",
    "        System.out.println(\"comparing hello and hillo\");\n",
    "        System.out.println(\"-----\");\n",
    "        System.out.println(c.compareTo(f));\n",
    "        System.out.println(\"-----\");\n",
    "        System.out.println(\"comparing hi and he\");\n",
    "        System.out.println(\"-----\");\n",
    "        System.out.println(a.compareTo(g));\n",
    "    }\n",
    "}\n",
    "CompareTo.main(null);"
   ]
  },
  {
   "cell_type": "code",
   "execution_count": 27,
   "metadata": {},
   "outputs": [
    {
     "name": "stdout",
     "output_type": "stream",
     "text": [
      "9\n",
      "5\n",
      "6\n",
      "20.0\n"
     ]
    }
   ],
   "source": [
    "int a = 3 + 2 * 3;\n",
    "\n",
    "int b = 4 + 3 / 2;\n",
    "\n",
    "int c = 7 % 4 + 3;\n",
    "\n",
    "double d = a + b + c;\n",
    "\n",
    "System.out.println(a);\n",
    "System.out.println(b);\n",
    "System.out.println(c);\n",
    "System.out.println(d);"
   ]
  },
  {
   "attachments": {},
   "cell_type": "markdown",
   "metadata": {},
   "source": [
    "# Casting Operator"
   ]
  },
  {
   "cell_type": "code",
   "execution_count": 30,
   "metadata": {},
   "outputs": [
    {
     "name": "stdout",
     "output_type": "stream",
     "text": [
      "20\n"
     ]
    }
   ],
   "source": [
    "public class Sample {\n",
    "    public static void main(String args[]) {\n",
    "       double d = 20.3;\n",
    "       int i = (int)d;\n",
    "       System.out.println(i);\n",
    "    }\n",
    " }\n",
    "Sample.main(null);"
   ]
  }
 ],
 "metadata": {
  "kernelspec": {
   "display_name": "Java",
   "language": "java",
   "name": "java"
  },
  "language_info": {
   "codemirror_mode": "java",
   "file_extension": ".jshell",
   "mimetype": "text/x-java-source",
   "name": "java",
   "pygments_lexer": "java",
   "version": "11.0.16+8-post-Ubuntu-0ubuntu120.04"
  },
  "orig_nbformat": 4
 },
 "nbformat": 4,
 "nbformat_minor": 2
}
