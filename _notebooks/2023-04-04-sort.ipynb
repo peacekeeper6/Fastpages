{
 "cells": [
  {
   "attachments": {},
   "cell_type": "markdown",
   "metadata": {},
   "source": [
    "# Checkpoint #3\n",
    "> Sorts\n",
    "\n",
    "- toc: true\n",
    "- badges: true\n",
    "- comments: true\n",
    "- categories: [quiz]\n",
    "- image: my_icons/Java-Logo.PNG"
   ]
  },
  {
   "cell_type": "code",
   "execution_count": 2,
   "metadata": {
    "vscode": {
     "languageId": "java"
    }
   },
   "outputs": [
    {
     "name": "stdout",
     "output_type": "stream",
     "text": [
      "1 \n",
      "2 \n",
      "3 \n",
      "4 \n",
      "5 \n",
      "5 \n",
      "6 \n",
      "7 \n",
      "9 \n",
      "\n"
     ]
    }
   ],
   "source": [
    "\n",
    "public class Sorts {\n",
    "    public void insertionSort(int numArray[]) {\n",
    "       for (int i = 1; i < numArray.length; i++) {\n",
    "        int key = numArray[i];\n",
    "        int j = i - 1;\n",
    "\n",
    "        while (j >= 0 && numArray[j] > key) {\n",
    "            numArray[j + 1] = numArray[j];\n",
    "            j = j - 1;\n",
    "        }\n",
    "        numArray[j + 1] = key;\n",
    "       }\n",
    "    }\n",
    "    public void toString(int numArray[]) {\n",
    "        for (int i = 0; i < numArray.length; i++) {\n",
    "            System.out.println(numArray[i] + \" \");\n",
    "        }\n",
    "        System.out.println();\n",
    "    }\n",
    "    public static void main(String args[]) {\n",
    "        int[] numArray = {5, 2, 4, 3, 1, 5, 9, 7, 6};\n",
    "        Sorts sorts = new Sorts();\n",
    "        sorts.insertionSort(numArray);\n",
    "        sorts.toString(numArray);\n",
    "    }\n",
    "}\n",
    "Sorts.main(null);"
   ]
  }
 ],
 "metadata": {
  "kernelspec": {
   "display_name": "Java",
   "language": "java",
   "name": "java"
  },
  "language_info": {
   "codemirror_mode": "java",
   "file_extension": ".jshell",
   "mimetype": "text/x-java-source",
   "name": "Java",
   "pygments_lexer": "java",
   "version": "11.0.16+8-post-Ubuntu-0ubuntu120.04"
  },
  "orig_nbformat": 4
 },
 "nbformat": 4,
 "nbformat_minor": 2
}
