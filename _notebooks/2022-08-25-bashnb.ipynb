{
 "cells": [
  {
   "cell_type": "markdown",
   "metadata": {},
   "source": [
    "# Bash Notebook\n",
    "> To demonstrate my Bash learning\n",
    "\n",
    "- toc: true\n",
    "- badges: true\n",
    "- comments: true\n",
    "- categories: [bash]\n",
    "- image: images/bashs.png"
   ]
  },
  {
   "cell_type": "markdown",
   "metadata": {},
   "source": [
    "Hack 1 - Verifying tool installation"
   ]
  },
  {
   "cell_type": "code",
   "execution_count": 10,
   "metadata": {
    "vscode": {
     "languageId": "shellscript"
    }
   },
   "outputs": [
    {
     "name": "stdout",
     "output_type": "stream",
     "text": [
      "Verifying tools...\n",
      "Python3 version:\n",
      "Python 3.9.12\n",
      "Pip version:\n",
      "pip 21.2.4 from /home/junlim954/anaconda3/lib/python3.9/site-packages/pip (python 3.9)\n",
      "Python2 version:\n",
      "Python 2.7.18\n",
      "Java version:\n",
      "openjdk 11.0.16 2022-07-19\n",
      "OpenJDK Runtime Environment (build 11.0.16+8-post-Ubuntu-0ubuntu120.04)\n",
      "OpenJDK 64-Bit Server VM (build 11.0.16+8-post-Ubuntu-0ubuntu120.04, mixed mode, sharing)\n",
      "Javac version:\n",
      "javac 11.0.16\n",
      "Tool verification done\n"
     ]
    }
   ],
   "source": [
    "echo \"Verifying tools...\"\n",
    "echo \"Python3 version:\"\n",
    "python3 --version\n",
    "echo \"Pip version:\"\n",
    "pip --version\n",
    "echo \"Python2 version:\"\n",
    "python2 --version\n",
    "echo \"Java version:\"\n",
    "java --version\n",
    "echo \"Javac version:\"\n",
    "javac --version\n",
    "echo \"Tool verification done\""
   ]
  },
  {
   "cell_type": "markdown",
   "metadata": {},
   "source": [
    "Hack 2 - Verification with Anaconda"
   ]
  },
  {
   "cell_type": "code",
   "execution_count": 8,
   "metadata": {
    "vscode": {
     "languageId": "shellscript"
    }
   },
   "outputs": [
    {
     "name": "stdout",
     "output_type": "stream",
     "text": [
      "Checking directory...\n",
      "/home/junlim954\n",
      "Listing files...\n",
      "\u001b[0m\u001b[01;32mAnaconda3-2022.05-Linux-x86_64.sh\u001b[0m    \u001b[01;34manaconda3\u001b[0m        \u001b[01;34mspring-portfolio\u001b[0m\n",
      "Anaconda3-2022.05-Linux-x86_64.sh.1  \u001b[01;31mijava-1.3.0.zip\u001b[0m  \u001b[01;34mvscode\u001b[0m\n",
      "Anaconda3-2022.05-Linux-x86_64.sh.2  install.py\n",
      "Anaconda3-2022.05-Linux-x86_64.sh.3  \u001b[01;34mjava\u001b[0m\n",
      "Anaconda version:\n",
      "conda 4.13.0\n",
      "Npm version:\n",
      "3.10.10\n",
      "Available kernels:\n",
      "  bash          /home/junlim954/.local/share/jupyter/kernels/bash\n",
      "  java          /home/junlim954/.local/share/jupyter/kernels/java\n",
      "  javascript    /home/junlim954/.local/share/jupyter/kernels/javascript\n",
      "  python3       /home/junlim954/.local/share/jupyter/kernels/python3\n"
     ]
    }
   ],
   "source": [
    "echo \"Checking directory...\"\n",
    "pwd\n",
    "echo \"Listing files...\"\n",
    "ls\n",
    "echo \"Anaconda version:\"\n",
    "conda --version\n",
    "echo \"Npm version:\"\n",
    "npm -version\n",
    "jupyter kernelspec list"
   ]
  },
  {
   "cell_type": "markdown",
   "metadata": {},
   "source": [
    "Hack 3 - Updating a Repository"
   ]
  },
  {
   "cell_type": "code",
   "execution_count": 1,
   "metadata": {
    "vscode": {
     "languageId": "shellscript"
    }
   },
   "outputs": [
    {
     "name": "stdout",
     "output_type": "stream",
     "text": [
      "Checking remote...\n",
      "fatal: not a git repository (or any of the parent directories): .git\n",
      "Pulling...\n",
      "fatal: not a git repository (or any of the parent directories): .git\n",
      "Staging changes...\n",
      "fatal: not a git repository (or any of the parent directories): .git\n",
      "fatal: not a git repository (or any of the parent directories): .git\n",
      "Committing changes...\n",
      "fatal: not a git repository (or any of the parent directories): .git\n",
      "fatal: not a git repository (or any of the parent directories): .git\n"
     ]
    },
    {
     "ename": "",
     "evalue": "128",
     "output_type": "error",
     "traceback": []
    }
   ],
   "source": [
    "cd\n",
    "echo \"Checking remote...\"\n",
    "git remote -v\n",
    "echo \"Pulling...\"\n",
    "git pull\n",
    "echo \"Staging changes...\"\n",
    "git add .\n",
    "git status\n",
    "echo \"Committing changes...\"\n",
    "git commit -a\n",
    "git push"
   ]
  },
  {
   "cell_type": "markdown",
   "metadata": {},
   "source": [
    "Hack 4 - Automating package installation process"
   ]
  },
  {
   "cell_type": "code",
   "execution_count": 64,
   "metadata": {
    "vscode": {
     "languageId": "shellscript"
    }
   },
   "outputs": [
    {
     "name": "stdout",
     "output_type": "stream",
     "text": [
      "[sudo] password for junlim954: \n"
     ]
    }
   ],
   "source": [
    "# failed attempt\n",
    "cd \n",
    "# sudo apt update\n",
    "# sudo apt upgrade\n",
    "PYTHON3=$(python3 --version)\n",
    "PYTHON2=$(python2 --version)\n",
    "JAVA=$(java --version)\n",
    "JAVAC=$(javac --version)\n",
    "echo \"Checking for Python2...\"\n",
    "if [ ! -d $PYTHON2 ]\n",
    "then\n",
    "    echo \"Downloading Python2\"\n",
    "    # sudo apt install python2\n",
    "fi\n",
    "echo \"Python2 exists\"\n",
    "echo \"Checking for Python3...\"\n",
    "if [ ! -d $PYTHON3 ]\n",
    "then\n",
    "    echo \"Downloading Python3\"\n",
    "    # sudo apt install python3\n",
    "fi\n",
    "echo \"Python3 exists\"\n",
    "echo \"Checking for Java...\"\n",
    "if [ ! -d $JAVA ]\n",
    "then\n",
    "    echo \"Downloading Java\"\n",
    "    # sudo apt install default-jdk\n",
    "fi\n",
    "echo \"Java exists\"\n",
    "echo \"Checking for Javac\"\n",
    "if [ ! -d $JAVAC ]\n",
    "then \n",
    "    echo \"Downloading Javac\"\n",
    "    # sudo apt install default-jre\n",
    "fi\n",
    "# sudo apt install unzip"
   ]
  },
  {
   "cell_type": "markdown",
   "metadata": {},
   "source": [
    "Hack 5 - Automating the creating and opening of Jupyter Notebooks"
   ]
  },
  {
   "cell_type": "code",
   "execution_count": 1,
   "metadata": {
    "vscode": {
     "languageId": "shellscript"
    }
   },
   "outputs": [
    {
     "name": "stdout",
     "output_type": "stream",
     "text": [
      "2020-02-20-test.ipynb        2022-08-25-bashnb.ipynb         \u001b[0m\u001b[01;34mghtop_images\u001b[0m\n",
      "2022-08-22-javanb.ipynb      2022-08-26-test-notebook.ipynb  \u001b[01;34mmy_icons\u001b[0m\n",
      "2022-08-22-pythonnb.ipynb    2022-08-27-tests.md\n",
      "2022-08-24-primitives.ipynb  README.md\n",
      "\n",
      "Creating new notebook...\n",
      "\n",
      "2020-02-20-test.ipynb        2022-08-25-bashnb.ipynb         \u001b[0m\u001b[01;34mghtop_images\u001b[0m\n",
      "2022-08-22-javanb.ipynb      2022-08-26-test-notebook.ipynb  \u001b[01;34mmy_icons\u001b[0m\n",
      "2022-08-22-pythonnb.ipynb    2022-08-27-tests.md\n",
      "2022-08-24-primitives.ipynb  README.md\n",
      "\n",
      "Loading all notebooks...\n",
      "\n",
      "\u001b[32m[I 2022-08-27 12:22:33.999 LabApp]\u001b(B\u001b[m JupyterLab extension loaded from /home/junlim954/anaconda3/lib/python3.9/site-packages/jupyterlab\n",
      "\u001b[32m[I 2022-08-27 12:22:34.000 LabApp]\u001b(B\u001b[m JupyterLab application directory is /home/junlim954/anaconda3/share/jupyter/lab\n",
      "\u001b[32m[I 12:22:34.004 NotebookApp]\u001b(B\u001b[m Serving notebooks from local directory: /home/junlim954/vscode/fastpages/_notebooks\n",
      "\u001b[32m[I 12:22:34.004 NotebookApp]\u001b(B\u001b[m Jupyter Notebook 6.4.8 is running at:\n",
      "\u001b[32m[I 12:22:34.004 NotebookApp]\u001b(B\u001b[m http://localhost:8888/?token=c0543c7efe3bdfa6d245cbd214aeb96915d2d613bcf9b52d\n",
      "\u001b[32m[I 12:22:34.004 NotebookApp]\u001b(B\u001b[m  or http://127.0.0.1:8888/?token=c0543c7efe3bdfa6d245cbd214aeb96915d2d613bcf9b52d\n",
      "\u001b[32m[I 12:22:34.004 NotebookApp]\u001b(B\u001b[m Use Control-C to stop this server and shut down all kernels (twice to skip confirmation).\n",
      "\u001b[35m[C 12:22:34.095 NotebookApp]\u001b(B\u001b[m \n",
      "    \n",
      "    To access the notebook, open this file in a browser:\n",
      "        file:///home/junlim954/.local/share/jupyter/runtime/nbserver-3870-open.html\n",
      "    Or copy and paste one of these URLs:\n",
      "        http://localhost:8888/?token=c0543c7efe3bdfa6d245cbd214aeb96915d2d613bcf9b52d\n",
      "     or http://127.0.0.1:8888/?token=c0543c7efe3bdfa6d245cbd214aeb96915d2d613bcf9b52d\n"
     ]
    }
   ],
   "source": [
    "cd ~/vscode/fastpages/_notebooks\n",
    "ls\n",
    "echo \"\"\n",
    "echo \"Creating new notebook...\"\n",
    "echo \"\"\n",
    "file=\"2022-08-26-test-notebook.ipynb\"\n",
    "touch \"$file\"\n",
    "ls\n",
    "# echo \"Loading notebook to make edits...\"\n",
    "# nano \"$file\"\n",
    "echo \"\"\n",
    "echo \"Loading all notebooks...\"\n",
    "echo \"\"\n",
    "jupyter notebook\n",
    "exit 0"
   ]
  },
  {
   "cell_type": "code",
   "execution_count": 2,
   "metadata": {
    "vscode": {
     "languageId": "shellscript"
    }
   },
   "outputs": [
    {
     "name": "stdout",
     "output_type": "stream",
     "text": [
      "---\n",
      "title: Test Notebook\n",
      "description: I am testing making notebook\n",
      "categories: [jupyter]\n",
      "---\n",
      "# Test Notebook\n",
      "> A test notebook made using bash\n",
      "\n",
      "File listing and status\n",
      "-rw-r--r-- 1 junlim954 junlim954 280 Aug 27 12:20 2022-08-27-tests.md\n",
      " 22  53 280 2022-08-27-tests.md\n",
      "2020-02-20-test.ipynb        2022-08-25-bashnb.ipynb         \u001b[0m\u001b[01;34mghtop_images\u001b[0m\n",
      "2022-08-22-javanb.ipynb      2022-08-26-test-notebook.ipynb  \u001b[01;34mmy_icons\u001b[0m\n",
      "2022-08-22-pythonnb.ipynb    2022-08-27-tests.md\n",
      "2022-08-24-primitives.ipynb  README.md\n"
     ]
    }
   ],
   "source": [
    "# This example is more roboust\n",
    "cd ~/vscode/fastpages/_notebooks\n",
    "\n",
    "file=\"2022-08-27-tests.md\"\n",
    "if [ -f \"$file\" ] || [ -e \"$file\"]; then\n",
    "    rm $file\n",
    "fi\n",
    "\n",
    "tee -a $file <<EOF\n",
    "---\n",
    "title: Test Notebook\n",
    "description: I am testing making notebook\n",
    "categories: [jupyter]\n",
    "---\n",
    "# Test Notebook\n",
    "> A test notebook made using bash\n",
    "EOF\n",
    "\n",
    "defaults=(\"- toc: true\", \"- badges: true\", \"- comments: true\", \"- categories: [primitives]\", \"- image: images/primitivess.jpg\")\n",
    "for default in ${defaults[@]}; do\n",
    "  echo \"- $default\" >> $file\n",
    "done\n",
    "\n",
    "echo \"\"\n",
    "echo \"File listing and status\"\n",
    "ls -l $file # list file\n",
    "wc $file   # show words\n",
    "ls"
   ]
  }
 ],
 "metadata": {
  "kernelspec": {
   "display_name": "Bash",
   "language": "bash",
   "name": "bash"
  },
  "language_info": {
   "codemirror_mode": "shell",
   "file_extension": ".sh",
   "mimetype": "text/x-sh",
   "name": "bash"
  },
  "orig_nbformat": 4,
  "vscode": {
   "interpreter": {
    "hash": "916dbcbb3f70747c44a77c7bcd40155683ae19c65e1c03b4aa3499c5328201f1"
   }
  }
 },
 "nbformat": 4,
 "nbformat_minor": 2
}
