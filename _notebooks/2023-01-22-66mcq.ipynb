{
 "cells": [
  {
   "attachments": {},
   "cell_type": "markdown",
   "metadata": {},
   "source": [
    "# 66 MCQ Corrections + Reflection\n",
    "> 57/66\n",
    "\n",
    "- toc: true\n",
    "- badges: true\n",
    "- comments: true\n",
    "- categories: [quiz]\n",
    "- image: my_icons/66mcq.PNG"
   ]
  },
  {
   "attachments": {},
   "cell_type": "markdown",
   "metadata": {},
   "source": [
    "# Score\n",
    "![](my_icons/66mcq.PNG)"
   ]
  },
  {
   "attachments": {},
   "cell_type": "markdown",
   "metadata": {},
   "source": [
    "# Reflection \n",
    "- Most missed questions were about 2D Arrays and Recursion; need to look over these more\n",
    "- Also missed 2 on De'Morgan's law, but they were simple mistakes rather than something I need to study more\n",
    "- Need to look over Java methods like .indexOf() and .compareTo(). Also some of the ArrayList methods too\n",
    "- Had to take a couple breaks \n",
    "- Make sure concentration isn't broken after focusing for a handful of questions\n",
    "- After frequent breaks, this probably took me north of 3 hours to complete this. Timing will be a crucial focus moving forward"
   ]
  },
  {
   "attachments": {},
   "cell_type": "markdown",
   "metadata": {},
   "source": [
    "# Some key learnings\n",
    "- For-Each loop doesn't have the ability to change the elements in an ArrayList (Java) or arrays (other languages), while for loop does\n",
    "- If a question asks about compile time error, it's literally impossible for the answer to be multiple lines of code\n",
    "- Removing an index of an array will shift all of the elements over (ex. remove data[0] then data[1] is now data[0] and so on)\n",
    "- compareTo() method: returns 0 if strings are equal, returns < 0 if string is less than other string (if comparing characters like \"g\" and \"f\", then \"g\" is lexicographically \"lower\" than \"f\"), returns > 0 if string is more than other string (either more characters or if comparing characters the string that is doing the comparing comes before in the alphabet)\n",
    "- indexOf() method returns position of the first occurrence of the specified characters in a string <- IMPORTANT \n",
    "- If a superclass is made with a class that has the same name as it, it doesn't need a return type\n",
    "- Extends vs. Implements: Extends is used to extend a class's functionality, while Implements is when you are using the elements of a class. {Here is good example: class extends class, class implements interface, interface extends interface}\n",
    "- Even if a method has void attached to it but has a return statement in its body, it will still compile\n",
    "- Mutator method changes a private value without returning anything, while Accessor method returns\n",
    "\n",
    "- Closing thoughts: look over recursion, 2D arrays, don't think 1-dimensionally on the De'Morgan's Law questions "
   ]
  },
  {
   "attachments": {},
   "cell_type": "markdown",
   "metadata": {},
   "source": [
    "# Developing Algorithms Using Strings\n",
    "![](my_icons/q17v2.PNG)"
   ]
  },
  {
   "attachments": {},
   "cell_type": "markdown",
   "metadata": {},
   "source": [
    "I got this one wrong because for some reason I forgot that spaces are counted as characters in a string. Thus \"a black\" would result in the counter being incremented twice instead of once because there's a space between the \"a\" and \"b\" in black"
   ]
  },
  {
   "attachments": {},
   "cell_type": "markdown",
   "metadata": {},
   "source": [
    "# Traversing 2D Arrays\n",
    "![](my_icons/q17v2.PNG)"
   ]
  },
  {
   "attachments": {},
   "cell_type": "markdown",
   "metadata": {},
   "source": [
    "I got this one wrong because I was overthinking and didn't realize that the error was actually the fact that the loop doesn't run until the last column. I need to look over this one more."
   ]
  },
  {
   "attachments": {},
   "cell_type": "markdown",
   "metadata": {},
   "source": [
    "# Traversing 2D Arrays\n",
    "![](my_icons/q17v2.PNG)"
   ]
  },
  {
   "attachments": {},
   "cell_type": "markdown",
   "metadata": {},
   "source": [
    "I got this one wrong because I confused rows and columns. I knew that the loop wouldn't reach the final row, but this actually means that the values 1, 4, 3, and 8 are not run through the loop. 8 is the only answer choice out of these 4 options so that's the right answer "
   ]
  },
  {
   "attachments": {},
   "cell_type": "markdown",
   "metadata": {},
   "source": [
    "# Equivalent Boolean Expressions\n",
    "![](my_icons/q31v2.PNG)"
   ]
  },
  {
   "attachments": {},
   "cell_type": "markdown",
   "metadata": {},
   "source": [
    "My thought process going into this was to pretend that the NOT operator was applied to the entire statement. However, that's not what it's asking for; this wouldn't generate the right answer because it's just reversing the statement. Instead, the statement that we need is one that has the boolean value AND operator because it needs to meet two conditions "
   ]
  },
  {
   "attachments": {},
   "cell_type": "markdown",
   "metadata": {},
   "source": [
    "# If-else Statements\n",
    "![](my_icons/q37.PNG)"
   ]
  },
  {
   "attachments": {},
   "cell_type": "markdown",
   "metadata": {},
   "source": [
    "I got this wrong because I was once again focusing on applying the NOT operator to the entire logic statement instead of just breaking it down. It's obvious when you break it down that for the value to be true, it has to be both greater than 0 and less than 100, as well as having to be less than -100"
   ]
  },
  {
   "attachments": {},
   "cell_type": "markdown",
   "metadata": {},
   "source": [
    "# Array Creation and Access\n",
    "![](my_icons/q40.PNG)"
   ]
  },
  {
   "attachments": {},
   "cell_type": "markdown",
   "metadata": {},
   "source": [
    "I got this wrong because I didn't realize that having numVals returned when numVals = 0 would result in an error because the logic if statement subtracts 1 from numVals"
   ]
  },
  {
   "attachments": {},
   "cell_type": "markdown",
   "metadata": {},
   "source": [
    "# Mutator Methods\n",
    "![](my_icons/q52.PNG)"
   ]
  },
  {
   "attachments": {},
   "cell_type": "markdown",
   "metadata": {},
   "source": [
    "I got this wrong because although a return type is needed for this method, it doesn't result in a compiling error without it. Thus, the statement has to be price += subcharge because the subcharge is added onto the preexisting value of price. Regardless, this question shouldn't have a return type because it's a void mutator method, which means that it changes the value of the private variable without returning anything"
   ]
  },
  {
   "attachments": {},
   "cell_type": "markdown",
   "metadata": {},
   "source": [
    "# Recursion\n",
    "![](my_icons/q53.PNG)"
   ]
  },
  {
   "attachments": {},
   "cell_type": "markdown",
   "metadata": {},
   "source": [
    "I got this wrong because I got confused with the first recursive method. In hindsight, the second, third, and fourth options all do the same thing in a vacuum, so none of them would be the answers. Thus, the first one is the right answer because the first method exits with value 1, so if the second method were to exit with the value total, then it should be initialized at 1 to replicate this"
   ]
  },
  {
   "attachments": {},
   "cell_type": "markdown",
   "metadata": {},
   "source": [
    "# Recursion\n",
    "![](my_icons/q59.PNG)"
   ]
  },
  {
   "attachments": {},
   "cell_type": "markdown",
   "metadata": {},
   "source": [
    "I got this wrong because I thought that the loop would just exit after the target value was found. However, the question isn't necessarily asking for all of the indices that contain the value, just one of them, so this isn't necessarily the right answer. As a result, \"II only\" is the right answer because if the target value is not found, all of the indices in the array will be looped through until the last element where it becomes data[-1], resulting in a thrown ArrayIndexOutOfBoundsException"
   ]
  }
 ],
 "metadata": {
  "kernelspec": {
   "display_name": "Python 3",
   "language": "python",
   "name": "python3"
  },
  "language_info": {
   "name": "python",
   "version": "3.8.10 (default, Jun 22 2022, 20:18:18) \n[GCC 9.4.0]"
  },
  "orig_nbformat": 4,
  "vscode": {
   "interpreter": {
    "hash": "916dbcbb3f70747c44a77c7bcd40155683ae19c65e1c03b4aa3499c5328201f1"
   }
  }
 },
 "nbformat": 4,
 "nbformat_minor": 2
}
