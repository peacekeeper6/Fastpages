{
 "cells": [
  {
   "attachments": {},
   "cell_type": "markdown",
   "metadata": {},
   "source": [
    "# 66 MCQ Corrections + Reflection\n",
    "> 57/66\n",
    "\n",
    "- toc: true\n",
    "- badges: true\n",
    "- comments: true\n",
    "- categories: [quiz]\n",
    "- image: my_icons/66mcq.PNG"
   ]
  },
  {
   "attachments": {},
   "cell_type": "markdown",
   "metadata": {},
   "source": [
    "# Score\n",
    "![](my_icons/66mcq.PNG)"
   ]
  },
  {
   "attachments": {},
   "cell_type": "markdown",
   "metadata": {},
   "source": [
    "# Reflection \n",
    "- Most missed questions were about 2D Arrays and Recursion; Need to look over these more\n",
    "- Also missed 2 on De'Morgan's law, but they were simple mistakes rather than something I need to study more\n",
    "- Need to look over Java methods like .indexOf() and .compareTo()\n",
    "- Had to take a couple breaks \n",
    "- Make sure concentration isn't broken after focusing for a handful of questions"
   ]
  },
  {
   "attachments": {},
   "cell_type": "markdown",
   "metadata": {},
   "source": [
    "# Developing Algorithms Using Strings\n",
    "![](my_icons/q17v2.PNG)"
   ]
  },
  {
   "attachments": {},
   "cell_type": "markdown",
   "metadata": {},
   "source": [
    "I got this one wrong because for some reason I forgot that spaces are counted as characters in a string. Thus \"a black\" would result in the counter being incremented twice instead of once because there's a space between the \"a\" and \"b\" in black"
   ]
  },
  {
   "attachments": {},
   "cell_type": "markdown",
   "metadata": {},
   "source": [
    "# Traversing 2D Arrays\n",
    "![](my_icons/q17v2.PNG)"
   ]
  },
  {
   "attachments": {},
   "cell_type": "markdown",
   "metadata": {},
   "source": [
    "I got this one wrong because I was overthinking and didn't realize that the error was actually the fact that the loop doesn't run until the last column. I need to look over this one more."
   ]
  },
  {
   "attachments": {},
   "cell_type": "markdown",
   "metadata": {},
   "source": [
    "# Traversing 2D Arrays\n",
    "![](my_icons/q17v2.PNG)"
   ]
  },
  {
   "attachments": {},
   "cell_type": "markdown",
   "metadata": {},
   "source": [
    "I got this one wrong because I confused rows and columns. I knew that the loop wouldn't reach the final row, but this actually means that the values 1, 4, 3, and 8 are not run through the loop. 8 is the only answer choice out of these 4 options so that's the right answer "
   ]
  },
  {
   "attachments": {},
   "cell_type": "markdown",
   "metadata": {},
   "source": [
    "# Equivalent Boolean Expressions\n",
    "![](my_icons/q31v2.PNG)"
   ]
  },
  {
   "attachments": {},
   "cell_type": "markdown",
   "metadata": {},
   "source": [
    "My thought process going into this was to pretend that the NOT operator was applied to the entire statement. However, that's not what it's asking for; this wouldn't generate the right answer because it's just reversing the statement. Instead, the statement that we need is one that has the boolean value AND operator because it needs to meet two conditions "
   ]
  },
  {
   "attachments": {},
   "cell_type": "markdown",
   "metadata": {},
   "source": [
    "# If-else Statements\n",
    "![](my_icons/q37.PNG)"
   ]
  },
  {
   "attachments": {},
   "cell_type": "markdown",
   "metadata": {},
   "source": [
    "I got this wrong because I was once again focusing on applying the NOT operator to the entire logic statement instead of just breaking it down. It's obvious when you break it down that for the value to be true, it has to be both greater than 0 and less than 100, as well as having to be less than -100"
   ]
  },
  {
   "attachments": {},
   "cell_type": "markdown",
   "metadata": {},
   "source": [
    "# Array Creation and Access\n",
    "![](my_icons/q40.PNG)"
   ]
  },
  {
   "attachments": {},
   "cell_type": "markdown",
   "metadata": {},
   "source": [
    "I got this wrong because I didn't realize that having numVals returned when numVals = 0 would result in an error because the logic if statement subtracts 1 from numVals"
   ]
  },
  {
   "attachments": {},
   "cell_type": "markdown",
   "metadata": {},
   "source": [
    "# Mutator Methods\n",
    "![](my_icons/q52.PNG)"
   ]
  },
  {
   "attachments": {},
   "cell_type": "markdown",
   "metadata": {},
   "source": [
    "I got this wrong because although a return type is needed for this method, it doesn't result in a compiling error without it. Thus, the statement has to be price += subcharge because the subcharge is added onto the preexisting value of price. Regardless, this question shouldn't have a return type because it's a void mutator method, which means that it changes the value of the private variable without returning anything"
   ]
  },
  {
   "attachments": {},
   "cell_type": "markdown",
   "metadata": {},
   "source": [
    "# Recursion\n",
    "![](my_icons/q53.PNG)"
   ]
  },
  {
   "attachments": {},
   "cell_type": "markdown",
   "metadata": {},
   "source": [
    "I got this wrong because I got confused with the first recursive method. In hindsight, the second, third, and fourth options all do the same thing in a vacuum, so none of them would be the answers. Thus, the first one is the right answer because the first method exits with value 1, so if the second method were to exit with the value total, then it should be initialized at 1 to replicate this"
   ]
  },
  {
   "attachments": {},
   "cell_type": "markdown",
   "metadata": {},
   "source": [
    "# Recursion\n",
    "![](my_icons/q59.PNG)"
   ]
  },
  {
   "attachments": {},
   "cell_type": "markdown",
   "metadata": {},
   "source": [
    "I got this wrong because I thought that the loop would just exit after the target value was found. However, the question isn't necessarily asking for all of the indices that contain the value, just one of them, so this isn't necessarily the right answer. As a result, \"II only\" is the right answer because if the target value is not found, all of the indices in the array will be looped through until the last element where it becomes data[-1], resulting in a thrown ArrayIndexOutOfBoundsException"
   ]
  }
 ],
 "metadata": {
  "kernelspec": {
   "display_name": "Python 3",
   "language": "python",
   "name": "python3"
  },
  "language_info": {
   "name": "python",
   "version": "3.8.10 (default, Jun 22 2022, 20:18:18) \n[GCC 9.4.0]"
  },
  "orig_nbformat": 4,
  "vscode": {
   "interpreter": {
    "hash": "916dbcbb3f70747c44a77c7bcd40155683ae19c65e1c03b4aa3499c5328201f1"
   }
  }
 },
 "nbformat": 4,
 "nbformat_minor": 2
}
